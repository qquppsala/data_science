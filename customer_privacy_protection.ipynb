{
 "cells": [
  {
   "cell_type": "markdown",
   "metadata": {
    "toc": true
   },
   "source": [
    "<h1>Содержание<span class=\"tocSkip\"></span></h1>\n",
    "<div class=\"toc\"><ul class=\"toc-item\"><li><span><a href=\"#Загрузка-данных\" data-toc-modified-id=\"Загрузка-данных-1\"><span class=\"toc-item-num\">1&nbsp;&nbsp;</span>Загрузка данных</a></span></li><li><span><a href=\"#Умножение-матриц\" data-toc-modified-id=\"Умножение-матриц-2\"><span class=\"toc-item-num\">2&nbsp;&nbsp;</span>Умножение матриц</a></span><ul class=\"toc-item\"><li><ul class=\"toc-item\"><li><span><a href=\"#Как-связаны-параметры-линейной-регрессии-в-исходной-задаче-и-в-преобразованной?\" data-toc-modified-id=\"Как-связаны-параметры-линейной-регрессии-в-исходной-задаче-и-в-преобразованной?-2.0.1\"><span class=\"toc-item-num\">2.0.1&nbsp;&nbsp;</span>Как связаны параметры линейной регрессии в исходной задаче и в преобразованной?</a></span></li></ul></li></ul></li><li><span><a href=\"#Алгоритм-преобразования\" data-toc-modified-id=\"Алгоритм-преобразования-3\"><span class=\"toc-item-num\">3&nbsp;&nbsp;</span>Алгоритм преобразования</a></span></li><li><span><a href=\"#Проверка-алгоритма\" data-toc-modified-id=\"Проверка-алгоритма-4\"><span class=\"toc-item-num\">4&nbsp;&nbsp;</span>Проверка алгоритма</a></span></li></ul></div>"
   ]
  },
  {
   "cell_type": "markdown",
   "metadata": {},
   "source": [
    "# Защита персональных данных клиентов"
   ]
  },
  {
   "cell_type": "markdown",
   "metadata": {},
   "source": [
    "Нам нужно защитить данные клиентов страховой компании «Хоть потоп». Разработаем такой метод преобразования данных, чтобы по ним было сложно восстановить персональную информацию. Обоснуем корректность его работы.\n",
    "\n",
    "Нужно защитить данные, чтобы при преобразовании качество моделей машинного обучения не ухудшилось. Подбирать наилучшую модель не требуется.\n",
    "\n",
    "Набор данных находится в файле /datasets/insurance.csv.\n",
    "\n",
    "- Признаки: пол, возраст и зарплата застрахованного, количество членов его семьи.\n",
    "- Целевой признак: количество страховых выплат клиенту за последние 5 лет."
   ]
  },
  {
   "cell_type": "markdown",
   "metadata": {},
   "source": [
    "## Загрузка данных"
   ]
  },
  {
   "cell_type": "code",
   "execution_count": 2,
   "metadata": {},
   "outputs": [
    {
     "data": {
      "text/html": [
       "<style>.container { width:90% !important; }</style>"
      ],
      "text/plain": [
       "<IPython.core.display.HTML object>"
      ]
     },
     "metadata": {},
     "output_type": "display_data"
    }
   ],
   "source": [
    "# импортируем необходимые библиотеки\n",
    "\n",
    "from IPython.core.display import display, HTML\n",
    "display(HTML(\"<style>.container { width:90% !important; }</style>\"))\n",
    "import pandas as pd\n",
    "from sklearn.model_selection import train_test_split\n",
    "from sklearn.preprocessing import StandardScaler\n",
    "from sklearn.linear_model import LinearRegression\n",
    "from sklearn.metrics import r2_score\n",
    "import numpy as np\n",
    "from numpy.linalg import inv"
   ]
  },
  {
   "cell_type": "code",
   "execution_count": 3,
   "metadata": {},
   "outputs": [
    {
     "name": "stdout",
     "output_type": "stream",
     "text": [
      "<class 'pandas.core.frame.DataFrame'>\n",
      "RangeIndex: 5000 entries, 0 to 4999\n",
      "Data columns (total 5 columns):\n",
      "Пол                  5000 non-null int64\n",
      "Возраст              5000 non-null float64\n",
      "Зарплата             5000 non-null float64\n",
      "Члены семьи          5000 non-null int64\n",
      "Страховые выплаты    5000 non-null int64\n",
      "dtypes: float64(2), int64(3)\n",
      "memory usage: 195.4 KB\n",
      "None\n",
      "\n",
      "   Пол  Возраст  Зарплата  Члены семьи  Страховые выплаты\n",
      "0    1     41.0   49600.0            1                  0\n",
      "1    0     46.0   38000.0            1                  1\n",
      "2    0     29.0   21000.0            0                  0\n",
      "3    0     21.0   41700.0            2                  0\n",
      "4    1     28.0   26100.0            0                  0\n",
      "5    1     43.0   41000.0            2                  1\n",
      "6    1     39.0   39700.0            2                  0\n",
      "7    1     25.0   38600.0            4                  0\n",
      "8    1     36.0   49700.0            1                  0\n",
      "9    1     32.0   51700.0            1                  0\n",
      "\n",
      "153\n"
     ]
    }
   ],
   "source": [
    "df = pd.read_csv('https://code.s3.yandex.net/datasets/insurance.csv')\n",
    "def info(data):\n",
    "    print(data.info())\n",
    "    print()\n",
    "    print(data.head(10))\n",
    "    print()\n",
    "    print(data.duplicated().sum())\n",
    "info(df)"
   ]
  },
  {
   "cell_type": "markdown",
   "metadata": {},
   "source": [
    "# Вывод"
   ]
  },
  {
   "cell_type": "markdown",
   "metadata": {},
   "source": [
    "Пропусков нет. Типы данных числовые - признаки численные. Отношение количества дублией к общему числу клиентов достаточно мало, что бы дубли оставить. Предобработка не требуется. Стоит отметить 2 фактора:\n",
    "- огромный разрыв между числовыми значениями признаков, негативно скажется на модели без соответствующего масштабирования\n",
    "- данные в некоторой степени обезличены"
   ]
  },
  {
   "cell_type": "markdown",
   "metadata": {},
   "source": [
    "## Умножение матриц"
   ]
  },
  {
   "cell_type": "markdown",
   "metadata": {},
   "source": [
    "Одним из возможных способов защиты персональных данных клинетов, может быть шифрование методом умножения матриц. Проверим возможность реализации и эффективность данного способа. \n",
    "\n",
    "Стоит отметить что на шифрованных персональных данных модель (чего угодно, применяемая в бизнесе) должна работать не хуже, чем на не шифрованных. Так же проверим такую возможность"
   ]
  },
  {
   "cell_type": "code",
   "execution_count": 4,
   "metadata": {},
   "outputs": [
    {
     "name": "stdout",
     "output_type": "stream",
     "text": [
      "R2 модели 0.44\n",
      "R2 собственной модели 0.44\n"
     ]
    }
   ],
   "source": [
    "#Определим обучающую `train` и валидационную `valid` выбороки в пропорциях 3:1\n",
    "#Разделим каждую выборку на `features` -  признаки и `target` — целевой признак \n",
    "\n",
    "train, valid = train_test_split(df, test_size=0.25, random_state=12345)\n",
    "\n",
    "def features_target_split(data, point):\n",
    "    features = data.drop([point], axis=1)\n",
    "    target = data[point]\n",
    "    return features, target\n",
    "\n",
    "train_features, train_target = features_target_split(train,'Страховые выплаты')\n",
    "valid_features, valid_target = features_target_split(valid,'Страховые выплаты')\n",
    "\n",
    "#Масштабируем признаки\n",
    "\n",
    "def data_to_StandardScaler(data, train_features):\n",
    "    scaler = StandardScaler()\n",
    "    scaler.fit(train_features)\n",
    "    data = scaler.transform(data)\n",
    "    return data\n",
    "\n",
    "valid_features_scale = data_to_StandardScaler(valid_features, train_features)\n",
    "train_features_scale = data_to_StandardScaler(train_features, train_features)\n",
    "\n",
    "#Обучим модель и посмотрим R2\n",
    "\n",
    "def model_R2(train_features, train_target, valid_features, valid_target):\n",
    "    model = LinearRegression().fit(train_features, train_target)\n",
    "    predicted = model.predict(valid_features)\n",
    "    r2 = r2_score(valid_target,predicted)\n",
    "    print('R2 модели {:.2f}'.format(r2))\n",
    "    return predicted\n",
    "\n",
    "clean_data  = model_R2(train_features_scale, train_target, valid_features_scale, valid_target)\n",
    "\n",
    "#Посмотрим R2 нашей собвственной модели на основе матричных вычислений\n",
    "\n",
    "class LinearRegression_o:\n",
    "    def fit(self, train_features, train_target):\n",
    "        X = np.concatenate((np.ones((train_features.shape[0], 1)), train_features), axis=1)\n",
    "        y = train_target\n",
    "        w = ((inv(X.T @ X)) @ X.T) @ y\n",
    "        self.w = w[1:]\n",
    "        self.w0 = w[0]\n",
    "\n",
    "    def predict(self, test_features):\n",
    "        return test_features.dot(self.w) + self.w0\n",
    "\n",
    "def model_R2_o(train_features, train_target, valid_features, valid_target):\n",
    "    model = LinearRegression_o()\n",
    "    model.fit(train_features, train_target)\n",
    "    predicted = model.predict(valid_features)\n",
    "    r2 = r2_score(valid_target,predicted)\n",
    "    print('R2 собственной модели {:.2f}'.format(r2))\n",
    "    return predicted\n",
    "\n",
    "clean_data_o  = model_R2_o(train_features_scale, train_target, valid_features_scale, valid_target)"
   ]
  },
  {
   "cell_type": "markdown",
   "metadata": {},
   "source": [
    "Значения ошибки моделей работающей на не шифрованных персональных данных зафиксируем\n",
    "- R2 модели 0.44\n",
    "- R2 собственной модели 0.44"
   ]
  },
  {
   "cell_type": "code",
   "execution_count": 5,
   "metadata": {},
   "outputs": [
    {
     "name": "stdout",
     "output_type": "stream",
     "text": [
      "R2 модели 0.44\n",
      "R2 собственной модели 0.44\n"
     ]
    }
   ],
   "source": [
    "#Зашифруем Признаки умножив на обратимую матрицу\n",
    "\n",
    "#Создаем случайную КВАДРАТНУЮ матрицу \n",
    "A = np.random.normal(0 , 1, size = (train_features.shape[1],train_features.shape[1]))\n",
    "\n",
    "#Здесь проверяем обратимость матрицы\n",
    "check_A= inv(A)\n",
    "\n",
    "#Шифруем Признаки, масштрабируем их, обучаем модель и смотрим R2\n",
    "train_features_encode = train_features @ A \n",
    "valid_features_encode = valid_features @ A\n",
    "\n",
    "valid_features_encode_scale = data_to_StandardScaler(valid_features_encode, train_features_encode)\n",
    "train_features_encode_scale = data_to_StandardScaler(train_features_encode, train_features_encode)\n",
    "\n",
    "encode_data  = model_R2(train_features_encode_scale, train_target, valid_features_encode_scale, valid_target)\n",
    "encode_data_o  = model_R2_o(train_features_encode_scale, train_target, valid_features_encode_scale, valid_target)\n",
    "\n"
   ]
  },
  {
   "cell_type": "markdown",
   "metadata": {},
   "source": [
    "<b>После шифрования Признаков, качество модели не ухудшилось</b>\n",
    "\n",
    "#### Как связаны параметры линейной регрессии в исходной задаче и в преобразованной?\n",
    "\n",
    "Предсказания высчитываются по формуле:\n",
    "\n",
    "$$\n",
    "a = Xw\n",
    "$$\n",
    "\n",
    "Т.к. новая матрица признаков получается умножением исходной $Х$ на случайную обратимую квадратную(обозначим $A$), то формула применит вид:\n",
    "\n",
    "$$\n",
    "a = X A w\n",
    "$$\n",
    "\n",
    "Формула обучения:\n",
    "\n",
    "$$\n",
    "w = (X^T X)^{-1} X^T y\n",
    "$$\n",
    "\n",
    "Перепишем формулу нахождения весов $w'$:\n",
    "\n",
    "$$\n",
    "w' = ((XA)^T XA)^{-1} (XA)^T y\n",
    "$$\n",
    "\n",
    "Раскроем скобки:\n",
    "\n",
    "$$\n",
    "w' = (XA)^{-1}((XA)^T)^{-1}(XA)^T y\n",
    "$$\n",
    "\n",
    "$$\n",
    "w' = A^{-1} X^{-1} (X^T)^{-1} (A^T)^{-1} A^T X^T y\n",
    "$$\n",
    "\n",
    "$$\n",
    "w' = A^{-1} X^{-1} (X^T)^{-1} (A^{-1})^T A^T X^T y\n",
    "$$\n",
    "\n",
    "Используя некоторые свойства матриц сократим запись:\n",
    "\n",
    "$$\n",
    "w' = A^{-1}  (X^T X)^{-1} (A A^{-1})^T X^T y\n",
    "$$\n",
    "\n",
    "\n",
    "$ (A A^{-1})^T$ это единичная матрица $E$, матрица умножаясь на единичную равна себе, поэтому сократим запись:\n",
    "\n",
    "$$\n",
    "w' =  A^{-1}(X^T X)^{-1} X^T y\n",
    "$$ \n",
    "\n",
    "То есть новые веса $w'$ выражаются через исходные $w$ следующим образом:\n",
    "$$\n",
    "w' =  A^{-1} w\n",
    "$$ \n"
   ]
  },
  {
   "cell_type": "markdown",
   "metadata": {},
   "source": [
    "# Вывод"
   ]
  },
  {
   "cell_type": "markdown",
   "metadata": {},
   "source": [
    "**Ответ:** \n",
    "После шифрования Признаков, качество модели не ухудшилось\n",
    "\n",
    "**Обоснование:** \n",
    "Признаки исходной матрицы и преобразованной выражаются через коэффициенты(веса w), поэтому качество линейной регресии не изменилось"
   ]
  },
  {
   "cell_type": "markdown",
   "metadata": {},
   "source": [
    "## Алгоритм преобразования"
   ]
  },
  {
   "cell_type": "code",
   "execution_count": 5,
   "metadata": {},
   "outputs": [
    {
     "name": "stdout",
     "output_type": "stream",
     "text": [
      "                 0             1             2             3\n",
      "3369  35811.628576  -8269.855050 -20953.159202  34809.321613\n",
      "1441  56978.063890 -13186.216818 -33385.643385  55404.602517\n",
      "571   40657.866965  -9403.123765 -23811.195448  39527.827228\n",
      "225   44615.052480 -10317.568582 -26127.539845  43374.572998\n",
      "2558  50054.070452 -11581.658262 -29322.498540  48666.093927\n",
      "\n",
      "                 0            1             2             3\n",
      "3183  38578.874869 -8920.572284 -22588.289452  37502.202525\n",
      "1071  42638.516583 -9847.669439 -24947.844908  41442.463733\n",
      "2640  41647.458341 -9626.506492 -24383.445105  40489.273741\n",
      "2282  34424.995587 -7967.391981 -20171.229588  33473.322150\n",
      "1595  39569.362383 -9143.639262 -23158.373297  38460.751289\n"
     ]
    }
   ],
   "source": [
    "#Напишем функцию автоматизации шифрования, она будет принимать на вход выборку и Целевой признак, и:\n",
    "#разделять ее на обучающую и валидационную,\n",
    "#выделять в них Признаки и Целевой признак,\n",
    "#шифровать Признаки,\n",
    "#возвращать зашифрованые Признаки\n",
    "#возвращать Целевой признак обучающей и валидационной выборок\n",
    "#возвращать \"ключ шифрования\"\n",
    "\n",
    "\n",
    "def encoder(data, point):\n",
    "    train, valid = train_test_split(data, test_size=0.25, random_state=12345)\n",
    "\n",
    "    def features_target_split(data_after_split, point):\n",
    "        features = data_after_split.drop([point], axis=1)\n",
    "        target = data_after_split[point]\n",
    "        return features, target\n",
    "\n",
    "    train_features, train_target = features_target_split(train , point)\n",
    "    valid_features, valid_target = features_target_split(valid, point)\n",
    "    \n",
    "\n",
    "    A = np.random.normal(0 , 1, size = (train_features.shape[1],train_features.shape[1]))\n",
    "    check_A= inv(A)\n",
    "    train_features_encode = train_features @ A \n",
    "    valid_features_encode = valid_features @ A\n",
    "    \n",
    "    #В выводе добавим не шифрованые train_features , valid_features, что бы посмотреть расшифровку в дальнейшем\n",
    "    return train_features , valid_features, train_features_encode, valid_features_encode, train_target, valid_target, A\n",
    "    \n",
    "\n",
    "#Cмотрим на зашифрованные признаки, видим, что ничего не понятно\n",
    "clean_f1, clean_f2, encoded_f1, encoded_f2, encoded_t1, encoded_t2, key = encoder(df, 'Страховые выплаты')\n",
    "print(encoded_f1.head())\n",
    "print()\n",
    "print(encoded_f2.head())"
   ]
  },
  {
   "cell_type": "code",
   "execution_count": 6,
   "metadata": {},
   "outputs": [
    {
     "name": "stdout",
     "output_type": "stream",
     "text": [
      "        0     1        2    3\n",
      "3369  1.0  43.0  36200.0  1.0\n",
      "1441  1.0  34.0  57600.0  0.0\n",
      "571   0.0  32.0  41100.0  1.0\n",
      "225   0.0  36.0  45100.0  1.0\n",
      "2558  0.0  33.0  50600.0  2.0\n",
      "...   ...   ...      ...  ...\n",
      "3497  0.0  42.0  32100.0  0.0\n",
      "3492  0.0  28.0  22700.0  4.0\n",
      "2177  1.0  41.0  44700.0  1.0\n",
      "3557  0.0  22.0  50100.0  4.0\n",
      "4578  0.0  19.0  40800.0  0.0\n",
      "\n",
      "[3750 rows x 4 columns]\n",
      "\n",
      "      Пол  Возраст  Зарплата  Члены семьи\n",
      "3369    1     43.0   36200.0            1\n",
      "1441    1     34.0   57600.0            0\n",
      "571     0     32.0   41100.0            1\n",
      "225     0     36.0   45100.0            1\n",
      "2558    0     33.0   50600.0            2\n",
      "...   ...      ...       ...          ...\n",
      "3497    0     42.0   32100.0            0\n",
      "3492    0     28.0   22700.0            4\n",
      "2177    1     41.0   44700.0            1\n",
      "3557    0     22.0   50100.0            4\n",
      "4578    0     19.0   40800.0            0\n",
      "\n",
      "[3750 rows x 4 columns]\n",
      "        0     1        2    3\n",
      "3183  0.0  33.0  39000.0  4.0\n",
      "1071  0.0  50.0  43100.0  2.0\n",
      "2640  1.0  39.0  42100.0  0.0\n",
      "2282  0.0  20.0  34800.0  0.0\n",
      "1595  0.0  41.0  40000.0  4.0\n",
      "...   ...   ...      ...  ...\n",
      "982   1.0  51.0  29000.0  2.0\n",
      "3820  1.0  33.0  57900.0  3.0\n",
      "3595  1.0  35.0  42300.0  0.0\n",
      "3513  1.0  36.0  41300.0  0.0\n",
      "1205  0.0  49.0  31100.0  1.0\n",
      "\n",
      "[1250 rows x 4 columns]\n",
      "\n",
      "      Пол  Возраст  Зарплата  Члены семьи\n",
      "3183    0     33.0   39000.0            4\n",
      "1071    0     50.0   43100.0            2\n",
      "2640    1     39.0   42100.0            0\n",
      "2282    0     20.0   34800.0            0\n",
      "1595    0     41.0   40000.0            4\n",
      "...   ...      ...       ...          ...\n",
      "982     1     51.0   29000.0            2\n",
      "3820    1     33.0   57900.0            3\n",
      "3595    1     35.0   42300.0            0\n",
      "3513    1     36.0   41300.0            0\n",
      "1205    0     49.0   31100.0            1\n",
      "\n",
      "[1250 rows x 4 columns]\n"
     ]
    }
   ],
   "source": [
    "#Напишем функцию автоматизации расшифрования по \"ключу\", она будет принимать на вход Зашифрованные Признаки, и:\n",
    "#Возвращать расшифрованные Признаки\n",
    "\n",
    "def decoder(data,key):\n",
    "    decoded_data = abs(round(data.dot(inv(key))))\n",
    "    return decoded_data\n",
    "\n",
    "#Проверяем качество расшифровки\n",
    "decoded_f1 = decoder(encoded_f1, key)\n",
    "print(decoded_f1)\n",
    "print()\n",
    "print(clean_f1)\n",
    "decoded_f2 = decoder(encoded_f2, key)\n",
    "print(decoded_f2)\n",
    "print()\n",
    "print(clean_f2)"
   ]
  },
  {
   "cell_type": "markdown",
   "metadata": {},
   "source": [
    "**Алгоритм**\n",
    "Данные полностью восстановлены после кодирования"
   ]
  },
  {
   "cell_type": "markdown",
   "metadata": {},
   "source": [
    "**Обоснование**\n",
    "\n",
    "Почему качество линейной регрессии не поменяется?\n",
    "Предсказания высчитываются по формуле:\n",
    "\n",
    "$$\n",
    "a = Xw\n",
    "$$\n",
    "\n",
    "Т.к. новая матрица признаков получается умножением исходной $Х$ на случайную обратимую квадратную(обозначим $A$), то формула применит вид:\n",
    "\n",
    "$$\n",
    "a' = X A w'\n",
    "$$\n",
    "\n",
    "Подставив вычисленное значение весов $w' =  A^{-1} w$ получаем:\n",
    "\n",
    "$$\n",
    "a' = X A  A^{-1} w\n",
    "$$\n",
    "\n",
    "$A A^{-1}$ это еденичная матрица $E$, т.е. можно сократить:\n",
    "\n",
    "$$\n",
    "a' = X w = a\n",
    "$$\n",
    "\n",
    "Предсказания по исходной и преобразованной матрицам равны."
   ]
  },
  {
   "cell_type": "markdown",
   "metadata": {},
   "source": [
    "# Вывод"
   ]
  },
  {
   "cell_type": "markdown",
   "metadata": {},
   "source": [
    "> Предложенный алгоритм преобразования данных справляется для решения задачи.  \n",
    "Качество линейной регрессии не меняется, т.к. новые признаки равны $X A$, а новые веса $w' =  A^{-1} w$, поэтому $a' = X w = a$.\n",
    "Новые признаки выражаются через исходную, умножив на случайную матрицу, соответственно и новые коэффициенты весов. Но так как оба множителя в произведении выражают исходные через определенные коэффициенты, то качество линейной регресии не измениться. "
   ]
  },
  {
   "cell_type": "markdown",
   "metadata": {},
   "source": [
    "## Проверка алгоритма"
   ]
  },
  {
   "cell_type": "markdown",
   "metadata": {},
   "source": [
    "Применив матричные операции, Проверим, что качество линейной регрессии из sklearn не отличается до и после преобразования. Применим метрику R2. (Это уже было сделано ранее, просто убедимся что алгоритм шифрования работает как надо)"
   ]
  },
  {
   "cell_type": "code",
   "execution_count": 7,
   "metadata": {},
   "outputs": [
    {
     "name": "stdout",
     "output_type": "stream",
     "text": [
      "R2 модели без шифования 0.4352\n",
      "R2 модели с шифрованием 0.4352\n"
     ]
    }
   ],
   "source": [
    "#Без шифрования\n",
    "def wo_code(data, point):\n",
    "    \n",
    "    train, valid = train_test_split(data, test_size=0.25, random_state=12345)\n",
    "\n",
    "    def features_target_split(data, point):\n",
    "        features = data.drop([point], axis=1)\n",
    "        target = data[point]\n",
    "        return features, target\n",
    "\n",
    "    train_features, train_target = features_target_split(train,'Страховые выплаты')\n",
    "    valid_features, valid_target = features_target_split(valid,'Страховые выплаты')\n",
    "\n",
    "    def data_to_StandardScaler(data, train_features):\n",
    "        scaler = StandardScaler()\n",
    "        scaler.fit(train_features)\n",
    "        data = scaler.transform(data)\n",
    "        return data\n",
    "\n",
    "    valid_features_scale = data_to_StandardScaler(valid_features, train_features)\n",
    "    train_features_scale = data_to_StandardScaler(train_features, train_features)\n",
    "\n",
    "    def model_R2(train_features, train_target, valid_features, valid_target):\n",
    "        model = LinearRegression().fit(train_features, train_target)\n",
    "        predicted = model.predict(valid_features)\n",
    "        r2 = r2_score(valid_target,predicted)\n",
    "        print('R2 модели без шифования {:.4f}'.format(r2))\n",
    "    \n",
    "    encode_data  = model_R2(train_features_scale, train_target, valid_features_scale, valid_target)\n",
    "    \n",
    "#С шифрованием\n",
    "def w_code(data, point):\n",
    "    def encoder(data, point):\n",
    "        train, valid = train_test_split(data, test_size=0.25, random_state=12345)\n",
    "\n",
    "        def features_target_split(data_after_split, point):\n",
    "            features = data_after_split.drop([point], axis=1)\n",
    "            target = data_after_split[point]\n",
    "            return features, target\n",
    "\n",
    "        train_features, train_target = features_target_split(train , point)\n",
    "        valid_features, valid_target = features_target_split(valid, point)\n",
    "    \n",
    "\n",
    "        A = np.random.normal(0 , 1, size = (train_features.shape[1],train_features.shape[1]))\n",
    "        check_A= inv(A)\n",
    "        train_features_encode = train_features @ A \n",
    "        valid_features_encode = valid_features @ A\n",
    "    \n",
    "        return train_features_encode, valid_features_encode, train_target, valid_target\n",
    "    \n",
    "    def data_to_StandardScaler(data, train_features):\n",
    "        scaler = StandardScaler()\n",
    "        scaler.fit(train_features)\n",
    "        data = scaler.transform(data)\n",
    "        return data\n",
    "    \n",
    "    valid_features_encode_scale = data_to_StandardScaler(valid_features_encode, train_features_encode)\n",
    "    train_features_encode_scale = data_to_StandardScaler(train_features_encode, train_features_encode)\n",
    "    \n",
    "    def model_R2(train_features, train_target, valid_features, valid_target):\n",
    "        model = LinearRegression().fit(train_features, train_target)\n",
    "        predicted = model.predict(valid_features)\n",
    "        r2 = r2_score(valid_target,predicted)\n",
    "        print('R2 модели с шифрованием {:.4f}'.format(r2))\n",
    "    \n",
    "    encode_data  = model_R2(train_features_encode_scale, train_target, valid_features_encode_scale, valid_target)\n",
    "    \n",
    "\n",
    "wo_code(df,'Страховые выплаты')\n",
    "w_code(df,'Страховые выплаты')"
   ]
  },
  {
   "cell_type": "markdown",
   "metadata": {},
   "source": [
    "Качество модели совпадает."
   ]
  },
  {
   "cell_type": "markdown",
   "metadata": {},
   "source": [
    "# Вывод"
   ]
  },
  {
   "cell_type": "markdown",
   "metadata": {},
   "source": [
    "> Качество метрики R2 для 2 матриц признаков: до преобразования и после равны, а также равны R2 по написанному класс линейной регресии `LinearRegression_o`, что говорит о ее правильном написании в сравнении с моделью из sklearn."
   ]
  },
  {
   "cell_type": "markdown",
   "metadata": {},
   "source": [
    "# Общий вывод"
   ]
  },
  {
   "cell_type": "markdown",
   "metadata": {},
   "source": [
    "**Проведенные исследования позволили сделать следующие выводы**:  \n",
    "\n",
    "*- Умножив признаки на обратимую квадратную матрицу, качество линейной регрессии не меняется. Это обусловленно тем, что Веса изменились под новые значения, т.е. признаки исходной матрицы и преобразованной выражаются через коэффициенты(веса w), поэтому качество линейной регресии не изменилось* \n",
    "\n",
    "*- Предложенный алгоритм преобразования данных справляется для решения задачи шифрования признаков.*  \n",
    "\n",
    "*- Зашифрованные данные так же пригодны для предсказаний с помощью линейной регресии*  \n",
    "\n",
    "*- Алгоритм позволяет дешифровать данные в любой момент*  \n",
    "\n",
    "*- Случайность реализованная в алгоритме каждый раз меняется при запуске, что делает зашифрованные данные каждый раз новыми. Такой вид исходных данных становиться очень сложно восстановить без кода программы.*  \n",
    "\n",
    "*- Реализованный алгоритм удовлетворяет поставленной задаче Защиты персональных данных клиентов страховой компании*"
   ]
  }
 ],
 "metadata": {
  "ExecuteTimeLog": [
   {
    "duration": 1543,
    "start_time": "2021-11-10T15:56:41.313Z"
   },
   {
    "duration": 132,
    "start_time": "2021-11-10T15:56:46.665Z"
   },
   {
    "duration": 123,
    "start_time": "2021-11-10T15:56:48.659Z"
   },
   {
    "duration": 31,
    "start_time": "2021-11-10T15:57:21.326Z"
   },
   {
    "duration": 20,
    "start_time": "2021-11-10T15:58:56.503Z"
   },
   {
    "duration": 1546,
    "start_time": "2021-11-11T12:27:59.576Z"
   },
   {
    "duration": 119,
    "start_time": "2021-11-11T12:28:19.332Z"
   },
   {
    "duration": 235,
    "start_time": "2021-11-11T12:28:19.986Z"
   },
   {
    "duration": 33,
    "start_time": "2021-11-11T12:28:28.377Z"
   },
   {
    "duration": 20,
    "start_time": "2021-11-11T12:28:32.625Z"
   }
  ],
  "kernelspec": {
   "display_name": "Python 3 (ipykernel)",
   "language": "python",
   "name": "python3"
  },
  "language_info": {
   "codemirror_mode": {
    "name": "ipython",
    "version": 3
   },
   "file_extension": ".py",
   "mimetype": "text/x-python",
   "name": "python",
   "nbconvert_exporter": "python",
   "pygments_lexer": "ipython3",
   "version": "3.9.10"
  },
  "toc": {
   "base_numbering": 1,
   "nav_menu": {},
   "number_sections": true,
   "sideBar": true,
   "skip_h1_title": true,
   "title_cell": "Содержание",
   "title_sidebar": "Contents",
   "toc_cell": true,
   "toc_position": {
    "height": "calc(100% - 180px)",
    "left": "10px",
    "top": "150px",
    "width": "165px"
   },
   "toc_section_display": true,
   "toc_window_display": false
  }
 },
 "nbformat": 4,
 "nbformat_minor": 2
}
