{
 "cells": [
  {
   "cell_type": "markdown",
   "metadata": {
    "toc": true
   },
   "source": [
    "<h1>Содержание<span class=\"tocSkip\"></span></h1>\n",
    "<div class=\"toc\"><ul class=\"toc-item\"><li><span><a href=\"#Изучение-данных-из-файла\" data-toc-modified-id=\"Изучение-данных-из-файла-1\"><span class=\"toc-item-num\">1&nbsp;&nbsp;</span>Изучение данных из файла</a></span><ul class=\"toc-item\"><li><span><a href=\"#Вывод\" data-toc-modified-id=\"Вывод-1.1\"><span class=\"toc-item-num\">1.1&nbsp;&nbsp;</span>Вывод</a></span></li></ul></li><li><span><a href=\"#Предобработка-данных\" data-toc-modified-id=\"Предобработка-данных-2\"><span class=\"toc-item-num\">2&nbsp;&nbsp;</span>Предобработка данных</a></span><ul class=\"toc-item\"><li><span><a href=\"#Вывод\" data-toc-modified-id=\"Вывод-2.1\"><span class=\"toc-item-num\">2.1&nbsp;&nbsp;</span>Вывод</a></span></li><li><span><a href=\"#Обработка-дубликатов\" data-toc-modified-id=\"Обработка-дубликатов-2.2\"><span class=\"toc-item-num\">2.2&nbsp;&nbsp;</span>Обработка дубликатов</a></span></li><li><span><a href=\"#Замена-типа-данных\" data-toc-modified-id=\"Замена-типа-данных-2.3\"><span class=\"toc-item-num\">2.3&nbsp;&nbsp;</span>Замена типа данных</a></span></li><li><span><a href=\"#Вывод\" data-toc-modified-id=\"Вывод-2.4\"><span class=\"toc-item-num\">2.4&nbsp;&nbsp;</span>Вывод</a></span></li></ul></li><li><span><a href=\"#Расчёты-и-добавление-результатов-в-таблицу\" data-toc-modified-id=\"Расчёты-и-добавление-результатов-в-таблицу-3\"><span class=\"toc-item-num\">3&nbsp;&nbsp;</span>Расчёты и добавление результатов в таблицу</a></span><ul class=\"toc-item\"><li><span><a href=\"#Вывод\" data-toc-modified-id=\"Вывод-3.1\"><span class=\"toc-item-num\">3.1&nbsp;&nbsp;</span>Вывод</a></span></li></ul></li><li><span><a href=\"#Исследовательский-анализ-данных\" data-toc-modified-id=\"Исследовательский-анализ-данных-4\"><span class=\"toc-item-num\">4&nbsp;&nbsp;</span>Исследовательский анализ данных</a></span></li><li><span><a href=\"#Найдем-какие-факторы-больше-всего-влияют-на-стоимость-квартиры\" data-toc-modified-id=\"Найдем-какие-факторы-больше-всего-влияют-на-стоимость-квартиры-5\"><span class=\"toc-item-num\">5&nbsp;&nbsp;</span>Найдем какие факторы больше всего влияют на стоимость квартиры</a></span></li><li><span><a href=\"#Определим-центр-города-СПб-по-графику-зависимости-цены-price_in_million-от-удаленности-от-центра-cityCenters_nearest.-Посчитаем-и-округлим-расстояние-в-км.\" data-toc-modified-id=\"Определим-центр-города-СПб-по-графику-зависимости-цены-price_in_million-от-удаленности-от-центра-cityCenters_nearest.-Посчитаем-и-округлим-расстояние-в-км.-6\"><span class=\"toc-item-num\">6&nbsp;&nbsp;</span>Определим центр города СПб по графику зависимости цены price_in_million от удаленности от центра cityCenters_nearest. Посчитаем и округлим расстояние в км.</a></span></li><li><span><a href=\"#Найдем-какие-факторы-больше-всего-влияют-на-стоимость-квартиры-в-СПб\" data-toc-modified-id=\"Найдем-какие-факторы-больше-всего-влияют-на-стоимость-квартиры-в-СПб-7\"><span class=\"toc-item-num\">7&nbsp;&nbsp;</span>Найдем какие факторы больше всего влияют на стоимость квартиры в СПб</a></span></li><li><span><a href=\"#Общий-вывод\" data-toc-modified-id=\"Общий-вывод-8\"><span class=\"toc-item-num\">8&nbsp;&nbsp;</span>Общий вывод</a></span><ul class=\"toc-item\"><li><span><a href=\"#Зависимость-площади-от-цены-квартиры\" data-toc-modified-id=\"Зависимость-площади-от-цены-квартиры-8.1\"><span class=\"toc-item-num\">8.1&nbsp;&nbsp;</span>Зависимость площади от цены квартиры</a></span></li><li><span><a href=\"#Зависимость-удаленности-от-центра-и-цены-квартиры\" data-toc-modified-id=\"Зависимость-удаленности-от-центра-и-цены-квартиры-8.2\"><span class=\"toc-item-num\">8.2&nbsp;&nbsp;</span>Зависимость удаленности от центра и цены квартиры</a></span></li><li><span><a href=\"#Зависимость-количества-комнат-и-цены-квартиры\" data-toc-modified-id=\"Зависимость-количества-комнат-и-цены-квартиры-8.3\"><span class=\"toc-item-num\">8.3&nbsp;&nbsp;</span>Зависимость количества комнат и цены квартиры</a></span></li><li><span><a href=\"#Зависимость-типа-этажности-квартиры-и-цены-квартиры\" data-toc-modified-id=\"Зависимость-типа-этажности-квартиры-и-цены-квартиры-8.4\"><span class=\"toc-item-num\">8.4&nbsp;&nbsp;</span>Зависимость типа этажности квартиры и цены квартиры</a></span></li><li><span><a href=\"#Зависимость-дня-недели,-месяца,-года-и-цены-квартиры\" data-toc-modified-id=\"Зависимость-дня-недели,-месяца,-года-и-цены-квартиры-8.5\"><span class=\"toc-item-num\">8.5&nbsp;&nbsp;</span>Зависимость дня недели, месяца, года и цены квартиры</a></span></li></ul></li><li><span><a href=\"#Чек-лист-готовности-проекта\" data-toc-modified-id=\"Чек-лист-готовности-проекта-9\"><span class=\"toc-item-num\">9&nbsp;&nbsp;</span>Чек-лист готовности проекта</a></span><ul class=\"toc-item\"><li><span><a href=\"#Чек-лист-доработок-\" data-toc-modified-id=\"Чек-лист-доработок--9.1\"><span class=\"toc-item-num\">9.1&nbsp;&nbsp;</span>Чек-лист доработок </a></span></li></ul></li></ul></div>"
   ]
  },
  {
   "cell_type": "markdown",
   "metadata": {},
   "source": [
    "# Исследование объявлений о продаже квартир\n",
    "\n",
    "В нашем распоряжении данные сервиса Яндекс.Недвижимость — архив объявлений о продаже квартир в Санкт-Петербурге и соседних населённых пунктах за несколько лет. Нужно определить рыночную стоимость объектов недвижимости. Наша задача — установить параметры. Это позволит построить автоматизированную систему: она отследит аномалии и мошенническую деятельность. \n",
    "\n",
    "По каждой квартире на продажу доступны два вида данных. Первые вписаны пользователем, вторые получены автоматически на основе картографических данных. Например, расстояние до центра, аэропорта, ближайшего парка и водоёма. "
   ]
  },
  {
   "cell_type": "markdown",
   "metadata": {},
   "source": [
    "## Изучение данных из файла"
   ]
  },
  {
   "cell_type": "code",
   "execution_count": 1,
   "metadata": {},
   "outputs": [
    {
     "name": "stdout",
     "output_type": "stream",
     "text": [
      "<class 'pandas.core.frame.DataFrame'>\n",
      "RangeIndex: 23699 entries, 0 to 23698\n",
      "Data columns (total 1 columns):\n",
      "total_images\tlast_price\ttotal_area\tfirst_day_exposition\trooms\tceiling_height\tfloors_total\tliving_area\tfloor\tis_apartment\tstudio\topen_plan\tkitchen_area\tbalcony\tlocality_name\tairports_nearest\tcityCenters_nearest\tparks_around3000\tparks_nearest\tponds_around3000\tponds_nearest\tdays_exposition    23699 non-null object\n",
      "dtypes: object(1)\n",
      "memory usage: 185.3+ KB\n"
     ]
    },
    {
     "data": {
      "text/html": [
       "<div>\n",
       "<style scoped>\n",
       "    .dataframe tbody tr th:only-of-type {\n",
       "        vertical-align: middle;\n",
       "    }\n",
       "\n",
       "    .dataframe tbody tr th {\n",
       "        vertical-align: top;\n",
       "    }\n",
       "\n",
       "    .dataframe thead th {\n",
       "        text-align: right;\n",
       "    }\n",
       "</style>\n",
       "<table border=\"1\" class=\"dataframe\">\n",
       "  <thead>\n",
       "    <tr style=\"text-align: right;\">\n",
       "      <th></th>\n",
       "      <th>total_images\\tlast_price\\ttotal_area\\tfirst_day_exposition\\trooms\\tceiling_height\\tfloors_total\\tliving_area\\tfloor\\tis_apartment\\tstudio\\topen_plan\\tkitchen_area\\tbalcony\\tlocality_name\\tairports_nearest\\tcityCenters_nearest\\tparks_around3000\\tparks_nearest\\tponds_around3000\\tponds_nearest\\tdays_exposition</th>\n",
       "    </tr>\n",
       "  </thead>\n",
       "  <tbody>\n",
       "    <tr>\n",
       "      <td>0</td>\n",
       "      <td>20\\t13000000.0\\t108.0\\t2019-03-07T00:00:00\\t3\\...</td>\n",
       "    </tr>\n",
       "    <tr>\n",
       "      <td>1</td>\n",
       "      <td>7\\t3350000.0\\t40.4\\t2018-12-04T00:00:00\\t1\\t\\t...</td>\n",
       "    </tr>\n",
       "    <tr>\n",
       "      <td>2</td>\n",
       "      <td>10\\t5196000.0\\t56.0\\t2015-08-20T00:00:00\\t2\\t\\...</td>\n",
       "    </tr>\n",
       "    <tr>\n",
       "      <td>3</td>\n",
       "      <td>0\\t64900000.0\\t159.0\\t2015-07-24T00:00:00\\t3\\t...</td>\n",
       "    </tr>\n",
       "    <tr>\n",
       "      <td>4</td>\n",
       "      <td>2\\t10000000.0\\t100.0\\t2018-06-19T00:00:00\\t2\\t...</td>\n",
       "    </tr>\n",
       "  </tbody>\n",
       "</table>\n",
       "</div>"
      ],
      "text/plain": [
       "  total_images\\tlast_price\\ttotal_area\\tfirst_day_exposition\\trooms\\tceiling_height\\tfloors_total\\tliving_area\\tfloor\\tis_apartment\\tstudio\\topen_plan\\tkitchen_area\\tbalcony\\tlocality_name\\tairports_nearest\\tcityCenters_nearest\\tparks_around3000\\tparks_nearest\\tponds_around3000\\tponds_nearest\\tdays_exposition\n",
       "0  20\\t13000000.0\\t108.0\\t2019-03-07T00:00:00\\t3\\...                                                                                                                                                                                                                                                                  \n",
       "1  7\\t3350000.0\\t40.4\\t2018-12-04T00:00:00\\t1\\t\\t...                                                                                                                                                                                                                                                                  \n",
       "2  10\\t5196000.0\\t56.0\\t2015-08-20T00:00:00\\t2\\t\\...                                                                                                                                                                                                                                                                  \n",
       "3  0\\t64900000.0\\t159.0\\t2015-07-24T00:00:00\\t3\\t...                                                                                                                                                                                                                                                                  \n",
       "4  2\\t10000000.0\\t100.0\\t2018-06-19T00:00:00\\t2\\t...                                                                                                                                                                                                                                                                  "
      ]
     },
     "execution_count": 1,
     "metadata": {},
     "output_type": "execute_result"
    }
   ],
   "source": [
    "import pandas as pd\n",
    "import matplotlib.pyplot as plt\n",
    "\n",
    "df = pd.read_csv('https://code.s3.yandex.net/datasets/real_estate_data.csv')\n",
    "\n",
    "df.info()\n",
    "\n",
    "df.head()"
   ]
  },
  {
   "cell_type": "markdown",
   "metadata": {},
   "source": [
    "Приведем таблицу в читаемый вид"
   ]
  },
  {
   "cell_type": "code",
   "execution_count": 2,
   "metadata": {},
   "outputs": [
    {
     "name": "stdout",
     "output_type": "stream",
     "text": [
      "<class 'pandas.core.frame.DataFrame'>\n",
      "RangeIndex: 23699 entries, 0 to 23698\n",
      "Data columns (total 22 columns):\n",
      "total_images            23699 non-null int64\n",
      "last_price              23699 non-null float64\n",
      "total_area              23699 non-null float64\n",
      "first_day_exposition    23699 non-null object\n",
      "rooms                   23699 non-null int64\n",
      "ceiling_height          14504 non-null float64\n",
      "floors_total            23613 non-null float64\n",
      "living_area             21796 non-null float64\n",
      "floor                   23699 non-null int64\n",
      "is_apartment            2775 non-null object\n",
      "studio                  23699 non-null bool\n",
      "open_plan               23699 non-null bool\n",
      "kitchen_area            21421 non-null float64\n",
      "balcony                 12180 non-null float64\n",
      "locality_name           23650 non-null object\n",
      "airports_nearest        18157 non-null float64\n",
      "cityCenters_nearest     18180 non-null float64\n",
      "parks_around3000        18181 non-null float64\n",
      "parks_nearest           8079 non-null float64\n",
      "ponds_around3000        18181 non-null float64\n",
      "ponds_nearest           9110 non-null float64\n",
      "days_exposition         20518 non-null float64\n",
      "dtypes: bool(2), float64(14), int64(3), object(3)\n",
      "memory usage: 3.7+ MB\n"
     ]
    },
    {
     "data": {
      "text/html": [
       "<div>\n",
       "<style scoped>\n",
       "    .dataframe tbody tr th:only-of-type {\n",
       "        vertical-align: middle;\n",
       "    }\n",
       "\n",
       "    .dataframe tbody tr th {\n",
       "        vertical-align: top;\n",
       "    }\n",
       "\n",
       "    .dataframe thead th {\n",
       "        text-align: right;\n",
       "    }\n",
       "</style>\n",
       "<table border=\"1\" class=\"dataframe\">\n",
       "  <thead>\n",
       "    <tr style=\"text-align: right;\">\n",
       "      <th></th>\n",
       "      <th>total_images</th>\n",
       "      <th>last_price</th>\n",
       "      <th>total_area</th>\n",
       "      <th>first_day_exposition</th>\n",
       "      <th>rooms</th>\n",
       "      <th>ceiling_height</th>\n",
       "      <th>floors_total</th>\n",
       "      <th>living_area</th>\n",
       "      <th>floor</th>\n",
       "      <th>is_apartment</th>\n",
       "      <th>...</th>\n",
       "      <th>kitchen_area</th>\n",
       "      <th>balcony</th>\n",
       "      <th>locality_name</th>\n",
       "      <th>airports_nearest</th>\n",
       "      <th>cityCenters_nearest</th>\n",
       "      <th>parks_around3000</th>\n",
       "      <th>parks_nearest</th>\n",
       "      <th>ponds_around3000</th>\n",
       "      <th>ponds_nearest</th>\n",
       "      <th>days_exposition</th>\n",
       "    </tr>\n",
       "  </thead>\n",
       "  <tbody>\n",
       "    <tr>\n",
       "      <td>0</td>\n",
       "      <td>20</td>\n",
       "      <td>13000000.0</td>\n",
       "      <td>108.0</td>\n",
       "      <td>2019-03-07T00:00:00</td>\n",
       "      <td>3</td>\n",
       "      <td>2.70</td>\n",
       "      <td>16.0</td>\n",
       "      <td>51.0</td>\n",
       "      <td>8</td>\n",
       "      <td>NaN</td>\n",
       "      <td>...</td>\n",
       "      <td>25.0</td>\n",
       "      <td>NaN</td>\n",
       "      <td>Санкт-Петербург</td>\n",
       "      <td>18863.0</td>\n",
       "      <td>16028.0</td>\n",
       "      <td>1.0</td>\n",
       "      <td>482.0</td>\n",
       "      <td>2.0</td>\n",
       "      <td>755.0</td>\n",
       "      <td>NaN</td>\n",
       "    </tr>\n",
       "    <tr>\n",
       "      <td>1</td>\n",
       "      <td>7</td>\n",
       "      <td>3350000.0</td>\n",
       "      <td>40.4</td>\n",
       "      <td>2018-12-04T00:00:00</td>\n",
       "      <td>1</td>\n",
       "      <td>NaN</td>\n",
       "      <td>11.0</td>\n",
       "      <td>18.6</td>\n",
       "      <td>1</td>\n",
       "      <td>NaN</td>\n",
       "      <td>...</td>\n",
       "      <td>11.0</td>\n",
       "      <td>2.0</td>\n",
       "      <td>посёлок Шушары</td>\n",
       "      <td>12817.0</td>\n",
       "      <td>18603.0</td>\n",
       "      <td>0.0</td>\n",
       "      <td>NaN</td>\n",
       "      <td>0.0</td>\n",
       "      <td>NaN</td>\n",
       "      <td>81.0</td>\n",
       "    </tr>\n",
       "    <tr>\n",
       "      <td>2</td>\n",
       "      <td>10</td>\n",
       "      <td>5196000.0</td>\n",
       "      <td>56.0</td>\n",
       "      <td>2015-08-20T00:00:00</td>\n",
       "      <td>2</td>\n",
       "      <td>NaN</td>\n",
       "      <td>5.0</td>\n",
       "      <td>34.3</td>\n",
       "      <td>4</td>\n",
       "      <td>NaN</td>\n",
       "      <td>...</td>\n",
       "      <td>8.3</td>\n",
       "      <td>0.0</td>\n",
       "      <td>Санкт-Петербург</td>\n",
       "      <td>21741.0</td>\n",
       "      <td>13933.0</td>\n",
       "      <td>1.0</td>\n",
       "      <td>90.0</td>\n",
       "      <td>2.0</td>\n",
       "      <td>574.0</td>\n",
       "      <td>558.0</td>\n",
       "    </tr>\n",
       "    <tr>\n",
       "      <td>3</td>\n",
       "      <td>0</td>\n",
       "      <td>64900000.0</td>\n",
       "      <td>159.0</td>\n",
       "      <td>2015-07-24T00:00:00</td>\n",
       "      <td>3</td>\n",
       "      <td>NaN</td>\n",
       "      <td>14.0</td>\n",
       "      <td>NaN</td>\n",
       "      <td>9</td>\n",
       "      <td>NaN</td>\n",
       "      <td>...</td>\n",
       "      <td>NaN</td>\n",
       "      <td>0.0</td>\n",
       "      <td>Санкт-Петербург</td>\n",
       "      <td>28098.0</td>\n",
       "      <td>6800.0</td>\n",
       "      <td>2.0</td>\n",
       "      <td>84.0</td>\n",
       "      <td>3.0</td>\n",
       "      <td>234.0</td>\n",
       "      <td>424.0</td>\n",
       "    </tr>\n",
       "    <tr>\n",
       "      <td>4</td>\n",
       "      <td>2</td>\n",
       "      <td>10000000.0</td>\n",
       "      <td>100.0</td>\n",
       "      <td>2018-06-19T00:00:00</td>\n",
       "      <td>2</td>\n",
       "      <td>3.03</td>\n",
       "      <td>14.0</td>\n",
       "      <td>32.0</td>\n",
       "      <td>13</td>\n",
       "      <td>NaN</td>\n",
       "      <td>...</td>\n",
       "      <td>41.0</td>\n",
       "      <td>NaN</td>\n",
       "      <td>Санкт-Петербург</td>\n",
       "      <td>31856.0</td>\n",
       "      <td>8098.0</td>\n",
       "      <td>2.0</td>\n",
       "      <td>112.0</td>\n",
       "      <td>1.0</td>\n",
       "      <td>48.0</td>\n",
       "      <td>121.0</td>\n",
       "    </tr>\n",
       "  </tbody>\n",
       "</table>\n",
       "<p>5 rows × 22 columns</p>\n",
       "</div>"
      ],
      "text/plain": [
       "   total_images  last_price  total_area first_day_exposition  rooms  \\\n",
       "0            20  13000000.0       108.0  2019-03-07T00:00:00      3   \n",
       "1             7   3350000.0        40.4  2018-12-04T00:00:00      1   \n",
       "2            10   5196000.0        56.0  2015-08-20T00:00:00      2   \n",
       "3             0  64900000.0       159.0  2015-07-24T00:00:00      3   \n",
       "4             2  10000000.0       100.0  2018-06-19T00:00:00      2   \n",
       "\n",
       "   ceiling_height  floors_total  living_area  floor is_apartment  ...  \\\n",
       "0            2.70          16.0         51.0      8          NaN  ...   \n",
       "1             NaN          11.0         18.6      1          NaN  ...   \n",
       "2             NaN           5.0         34.3      4          NaN  ...   \n",
       "3             NaN          14.0          NaN      9          NaN  ...   \n",
       "4            3.03          14.0         32.0     13          NaN  ...   \n",
       "\n",
       "   kitchen_area  balcony    locality_name  airports_nearest  \\\n",
       "0          25.0      NaN  Санкт-Петербург           18863.0   \n",
       "1          11.0      2.0   посёлок Шушары           12817.0   \n",
       "2           8.3      0.0  Санкт-Петербург           21741.0   \n",
       "3           NaN      0.0  Санкт-Петербург           28098.0   \n",
       "4          41.0      NaN  Санкт-Петербург           31856.0   \n",
       "\n",
       "  cityCenters_nearest  parks_around3000  parks_nearest  ponds_around3000  \\\n",
       "0             16028.0               1.0          482.0               2.0   \n",
       "1             18603.0               0.0            NaN               0.0   \n",
       "2             13933.0               1.0           90.0               2.0   \n",
       "3              6800.0               2.0           84.0               3.0   \n",
       "4              8098.0               2.0          112.0               1.0   \n",
       "\n",
       "   ponds_nearest  days_exposition  \n",
       "0          755.0              NaN  \n",
       "1            NaN             81.0  \n",
       "2          574.0            558.0  \n",
       "3          234.0            424.0  \n",
       "4           48.0            121.0  \n",
       "\n",
       "[5 rows x 22 columns]"
      ]
     },
     "execution_count": 2,
     "metadata": {},
     "output_type": "execute_result"
    }
   ],
   "source": [
    "df = pd.read_csv('https://code.s3.yandex.net/datasets/real_estate_data.csv',sep='\\t',decimal='.')\n",
    "\n",
    "df.info()\n",
    "\n",
    "df.head()"
   ]
  },
  {
   "cell_type": "markdown",
   "metadata": {},
   "source": [
    "### Вывод"
   ]
  },
  {
   "cell_type": "markdown",
   "metadata": {},
   "source": [
    "Количество строк в столбцах разное, тип данных некоторых строк сомнительный (например: *first_day_exposition* object, а не data). Исправим ситуацию предобработкой данных"
   ]
  },
  {
   "cell_type": "markdown",
   "metadata": {},
   "source": [
    "## Предобработка данных"
   ]
  },
  {
   "cell_type": "code",
   "execution_count": 3,
   "metadata": {},
   "outputs": [
    {
     "data": {
      "text/plain": [
       "total_images                0\n",
       "last_price                  0\n",
       "total_area                  0\n",
       "first_day_exposition        0\n",
       "rooms                       0\n",
       "ceiling_height           9195\n",
       "floors_total               86\n",
       "living_area              1903\n",
       "floor                       0\n",
       "is_apartment            20924\n",
       "studio                      0\n",
       "open_plan                   0\n",
       "kitchen_area             2278\n",
       "balcony                 11519\n",
       "locality_name              49\n",
       "airports_nearest         5542\n",
       "cityCenters_nearest      5519\n",
       "parks_around3000         5518\n",
       "parks_nearest           15620\n",
       "ponds_around3000         5518\n",
       "ponds_nearest           14589\n",
       "days_exposition          3181\n",
       "dtype: int64"
      ]
     },
     "execution_count": 3,
     "metadata": {},
     "output_type": "execute_result"
    }
   ],
   "source": [
    "df.isnull().sum() #Проверим данные на наличие пропусков"
   ]
  },
  {
   "cell_type": "markdown",
   "metadata": {},
   "source": [
    "Для столбца *locality_name* определить название населенного пунка по имеющимся данным будет невозможно. Да и количество 49 никак не повлиет на исследования."
   ]
  },
  {
   "cell_type": "code",
   "execution_count": 4,
   "metadata": {},
   "outputs": [],
   "source": [
    "df.dropna(subset = ['locality_name'], inplace = True)"
   ]
  },
  {
   "cell_type": "code",
   "execution_count": 5,
   "metadata": {},
   "outputs": [
    {
     "name": "stdout",
     "output_type": "stream",
     "text": [
      "1.0    4187\n",
      "0.0    3725\n",
      "2.0    3658\n",
      "5.0     304\n",
      "4.0     182\n",
      "3.0      81\n",
      "Name: balcony, dtype: int64 \n",
      "\n",
      "False    2710\n",
      "True       50\n",
      "Name: is_apartment, dtype: int64 \n",
      "\n",
      "0.0    10080\n",
      "1.0     5671\n",
      "2.0     1744\n",
      "3.0      645\n",
      "Name: parks_around3000, dtype: int64 \n",
      "\n",
      "0.0    9055\n",
      "1.0    5702\n",
      "2.0    1889\n",
      "3.0    1494\n",
      "Name: ponds_around3000, dtype: int64 \n",
      "\n"
     ]
    }
   ],
   "source": [
    "#проверим на уникальные значения\n",
    "\n",
    "list_columns = ['balcony','is_apartment','parks_around3000','ponds_around3000']\n",
    "for item in list_columns:\n",
    "    print(df[item].value_counts(), '\\n')"
   ]
  },
  {
   "cell_type": "code",
   "execution_count": 6,
   "metadata": {},
   "outputs": [],
   "source": [
    "#В столбцах balcony, parks_around3000, ponds_around3000 пропуски вероятнее всего указывают отсутствие.\n",
    "#Поэтому заполним 0.\n",
    "#В is_apartment пропуски означают \"не апартаменты\". Заполним на False.\n",
    "\n",
    "df['balcony'] = df['balcony'].fillna(0)\n",
    "\n",
    "df['is_apartment'] = df['is_apartment'].fillna(False)\n",
    "\n",
    "df['parks_around3000'] = df['parks_around3000'].fillna(0)\n",
    "\n",
    "df['ponds_around3000'] = df['ponds_around3000'].fillna(0)"
   ]
  },
  {
   "cell_type": "code",
   "execution_count": 7,
   "metadata": {},
   "outputs": [
    {
     "data": {
      "text/plain": [
       "array([ 3,  1,  2,  4,  5,  6,  0,  7, 11,  8, 14, 10, 15,  9, 19, 16, 12])"
      ]
     },
     "execution_count": 7,
     "metadata": {},
     "output_type": "execute_result"
    }
   ],
   "source": [
    "#Проверим столбец rooms на уникальность\n",
    "\n",
    "rooms_unique = df['rooms'].unique()\n",
    "\n",
    "rooms_unique"
   ]
  },
  {
   "cell_type": "code",
   "execution_count": 8,
   "metadata": {},
   "outputs": [],
   "source": [
    "df['rooms'] = df['rooms'].replace(0, 1)#квартиры с числом комнат 0 - это студии.\n",
    "#Фактически это однокомнатные квартиры. Приравняем их к 1-комнатным."
   ]
  },
  {
   "cell_type": "code",
   "execution_count": 9,
   "metadata": {},
   "outputs": [
    {
     "data": {
      "text/plain": [
       "count    14490.000000\n",
       "mean         2.771287\n",
       "std          1.261593\n",
       "min          1.000000\n",
       "25%          2.520000\n",
       "50%          2.650000\n",
       "75%          2.800000\n",
       "max        100.000000\n",
       "Name: ceiling_height, dtype: float64"
      ]
     },
     "execution_count": 9,
     "metadata": {},
     "output_type": "execute_result"
    }
   ],
   "source": [
    "df['ceiling_height'].describe()"
   ]
  },
  {
   "cell_type": "code",
   "execution_count": 10,
   "metadata": {},
   "outputs": [],
   "source": [
    "#Так как присутствуют аномальные значения, заполним медианой.\n",
    "ceiling_median = df['ceiling_height'].median()\n",
    "\n",
    "df['ceiling_height'].fillna(ceiling_median, inplace=True)"
   ]
  },
  {
   "cell_type": "code",
   "execution_count": 11,
   "metadata": {},
   "outputs": [
    {
     "data": {
      "text/plain": [
       "count    23565.000000\n",
       "mean        10.675875\n",
       "std          6.594823\n",
       "min          1.000000\n",
       "25%          5.000000\n",
       "50%          9.000000\n",
       "75%         16.000000\n",
       "max         60.000000\n",
       "Name: floors_total, dtype: float64"
      ]
     },
     "execution_count": 11,
     "metadata": {},
     "output_type": "execute_result"
    }
   ],
   "source": [
    "df['floors_total'].describe()"
   ]
  },
  {
   "cell_type": "markdown",
   "metadata": {},
   "source": [
    "Количесто пропусков в этом столбце 86, заменим на медиану, но может получиться, что общее число этажей в доме меньше медианы. Поэтому проверим на условие *floor* > *floors_total* и выведем количество строк после фильтрации методом .shape"
   ]
  },
  {
   "cell_type": "code",
   "execution_count": 12,
   "metadata": {},
   "outputs": [
    {
     "data": {
      "text/plain": [
       "(37, 22)"
      ]
     },
     "execution_count": 12,
     "metadata": {},
     "output_type": "execute_result"
    }
   ],
   "source": [
    "floors_total_median = df['floors_total'].median()\n",
    "\n",
    "df['floors_total'].fillna(floors_total_median, inplace=True)\n",
    "\n",
    "df.query('floor > floors_total').shape"
   ]
  },
  {
   "cell_type": "markdown",
   "metadata": {},
   "source": [
    "Число аномалий 37 (это 0,1% данных). Приравняем эти значения к значению этажа самой квартиры, т.к. оно ближайшее и на результаты исследований не повлияет."
   ]
  },
  {
   "cell_type": "code",
   "execution_count": 13,
   "metadata": {},
   "outputs": [],
   "source": [
    "df.loc[(df['floor'] > df['floors_total']), 'floors_total'] = df['floor']"
   ]
  },
  {
   "cell_type": "markdown",
   "metadata": {},
   "source": [
    "Заполним пропуски в столбцах *living_area* и *kitchen_area*. Замены осуществляем категориально по количеству комнат. Заменим на медиану, но может получиться что *living_area* или *kitchen_area* больше общей площади квартиры. Поэтому проверим на условие *living_area* > *total_area* и *kitchen_area* > *total_area* и выведем количество строк после фильтрации.\n"
   ]
  },
  {
   "cell_type": "code",
   "execution_count": 14,
   "metadata": {},
   "outputs": [],
   "source": [
    "for item in df['rooms'].unique():\n",
    "    filter_flags = df['living_area'].isna() & (df['rooms'] == item)\n",
    "    df.loc[filter_flags, 'living_area'] = df.loc[df['rooms'] == item, 'living_area'].median()"
   ]
  },
  {
   "cell_type": "code",
   "execution_count": 15,
   "metadata": {},
   "outputs": [],
   "source": [
    "for item in df['rooms'].unique():\n",
    "    filter_flags = df['kitchen_area'].isna() & (df['rooms'] == item)\n",
    "    df.loc[filter_flags, 'kitchen_area'] = df.loc[df['rooms'] == item, 'kitchen_area'].median()"
   ]
  },
  {
   "cell_type": "code",
   "execution_count": 16,
   "metadata": {},
   "outputs": [
    {
     "data": {
      "text/plain": [
       "(29, 22)"
      ]
     },
     "execution_count": 16,
     "metadata": {},
     "output_type": "execute_result"
    }
   ],
   "source": [
    "df.query('living_area > total_area').shape"
   ]
  },
  {
   "cell_type": "code",
   "execution_count": 17,
   "metadata": {},
   "outputs": [
    {
     "data": {
      "text/plain": [
       "(0, 22)"
      ]
     },
     "execution_count": 17,
     "metadata": {},
     "output_type": "execute_result"
    }
   ],
   "source": [
    "df.query('kitchen_area > total_area').shape"
   ]
  },
  {
   "cell_type": "code",
   "execution_count": 18,
   "metadata": {},
   "outputs": [
    {
     "data": {
      "text/plain": [
       "(420, 22)"
      ]
     },
     "execution_count": 18,
     "metadata": {},
     "output_type": "execute_result"
    }
   ],
   "source": [
    "df.query('living_area + kitchen_area > total_area').shape"
   ]
  },
  {
   "cell_type": "markdown",
   "metadata": {},
   "source": [
    "Получилось что в 29 квартирах *living_area > total_area*, а в 420 кухня и жилая площадь больше общей (1,7%). Заменим на разницу total_area и kitchen_area в этих квартирах. На исследования это не повлияет"
   ]
  },
  {
   "cell_type": "code",
   "execution_count": 19,
   "metadata": {},
   "outputs": [],
   "source": [
    "df.loc[((df['living_area'] + df['kitchen_area']) > df['total_area']), 'living_area'] = df['total_area'] - df['kitchen_area'] -0.0001"
   ]
  },
  {
   "cell_type": "code",
   "execution_count": 20,
   "metadata": {},
   "outputs": [
    {
     "data": {
      "text/html": [
       "<div>\n",
       "<style scoped>\n",
       "    .dataframe tbody tr th:only-of-type {\n",
       "        vertical-align: middle;\n",
       "    }\n",
       "\n",
       "    .dataframe tbody tr th {\n",
       "        vertical-align: top;\n",
       "    }\n",
       "\n",
       "    .dataframe thead th {\n",
       "        text-align: right;\n",
       "    }\n",
       "</style>\n",
       "<table border=\"1\" class=\"dataframe\">\n",
       "  <thead>\n",
       "    <tr style=\"text-align: right;\">\n",
       "      <th></th>\n",
       "      <th>total_images</th>\n",
       "      <th>last_price</th>\n",
       "      <th>total_area</th>\n",
       "      <th>first_day_exposition</th>\n",
       "      <th>rooms</th>\n",
       "      <th>ceiling_height</th>\n",
       "      <th>floors_total</th>\n",
       "      <th>living_area</th>\n",
       "      <th>floor</th>\n",
       "      <th>is_apartment</th>\n",
       "      <th>...</th>\n",
       "      <th>kitchen_area</th>\n",
       "      <th>balcony</th>\n",
       "      <th>locality_name</th>\n",
       "      <th>airports_nearest</th>\n",
       "      <th>cityCenters_nearest</th>\n",
       "      <th>parks_around3000</th>\n",
       "      <th>parks_nearest</th>\n",
       "      <th>ponds_around3000</th>\n",
       "      <th>ponds_nearest</th>\n",
       "      <th>days_exposition</th>\n",
       "    </tr>\n",
       "  </thead>\n",
       "  <tbody>\n",
       "  </tbody>\n",
       "</table>\n",
       "<p>0 rows × 22 columns</p>\n",
       "</div>"
      ],
      "text/plain": [
       "Empty DataFrame\n",
       "Columns: [total_images, last_price, total_area, first_day_exposition, rooms, ceiling_height, floors_total, living_area, floor, is_apartment, studio, open_plan, kitchen_area, balcony, locality_name, airports_nearest, cityCenters_nearest, parks_around3000, parks_nearest, ponds_around3000, ponds_nearest, days_exposition]\n",
       "Index: []\n",
       "\n",
       "[0 rows x 22 columns]"
      ]
     },
     "execution_count": 20,
     "metadata": {},
     "output_type": "execute_result"
    }
   ],
   "source": [
    "df.query('living_area + kitchen_area > total_area')"
   ]
  },
  {
   "cell_type": "markdown",
   "metadata": {},
   "source": [
    "Заполним пропуски в столбцах airports_nearest и cityCenters_nearest по медиане от населенного пункта, у которого есть значение в столбце locality_name."
   ]
  },
  {
   "cell_type": "code",
   "execution_count": 21,
   "metadata": {},
   "outputs": [
    {
     "name": "stdout",
     "output_type": "stream",
     "text": [
      "[12244.5 24212.      nan 19311.  51677.  33771.  27930.5 32018.  21888.\n",
      " 49575.  27602.  32683.  34821.  29140.5 32354.  53381.  65764.  23506.\n",
      " 27468.  26099.5 34085.  27165.  42896.5 35859.5 28246.  25727.  38868.\n",
      " 27297.  28222.5]\n",
      "[26757.5 17427.      nan 53426.  48415.5 39231.  15766.  26232.  51553.\n",
      " 67850.  25758.  20529.5 56692.  25715.5 30642.  72282.  84665.  28317.\n",
      " 12896.5 54831.5 61908.  20605.  61797.5 34147.5 55930.  52693.  57769.\n",
      " 54988.5 26510.5]\n"
     ]
    }
   ],
   "source": [
    "cityCenters_nearest_median_group = df.groupby('locality_name')['cityCenters_nearest'].transform('median')\n",
    "print(cityCenters_nearest_median_group.unique())\n",
    "df['cityCenters_nearest'] = df['cityCenters_nearest'].fillna(value = cityCenters_nearest_median_group)\n",
    "#Так как есть населеные пункты для которых в принципе не указано хотя бы одно значение, групировка не сработает\n",
    "#Заменим пустыне строки на медианное значение для Санкт-Питербурга\n",
    "df['cityCenters_nearest'] = df['cityCenters_nearest'].fillna(value = df.loc[df['locality_name'] == 'Санкт-Петербург', 'cityCenters_nearest'].median())\n",
    "\n",
    "airports_nearest_median_group = df.groupby('locality_name')['airports_nearest'].transform('median')\n",
    "print(airports_nearest_median_group.unique())\n",
    "df['airports_nearest'] = df['airports_nearest'].fillna(value = airports_nearest_median_group)\n",
    "#Так как есть населеные пункты для которых в принципе не указано хотя бы одно значение, групировка не сработает\n",
    "#Заменим пустыне строки на медианное значение для Санкт-Питербурга\n",
    "df['airports_nearest'] = df['airports_nearest'].fillna(value = df.loc[df['locality_name'] == 'Санкт-Петербург', 'airports_nearest'].median())\n"
   ]
  },
  {
   "cell_type": "markdown",
   "metadata": {},
   "source": [
    "Для столбцов parks_nearest и ponds_nearest заполним 0 по принципу, если нет парка, нет пруда, то и значения не важны."
   ]
  },
  {
   "cell_type": "code",
   "execution_count": 22,
   "metadata": {},
   "outputs": [],
   "source": [
    "df.loc[(df['parks_around3000'] == 0), 'parks_nearest'] = 0\n",
    "df.loc[(df['ponds_around3000'] == 0), 'ponds_nearest'] = 0"
   ]
  },
  {
   "cell_type": "markdown",
   "metadata": {},
   "source": [
    "Для столбца days_exposition определить значение по имеющимся данным будет невозможно. Информацию по нему нужно запросить дополнительно.\n",
    "Оставшиеся пропуски в airports_nearest и cityCenters_nearest соответствуют населенным пунктам, расположенным далеко от центра СПб, поэтому влияния на исследования не окажут. Такая информация получена автоматически на основе картографических данных, поэтому запрашивать необходимо у разработчиков."
   ]
  },
  {
   "cell_type": "code",
   "execution_count": 23,
   "metadata": {},
   "outputs": [
    {
     "data": {
      "text/plain": [
       "total_images               0\n",
       "last_price                 0\n",
       "total_area                 0\n",
       "first_day_exposition       0\n",
       "rooms                      0\n",
       "ceiling_height             0\n",
       "floors_total               0\n",
       "living_area                0\n",
       "floor                      0\n",
       "is_apartment               0\n",
       "studio                     0\n",
       "open_plan                  0\n",
       "kitchen_area               0\n",
       "balcony                    0\n",
       "locality_name              0\n",
       "airports_nearest           0\n",
       "cityCenters_nearest        0\n",
       "parks_around3000           0\n",
       "parks_nearest              0\n",
       "ponds_around3000           0\n",
       "ponds_nearest              0\n",
       "days_exposition         3180\n",
       "dtype: int64"
      ]
     },
     "execution_count": 23,
     "metadata": {},
     "output_type": "execute_result"
    }
   ],
   "source": [
    "df.isna().sum()"
   ]
  },
  {
   "cell_type": "markdown",
   "metadata": {},
   "source": [
    "### Вывод"
   ]
  },
  {
   "cell_type": "markdown",
   "metadata": {},
   "source": [
    "Пропуски заполнены, где это уместно. Метод заполения и причины возникновения описаны для каждого отдельно выше.\n",
    "В целом оставлены пропуски там, где их мало или не повлияют на исследования. Кроме days_exposition, определить корректное число дней продажи сложно, можно продать и за неделю и продавать несколько лет. Поэтому оставим без заполнения и не будем учитывать при проведении исследований. Возможно, объявление ушло в архив, а квартира так и не продалась. В любом случае, нужно запросить у разработчиков."
   ]
  },
  {
   "cell_type": "markdown",
   "metadata": {},
   "source": [
    "### Обработка дубликатов"
   ]
  },
  {
   "cell_type": "markdown",
   "metadata": {},
   "source": [
    "Найдем и обработаем дубликаты, используя метод duplicated() и посчитаем количество методом sum()."
   ]
  },
  {
   "cell_type": "code",
   "execution_count": 24,
   "metadata": {},
   "outputs": [
    {
     "data": {
      "text/plain": [
       "0"
      ]
     },
     "execution_count": 24,
     "metadata": {},
     "output_type": "execute_result"
    }
   ],
   "source": [
    "df.duplicated().sum()"
   ]
  },
  {
   "cell_type": "markdown",
   "metadata": {},
   "source": [
    "### Замена типа данных"
   ]
  },
  {
   "cell_type": "markdown",
   "metadata": {},
   "source": [
    "Заменим значения типа float64 на целочисленные значения int64 в столбцах с помощью метода .astype:\n",
    "-   last_price\n",
    "-   balcony\n",
    "-   floors_total\n",
    "-   parks_around3000\n",
    "-   ponds_around3000\n",
    "-   parks_nearest\n",
    "-   ponds_nearest\n",
    "\n",
    "Проверим результаты, вызвав info()."
   ]
  },
  {
   "cell_type": "code",
   "execution_count": 25,
   "metadata": {},
   "outputs": [],
   "source": [
    "list_to_convert = ['last_price','balcony','floors_total','parks_around3000','ponds_around3000','parks_nearest','ponds_nearest',]\n",
    "for item in list_to_convert:\n",
    "    df[item] = df[item].astype('int')"
   ]
  },
  {
   "cell_type": "code",
   "execution_count": 26,
   "metadata": {},
   "outputs": [
    {
     "name": "stdout",
     "output_type": "stream",
     "text": [
      "<class 'pandas.core.frame.DataFrame'>\n",
      "Int64Index: 23650 entries, 0 to 23698\n",
      "Data columns (total 22 columns):\n",
      "total_images            23650 non-null int64\n",
      "last_price              23650 non-null int64\n",
      "total_area              23650 non-null float64\n",
      "first_day_exposition    23650 non-null object\n",
      "rooms                   23650 non-null int64\n",
      "ceiling_height          23650 non-null float64\n",
      "floors_total            23650 non-null int64\n",
      "living_area             23650 non-null float64\n",
      "floor                   23650 non-null int64\n",
      "is_apartment            23650 non-null bool\n",
      "studio                  23650 non-null bool\n",
      "open_plan               23650 non-null bool\n",
      "kitchen_area            23650 non-null float64\n",
      "balcony                 23650 non-null int64\n",
      "locality_name           23650 non-null object\n",
      "airports_nearest        23650 non-null float64\n",
      "cityCenters_nearest     23650 non-null float64\n",
      "parks_around3000        23650 non-null int64\n",
      "parks_nearest           23650 non-null int64\n",
      "ponds_around3000        23650 non-null int64\n",
      "ponds_nearest           23650 non-null int64\n",
      "days_exposition         20470 non-null float64\n",
      "dtypes: bool(3), float64(7), int64(10), object(2)\n",
      "memory usage: 4.3+ MB\n"
     ]
    }
   ],
   "source": [
    "df.info()"
   ]
  },
  {
   "cell_type": "markdown",
   "metadata": {},
   "source": [
    "### Вывод"
   ]
  },
  {
   "cell_type": "markdown",
   "metadata": {},
   "source": [
    "Значения столбцов заменены на натуральные числа для более легкого визуального восприятния данных и снижения объема памяти хранения."
   ]
  },
  {
   "cell_type": "markdown",
   "metadata": {},
   "source": [
    "## Расчёты и добавление результатов в таблицу"
   ]
  },
  {
   "cell_type": "code",
   "execution_count": 27,
   "metadata": {},
   "outputs": [],
   "source": [
    "#Посчитаем цену квадратного метра для каждой строки и создадим столбец cost_per_m2\n",
    "df['cost_per_m2'] = df['last_price'] / df['total_area']"
   ]
  },
  {
   "cell_type": "markdown",
   "metadata": {},
   "source": [
    "Переведем дату в удобный формат с помощью метода to_datetime и создадим столбцы weekday(день недели), month(месяц) и year(год)"
   ]
  },
  {
   "cell_type": "code",
   "execution_count": 28,
   "metadata": {},
   "outputs": [],
   "source": [
    "df['first_day_exposition'] = pd.to_datetime(df['first_day_exposition'], format='%Y-%m-%dT%H:%M:%S')"
   ]
  },
  {
   "cell_type": "code",
   "execution_count": 29,
   "metadata": {},
   "outputs": [],
   "source": [
    "df['weekday'] = df['first_day_exposition'].dt.weekday\n",
    "df['month'] = pd.DatetimeIndex(df['first_day_exposition']).month\n",
    "df['year'] = df['first_day_exposition'].dt.year"
   ]
  },
  {
   "cell_type": "markdown",
   "metadata": {},
   "source": [
    "Напишем функцию floor_type для определения этажа квартиры и категоризируем на варианты — первый, последний, другой."
   ]
  },
  {
   "cell_type": "code",
   "execution_count": 30,
   "metadata": {},
   "outputs": [],
   "source": [
    "def floor_type(row):\n",
    "    floor = row['floor']\n",
    "    floors_total = row['floors_total']\n",
    "    if floor == 1:\n",
    "        return 'first'\n",
    "    elif floor ==  floors_total:\n",
    "        return 'last'\n",
    "    else:\n",
    "        return 'other'\n",
    "df['floor_type'] = df.apply(floor_type, axis= 1)"
   ]
  },
  {
   "cell_type": "markdown",
   "metadata": {},
   "source": [
    "Посчитаем соотношение жилой и общей площади, а также отношение площади кухни к общей. Создадим столбцы living_area_per_total_area и kitchen_area_per_total_area."
   ]
  },
  {
   "cell_type": "code",
   "execution_count": 31,
   "metadata": {},
   "outputs": [],
   "source": [
    "df['living_area_per_total_area'] = df['living_area'] / df['total_area']\n",
    "df['kitchen_area_per_total_area'] = df['kitchen_area'] / df['total_area']"
   ]
  },
  {
   "cell_type": "markdown",
   "metadata": {},
   "source": [
    "Проверим, что получилось, вызвав 5 перых строк"
   ]
  },
  {
   "cell_type": "code",
   "execution_count": 32,
   "metadata": {},
   "outputs": [
    {
     "data": {
      "text/html": [
       "<div>\n",
       "<style scoped>\n",
       "    .dataframe tbody tr th:only-of-type {\n",
       "        vertical-align: middle;\n",
       "    }\n",
       "\n",
       "    .dataframe tbody tr th {\n",
       "        vertical-align: top;\n",
       "    }\n",
       "\n",
       "    .dataframe thead th {\n",
       "        text-align: right;\n",
       "    }\n",
       "</style>\n",
       "<table border=\"1\" class=\"dataframe\">\n",
       "  <thead>\n",
       "    <tr style=\"text-align: right;\">\n",
       "      <th></th>\n",
       "      <th>total_images</th>\n",
       "      <th>last_price</th>\n",
       "      <th>total_area</th>\n",
       "      <th>first_day_exposition</th>\n",
       "      <th>rooms</th>\n",
       "      <th>ceiling_height</th>\n",
       "      <th>floors_total</th>\n",
       "      <th>living_area</th>\n",
       "      <th>floor</th>\n",
       "      <th>is_apartment</th>\n",
       "      <th>...</th>\n",
       "      <th>ponds_around3000</th>\n",
       "      <th>ponds_nearest</th>\n",
       "      <th>days_exposition</th>\n",
       "      <th>cost_per_m2</th>\n",
       "      <th>weekday</th>\n",
       "      <th>month</th>\n",
       "      <th>year</th>\n",
       "      <th>floor_type</th>\n",
       "      <th>living_area_per_total_area</th>\n",
       "      <th>kitchen_area_per_total_area</th>\n",
       "    </tr>\n",
       "  </thead>\n",
       "  <tbody>\n",
       "    <tr>\n",
       "      <td>0</td>\n",
       "      <td>20</td>\n",
       "      <td>13000000</td>\n",
       "      <td>108.0</td>\n",
       "      <td>2019-03-07</td>\n",
       "      <td>3</td>\n",
       "      <td>2.70</td>\n",
       "      <td>16</td>\n",
       "      <td>51.0</td>\n",
       "      <td>8</td>\n",
       "      <td>False</td>\n",
       "      <td>...</td>\n",
       "      <td>2</td>\n",
       "      <td>755</td>\n",
       "      <td>NaN</td>\n",
       "      <td>120370.370370</td>\n",
       "      <td>3</td>\n",
       "      <td>3</td>\n",
       "      <td>2019</td>\n",
       "      <td>other</td>\n",
       "      <td>0.472222</td>\n",
       "      <td>0.231481</td>\n",
       "    </tr>\n",
       "    <tr>\n",
       "      <td>1</td>\n",
       "      <td>7</td>\n",
       "      <td>3350000</td>\n",
       "      <td>40.4</td>\n",
       "      <td>2018-12-04</td>\n",
       "      <td>1</td>\n",
       "      <td>2.65</td>\n",
       "      <td>11</td>\n",
       "      <td>18.6</td>\n",
       "      <td>1</td>\n",
       "      <td>False</td>\n",
       "      <td>...</td>\n",
       "      <td>0</td>\n",
       "      <td>0</td>\n",
       "      <td>81.0</td>\n",
       "      <td>82920.792079</td>\n",
       "      <td>1</td>\n",
       "      <td>12</td>\n",
       "      <td>2018</td>\n",
       "      <td>first</td>\n",
       "      <td>0.460396</td>\n",
       "      <td>0.272277</td>\n",
       "    </tr>\n",
       "    <tr>\n",
       "      <td>2</td>\n",
       "      <td>10</td>\n",
       "      <td>5196000</td>\n",
       "      <td>56.0</td>\n",
       "      <td>2015-08-20</td>\n",
       "      <td>2</td>\n",
       "      <td>2.65</td>\n",
       "      <td>5</td>\n",
       "      <td>34.3</td>\n",
       "      <td>4</td>\n",
       "      <td>False</td>\n",
       "      <td>...</td>\n",
       "      <td>2</td>\n",
       "      <td>574</td>\n",
       "      <td>558.0</td>\n",
       "      <td>92785.714286</td>\n",
       "      <td>3</td>\n",
       "      <td>8</td>\n",
       "      <td>2015</td>\n",
       "      <td>other</td>\n",
       "      <td>0.612500</td>\n",
       "      <td>0.148214</td>\n",
       "    </tr>\n",
       "    <tr>\n",
       "      <td>3</td>\n",
       "      <td>0</td>\n",
       "      <td>64900000</td>\n",
       "      <td>159.0</td>\n",
       "      <td>2015-07-24</td>\n",
       "      <td>3</td>\n",
       "      <td>2.65</td>\n",
       "      <td>14</td>\n",
       "      <td>45.0</td>\n",
       "      <td>9</td>\n",
       "      <td>False</td>\n",
       "      <td>...</td>\n",
       "      <td>3</td>\n",
       "      <td>234</td>\n",
       "      <td>424.0</td>\n",
       "      <td>408176.100629</td>\n",
       "      <td>4</td>\n",
       "      <td>7</td>\n",
       "      <td>2015</td>\n",
       "      <td>other</td>\n",
       "      <td>0.283019</td>\n",
       "      <td>0.059748</td>\n",
       "    </tr>\n",
       "    <tr>\n",
       "      <td>4</td>\n",
       "      <td>2</td>\n",
       "      <td>10000000</td>\n",
       "      <td>100.0</td>\n",
       "      <td>2018-06-19</td>\n",
       "      <td>2</td>\n",
       "      <td>3.03</td>\n",
       "      <td>14</td>\n",
       "      <td>32.0</td>\n",
       "      <td>13</td>\n",
       "      <td>False</td>\n",
       "      <td>...</td>\n",
       "      <td>1</td>\n",
       "      <td>48</td>\n",
       "      <td>121.0</td>\n",
       "      <td>100000.000000</td>\n",
       "      <td>1</td>\n",
       "      <td>6</td>\n",
       "      <td>2018</td>\n",
       "      <td>other</td>\n",
       "      <td>0.320000</td>\n",
       "      <td>0.410000</td>\n",
       "    </tr>\n",
       "  </tbody>\n",
       "</table>\n",
       "<p>5 rows × 29 columns</p>\n",
       "</div>"
      ],
      "text/plain": [
       "   total_images  last_price  total_area first_day_exposition  rooms  \\\n",
       "0            20    13000000       108.0           2019-03-07      3   \n",
       "1             7     3350000        40.4           2018-12-04      1   \n",
       "2            10     5196000        56.0           2015-08-20      2   \n",
       "3             0    64900000       159.0           2015-07-24      3   \n",
       "4             2    10000000       100.0           2018-06-19      2   \n",
       "\n",
       "   ceiling_height  floors_total  living_area  floor  is_apartment  ...  \\\n",
       "0            2.70            16         51.0      8         False  ...   \n",
       "1            2.65            11         18.6      1         False  ...   \n",
       "2            2.65             5         34.3      4         False  ...   \n",
       "3            2.65            14         45.0      9         False  ...   \n",
       "4            3.03            14         32.0     13         False  ...   \n",
       "\n",
       "   ponds_around3000  ponds_nearest  days_exposition    cost_per_m2 weekday  \\\n",
       "0                 2            755              NaN  120370.370370       3   \n",
       "1                 0              0             81.0   82920.792079       1   \n",
       "2                 2            574            558.0   92785.714286       3   \n",
       "3                 3            234            424.0  408176.100629       4   \n",
       "4                 1             48            121.0  100000.000000       1   \n",
       "\n",
       "   month  year  floor_type  living_area_per_total_area  \\\n",
       "0      3  2019       other                    0.472222   \n",
       "1     12  2018       first                    0.460396   \n",
       "2      8  2015       other                    0.612500   \n",
       "3      7  2015       other                    0.283019   \n",
       "4      6  2018       other                    0.320000   \n",
       "\n",
       "   kitchen_area_per_total_area  \n",
       "0                     0.231481  \n",
       "1                     0.272277  \n",
       "2                     0.148214  \n",
       "3                     0.059748  \n",
       "4                     0.410000  \n",
       "\n",
       "[5 rows x 29 columns]"
      ]
     },
     "execution_count": 32,
     "metadata": {},
     "output_type": "execute_result"
    }
   ],
   "source": [
    "df.head(5)"
   ]
  },
  {
   "cell_type": "markdown",
   "metadata": {},
   "source": [
    "### Вывод"
   ]
  },
  {
   "cell_type": "markdown",
   "metadata": {},
   "source": [
    "Добавили новые столбцы, необходимые для проведения исследований и проверке гипотез в следущем шаге."
   ]
  },
  {
   "cell_type": "markdown",
   "metadata": {},
   "source": [
    "## Исследовательский анализ данных\n",
    "\n",
    "Выведем срез по столбцам total_area, last_price, rooms, ceiling_height, days_exposition и, применив .describe, получим информацию о них"
   ]
  },
  {
   "cell_type": "code",
   "execution_count": 33,
   "metadata": {},
   "outputs": [
    {
     "data": {
      "text/html": [
       "<div>\n",
       "<style scoped>\n",
       "    .dataframe tbody tr th:only-of-type {\n",
       "        vertical-align: middle;\n",
       "    }\n",
       "\n",
       "    .dataframe tbody tr th {\n",
       "        vertical-align: top;\n",
       "    }\n",
       "\n",
       "    .dataframe thead th {\n",
       "        text-align: right;\n",
       "    }\n",
       "</style>\n",
       "<table border=\"1\" class=\"dataframe\">\n",
       "  <thead>\n",
       "    <tr style=\"text-align: right;\">\n",
       "      <th></th>\n",
       "      <th>total_area</th>\n",
       "      <th>last_price</th>\n",
       "      <th>rooms</th>\n",
       "      <th>ceiling_height</th>\n",
       "      <th>days_exposition</th>\n",
       "    </tr>\n",
       "  </thead>\n",
       "  <tbody>\n",
       "    <tr>\n",
       "      <td>count</td>\n",
       "      <td>23650.000000</td>\n",
       "      <td>2.365000e+04</td>\n",
       "      <td>23650.000000</td>\n",
       "      <td>23650.000000</td>\n",
       "      <td>20470.000000</td>\n",
       "    </tr>\n",
       "    <tr>\n",
       "      <td>mean</td>\n",
       "      <td>60.329069</td>\n",
       "      <td>6.541127e+06</td>\n",
       "      <td>2.078436</td>\n",
       "      <td>2.724311</td>\n",
       "      <td>180.753200</td>\n",
       "    </tr>\n",
       "    <tr>\n",
       "      <td>std</td>\n",
       "      <td>35.661808</td>\n",
       "      <td>1.089640e+07</td>\n",
       "      <td>1.066393</td>\n",
       "      <td>0.989255</td>\n",
       "      <td>219.777916</td>\n",
       "    </tr>\n",
       "    <tr>\n",
       "      <td>min</td>\n",
       "      <td>12.000000</td>\n",
       "      <td>1.219000e+04</td>\n",
       "      <td>1.000000</td>\n",
       "      <td>1.000000</td>\n",
       "      <td>1.000000</td>\n",
       "    </tr>\n",
       "    <tr>\n",
       "      <td>25%</td>\n",
       "      <td>40.000000</td>\n",
       "      <td>3.400000e+06</td>\n",
       "      <td>1.000000</td>\n",
       "      <td>2.600000</td>\n",
       "      <td>45.000000</td>\n",
       "    </tr>\n",
       "    <tr>\n",
       "      <td>50%</td>\n",
       "      <td>52.000000</td>\n",
       "      <td>4.650000e+06</td>\n",
       "      <td>2.000000</td>\n",
       "      <td>2.650000</td>\n",
       "      <td>95.000000</td>\n",
       "    </tr>\n",
       "    <tr>\n",
       "      <td>75%</td>\n",
       "      <td>69.700000</td>\n",
       "      <td>6.799000e+06</td>\n",
       "      <td>3.000000</td>\n",
       "      <td>2.700000</td>\n",
       "      <td>231.000000</td>\n",
       "    </tr>\n",
       "    <tr>\n",
       "      <td>max</td>\n",
       "      <td>900.000000</td>\n",
       "      <td>7.630000e+08</td>\n",
       "      <td>19.000000</td>\n",
       "      <td>100.000000</td>\n",
       "      <td>1580.000000</td>\n",
       "    </tr>\n",
       "  </tbody>\n",
       "</table>\n",
       "</div>"
      ],
      "text/plain": [
       "         total_area    last_price         rooms  ceiling_height  \\\n",
       "count  23650.000000  2.365000e+04  23650.000000    23650.000000   \n",
       "mean      60.329069  6.541127e+06      2.078436        2.724311   \n",
       "std       35.661808  1.089640e+07      1.066393        0.989255   \n",
       "min       12.000000  1.219000e+04      1.000000        1.000000   \n",
       "25%       40.000000  3.400000e+06      1.000000        2.600000   \n",
       "50%       52.000000  4.650000e+06      2.000000        2.650000   \n",
       "75%       69.700000  6.799000e+06      3.000000        2.700000   \n",
       "max      900.000000  7.630000e+08     19.000000      100.000000   \n",
       "\n",
       "       days_exposition  \n",
       "count     20470.000000  \n",
       "mean        180.753200  \n",
       "std         219.777916  \n",
       "min           1.000000  \n",
       "25%          45.000000  \n",
       "50%          95.000000  \n",
       "75%         231.000000  \n",
       "max        1580.000000  "
      ]
     },
     "execution_count": 33,
     "metadata": {},
     "output_type": "execute_result"
    }
   ],
   "source": [
    "df.loc[:,['total_area','last_price','rooms','ceiling_height','days_exposition']].describe()"
   ]
  },
  {
   "cell_type": "markdown",
   "metadata": {},
   "source": [
    "Первое, что нужно изменить - перевести цену в млн.руб. Создадим новый столбец price_in_million"
   ]
  },
  {
   "cell_type": "code",
   "execution_count": 34,
   "metadata": {},
   "outputs": [],
   "source": [
    "df['price_in_million'] = df['last_price'] / 1000000"
   ]
  },
  {
   "cell_type": "markdown",
   "metadata": {},
   "source": [
    "Напишем функцию boxplot_values, которая выдает значения диаграмы размаха для требуемого столбца"
   ]
  },
  {
   "cell_type": "code",
   "execution_count": 35,
   "metadata": {},
   "outputs": [],
   "source": [
    "def boxplot_values(column):\n",
    "    upper_quartile = df[column].quantile(.75)\n",
    "    lower_quartile = df[column].quantile(.25)\n",
    "    iqr = upper_quartile - lower_quartile\n",
    "    upper_whisker = df[column][df[column] <= upper_quartile + 1.5 * iqr].max()\n",
    "    lower_whisker = df[column][df[column] >= lower_quartile - 1.5 * iqr].min()\n",
    "    print('Нижний квартиль:', lower_quartile)\n",
    "    print('Верхний квартиль:', upper_quartile)\n",
    "    print('Нижний \"ус\":', lower_whisker)\n",
    "    print('Верхний \"ус\":', upper_whisker)"
   ]
  },
  {
   "cell_type": "markdown",
   "metadata": {},
   "source": [
    "Напишем функцию hist_boxplot, которая строит гистограмму и диаграму размаха, выдает значения диаграмы размаха для требуемого столбца"
   ]
  },
  {
   "cell_type": "code",
   "execution_count": 36,
   "metadata": {},
   "outputs": [],
   "source": [
    "def hist_boxplot(column):\n",
    "    df[column].hist(bins=200, figsize=(15,5)).set(xlabel=column, ylabel='Частота');\n",
    "    plt.show()\n",
    "    df.boxplot(column=column, vert=False, figsize=(15,3)).set(xlabel='Частота');\n",
    "    boxplot_values(column)"
   ]
  },
  {
   "cell_type": "markdown",
   "metadata": {},
   "source": [
    "Построим гистограмму и диаграму размаха для total_area"
   ]
  },
  {
   "cell_type": "code",
   "execution_count": 37,
   "metadata": {},
   "outputs": [
    {
     "data": {
      "image/png": "[encoded data removed]",
      "text/plain": [
       "<Figure size 1080x360 with 1 Axes>"
      ]
     },
     "metadata": {
      "needs_background": "light"
     },
     "output_type": "display_data"
    },
    {
     "name": "stdout",
     "output_type": "stream",
     "text": [
      "Нижний квартиль: 40.0\n",
      "Верхний квартиль: 69.7\n",
      "Нижний \"ус\": 12.0\n",
      "Верхний \"ус\": 114.2\n"
     ]
    },
    {
     "data": {
      "image/png": "[encoded data removed]",
      "text/plain": [
       "<Figure size 1080x216 with 1 Axes>"
      ]
     },
     "metadata": {
      "needs_background": "light"
     },
     "output_type": "display_data"
    }
   ],
   "source": [
    "hist_boxplot('total_area')"
   ]
  },
  {
   "cell_type": "markdown",
   "metadata": {},
   "source": [
    "Посчитаем количество значений больше верхнего \"уса\""
   ]
  },
  {
   "cell_type": "code",
   "execution_count": 38,
   "metadata": {},
   "outputs": [
    {
     "data": {
      "text/plain": [
       "1237"
      ]
     },
     "execution_count": 38,
     "metadata": {},
     "output_type": "execute_result"
    }
   ],
   "source": [
    "df.query('total_area > 114.6')['total_area'].count()"
   ]
  },
  {
   "cell_type": "markdown",
   "metadata": {},
   "source": [
    "Используя \"верхний ус\" как границу теряем 1237 строк, что достаточно много. По диаграмме распределения видно что после значения 400, значений становиться все реже. Поэтому применим это значения для верхней границы среза и построим отфильтрованную гистограмму"
   ]
  },
  {
   "cell_type": "code",
   "execution_count": 39,
   "metadata": {},
   "outputs": [
    {
     "data": {
      "text/plain": [
       "23"
      ]
     },
     "execution_count": 39,
     "metadata": {},
     "output_type": "execute_result"
    }
   ],
   "source": [
    "df.query('total_area > 400')['total_area'].count()"
   ]
  },
  {
   "cell_type": "code",
   "execution_count": 40,
   "metadata": {},
   "outputs": [
    {
     "data": {
      "image/png": "[encoded data removed]",
      "text/plain": [
       "<Figure size 1080x360 with 1 Axes>"
      ]
     },
     "metadata": {
      "needs_background": "light"
     },
     "output_type": "display_data"
    }
   ],
   "source": [
    "total_area_good = df.query('total_area < 400')\n",
    "(total_area_good['total_area'].hist(bins=200, figsize=(15,5))).set(xlabel='total_area', ylabel='Частота');"
   ]
  },
  {
   "cell_type": "markdown",
   "metadata": {},
   "source": [
    "Построим гистограмму и диаграму размаха для price_in_million"
   ]
  },
  {
   "cell_type": "code",
   "execution_count": 41,
   "metadata": {},
   "outputs": [
    {
     "data": {
      "image/png": "[encoded data removed]",
      "text/plain": [
       "<Figure size 1080x360 with 1 Axes>"
      ]
     },
     "metadata": {
      "needs_background": "light"
     },
     "output_type": "display_data"
    },
    {
     "name": "stdout",
     "output_type": "stream",
     "text": [
      "Нижний квартиль: 3.4\n",
      "Верхний квартиль: 6.799\n",
      "Нижний \"ус\": 0.01219\n",
      "Верхний \"ус\": 11.8944\n"
     ]
    },
    {
     "data": {
      "image/png": "[encoded data removed]",
      "text/plain": [
       "<Figure size 1080x216 with 1 Axes>"
      ]
     },
     "metadata": {
      "needs_background": "light"
     },
     "output_type": "display_data"
    }
   ],
   "source": [
    "hist_boxplot('price_in_million')"
   ]
  },
  {
   "cell_type": "code",
   "execution_count": 42,
   "metadata": {},
   "outputs": [
    {
     "data": {
      "text/plain": [
       "1"
      ]
     },
     "execution_count": 42,
     "metadata": {},
     "output_type": "execute_result"
    }
   ],
   "source": [
    "df.query('price_in_million < 0.1')['price_in_million'].count()"
   ]
  },
  {
   "cell_type": "code",
   "execution_count": 43,
   "metadata": {},
   "outputs": [
    {
     "data": {
      "text/plain": [
       "2019"
      ]
     },
     "execution_count": 43,
     "metadata": {},
     "output_type": "execute_result"
    }
   ],
   "source": [
    "df.query('11.89 < price_in_million < 100 ')['price_in_million'].count()"
   ]
  },
  {
   "cell_type": "markdown",
   "metadata": {},
   "source": [
    "По нижнему \"усу\" видно анамальное значение, также до 100 много значений. Ограничим верхний предел 100."
   ]
  },
  {
   "cell_type": "code",
   "execution_count": 44,
   "metadata": {},
   "outputs": [
    {
     "data": {
      "image/png": "[encoded data removed]",
      "text/plain": [
       "<Figure size 1080x360 with 1 Axes>"
      ]
     },
     "metadata": {
      "needs_background": "light"
     },
     "output_type": "display_data"
    }
   ],
   "source": [
    "price_in_million_good = df.query('0.1 < price_in_million < 100')\n",
    "price_in_million_good['price_in_million'].hist(bins=200, figsize=(15,5)).set(xlabel='price_in_million', ylabel='Частота');"
   ]
  },
  {
   "cell_type": "markdown",
   "metadata": {},
   "source": [
    "Построим гистограмму и диаграму размаха для rooms"
   ]
  },
  {
   "cell_type": "code",
   "execution_count": 45,
   "metadata": {},
   "outputs": [
    {
     "data": {
      "image/png": "[encoded data removed]",
      "text/plain": [
       "<Figure size 1080x360 with 1 Axes>"
      ]
     },
     "metadata": {
      "needs_background": "light"
     },
     "output_type": "display_data"
    },
    {
     "name": "stdout",
     "output_type": "stream",
     "text": [
      "Нижний квартиль: 1.0\n",
      "Верхний квартиль: 3.0\n",
      "Нижний \"ус\": 1\n",
      "Верхний \"ус\": 6\n"
     ]
    },
    {
     "data": {
      "image/png": "[encoded data removed]",
      "text/plain": [
       "<Figure size 1080x216 with 1 Axes>"
      ]
     },
     "metadata": {
      "needs_background": "light"
     },
     "output_type": "display_data"
    }
   ],
   "source": [
    "hist_boxplot('rooms')"
   ]
  },
  {
   "cell_type": "markdown",
   "metadata": {},
   "source": [
    "Ограничим верхний предел 10 комнатами."
   ]
  },
  {
   "cell_type": "code",
   "execution_count": 46,
   "metadata": {},
   "outputs": [
    {
     "data": {
      "text/plain": [
       "8"
      ]
     },
     "execution_count": 46,
     "metadata": {},
     "output_type": "execute_result"
    }
   ],
   "source": [
    "df.query('rooms > 10')['rooms'].count()"
   ]
  },
  {
   "cell_type": "code",
   "execution_count": 47,
   "metadata": {},
   "outputs": [
    {
     "data": {
      "image/png": "[encoded data removed]",
      "text/plain": [
       "<Figure size 1080x360 with 1 Axes>"
      ]
     },
     "metadata": {
      "needs_background": "light"
     },
     "output_type": "display_data"
    }
   ],
   "source": [
    "rooms_good = df.query('rooms <= 10')\n",
    "rooms_good['rooms'].hist(bins=18, figsize=(15,5)).set(xlabel='rooms', ylabel='Частота');"
   ]
  },
  {
   "cell_type": "markdown",
   "metadata": {},
   "source": [
    "Построим гистограмму и диаграму размаха для ceiling_height"
   ]
  },
  {
   "cell_type": "code",
   "execution_count": 48,
   "metadata": {},
   "outputs": [
    {
     "data": {
      "image/png": "[encoded data removed]",
      "text/plain": [
       "<Figure size 1080x360 with 1 Axes>"
      ]
     },
     "metadata": {
      "needs_background": "light"
     },
     "output_type": "display_data"
    },
    {
     "name": "stdout",
     "output_type": "stream",
     "text": [
      "Нижний квартиль: 2.6\n",
      "Верхний квартиль: 2.7\n",
      "Нижний \"ус\": 2.45\n",
      "Верхний \"ус\": 2.85\n"
     ]
    },
    {
     "data": {
      "image/png": "[encoded data removed]",
      "text/plain": [
       "<Figure size 1080x216 with 1 Axes>"
      ]
     },
     "metadata": {
      "needs_background": "light"
     },
     "output_type": "display_data"
    }
   ],
   "source": [
    "hist_boxplot('ceiling_height')"
   ]
  },
  {
   "cell_type": "markdown",
   "metadata": {},
   "source": [
    "Жить в комнате, высотой ниже 2 метров проблематично, а потолки на первых этажах строят высокими, ограничим 5м"
   ]
  },
  {
   "cell_type": "code",
   "execution_count": 49,
   "metadata": {},
   "outputs": [
    {
     "data": {
      "text/plain": [
       "3"
      ]
     },
     "execution_count": 49,
     "metadata": {},
     "output_type": "execute_result"
    }
   ],
   "source": [
    "df.query('ceiling_height < 2')['ceiling_height'].count()"
   ]
  },
  {
   "cell_type": "code",
   "execution_count": 50,
   "metadata": {},
   "outputs": [
    {
     "data": {
      "text/plain": [
       "36"
      ]
     },
     "execution_count": 50,
     "metadata": {},
     "output_type": "execute_result"
    }
   ],
   "source": [
    "df.query('ceiling_height > 5')['ceiling_height'].count()"
   ]
  },
  {
   "cell_type": "code",
   "execution_count": 51,
   "metadata": {
    "scrolled": true
   },
   "outputs": [
    {
     "data": {
      "image/png": "[encoded data removed]",
      "text/plain": [
       "<Figure size 1080x360 with 1 Axes>"
      ]
     },
     "metadata": {
      "needs_background": "light"
     },
     "output_type": "display_data"
    }
   ],
   "source": [
    "ceiling_height_good = df.query(' 2 <= ceiling_height <= 5')\n",
    "ceiling_height_good['ceiling_height'].hist(bins=50, figsize=(15,5)).set(xlabel='ceiling_height', ylabel='Частота');"
   ]
  },
  {
   "cell_type": "code",
   "execution_count": 98,
   "metadata": {},
   "outputs": [
    {
     "name": "stdout",
     "output_type": "stream",
     "text": [
      "count    23650.000000\n",
      "mean        60.329069\n",
      "std         35.661808\n",
      "min         12.000000\n",
      "25%         40.000000\n",
      "50%         52.000000\n",
      "75%         69.700000\n",
      "max        900.000000\n",
      "Name: total_area, dtype: float64\n",
      "count    23650.000000\n",
      "mean         6.541127\n",
      "std         10.896399\n",
      "min          0.012190\n",
      "25%          3.400000\n",
      "50%          4.650000\n",
      "75%          6.799000\n",
      "max        763.000000\n",
      "Name: price_in_million, dtype: float64\n",
      "count    23650.000000\n",
      "mean         2.078436\n",
      "std          1.066393\n",
      "min          1.000000\n",
      "25%          1.000000\n",
      "50%          2.000000\n",
      "75%          3.000000\n",
      "max         19.000000\n",
      "Name: rooms, dtype: float64\n",
      "count    23650.000000\n",
      "mean         2.724311\n",
      "std          0.989255\n",
      "min          1.000000\n",
      "25%          2.600000\n",
      "50%          2.650000\n",
      "75%          2.700000\n",
      "max        100.000000\n",
      "Name: ceiling_height, dtype: float64\n"
     ]
    }
   ],
   "source": [
    "print(df['total_area'].describe())\n",
    "\n",
    "print(df['price_in_million'].describe())\n",
    "\n",
    "print(df['rooms'].describe())\n",
    "\n",
    "print(df['ceiling_height'].describe())"
   ]
  },
  {
   "cell_type": "markdown",
   "metadata": {},
   "source": [
    "Построим гистограмму и диаграму размаха для days_exposition"
   ]
  },
  {
   "cell_type": "code",
   "execution_count": 52,
   "metadata": {},
   "outputs": [
    {
     "data": {
      "image/png": "[encoded data removed]",
      "text/plain": [
       "<Figure size 1080x360 with 1 Axes>"
      ]
     },
     "metadata": {
      "needs_background": "light"
     },
     "output_type": "display_data"
    },
    {
     "name": "stdout",
     "output_type": "stream",
     "text": [
      "Нижний квартиль: 45.00000000000001\n",
      "Верхний квартиль: 231.0\n",
      "Нижний \"ус\": 1.0\n",
      "Верхний \"ус\": 510.0\n"
     ]
    },
    {
     "data": {
      "image/png": "[encoded data removed]",
      "text/plain": [
       "<Figure size 1080x216 with 1 Axes>"
      ]
     },
     "metadata": {
      "needs_background": "light"
     },
     "output_type": "display_data"
    }
   ],
   "source": [
    "hist_boxplot('days_exposition')"
   ]
  },
  {
   "cell_type": "code",
   "execution_count": 53,
   "metadata": {},
   "outputs": [
    {
     "data": {
      "text/plain": [
       "180.7531998045921"
      ]
     },
     "execution_count": 53,
     "metadata": {},
     "output_type": "execute_result"
    }
   ],
   "source": [
    "df['days_exposition'].mean()"
   ]
  },
  {
   "cell_type": "code",
   "execution_count": 54,
   "metadata": {},
   "outputs": [
    {
     "data": {
      "text/plain": [
       "95.0"
      ]
     },
     "execution_count": 54,
     "metadata": {},
     "output_type": "execute_result"
    }
   ],
   "source": [
    "df['days_exposition'].median()"
   ]
  },
  {
   "cell_type": "markdown",
   "metadata": {},
   "source": [
    "Среднее почти в 2 раза больше медианы. В распределении длинный хвост высоких значений, влияющих на среднее, но не на медиану. По среднему продажа за 6 месяцев, по медиане за 3. В данных явно присутствуют аномальнодолгие продажи.\n",
    "Ограничим верхний предел 1200 днями(чуть более 3 лет)"
   ]
  },
  {
   "cell_type": "code",
   "execution_count": 55,
   "metadata": {},
   "outputs": [
    {
     "data": {
      "text/plain": [
       "91"
      ]
     },
     "execution_count": 55,
     "metadata": {},
     "output_type": "execute_result"
    }
   ],
   "source": [
    "df.query('days_exposition > 1200')['days_exposition'].count()"
   ]
  },
  {
   "cell_type": "code",
   "execution_count": 56,
   "metadata": {},
   "outputs": [
    {
     "data": {
      "image/png": "[encoded data removed]",
      "text/plain": [
       "<Figure size 1080x360 with 1 Axes>"
      ]
     },
     "metadata": {
      "needs_background": "light"
     },
     "output_type": "display_data"
    }
   ],
   "source": [
    "days_exposition_good = df.query(' days_exposition < 1200')\n",
    "days_exposition_good['days_exposition'].hist(bins=200, figsize=(15,5)).set(xlabel='days_exposition', ylabel='Частота');"
   ]
  },
  {
   "cell_type": "markdown",
   "metadata": {},
   "source": [
    "Основываясь на квартилях можно сказать:\n",
    "-    25% квартир продаются за 45 дней(1,5 месяца), можно назвать это быстрой продажей\n",
    "-    75% квартир продаются за 512 дней(1,5 года), можно сказать что выше это уже очень долгие продажи"
   ]
  },
  {
   "cell_type": "markdown",
   "metadata": {},
   "source": [
    "## Найдем какие факторы больше всего влияют на стоимость квартиры"
   ]
  },
  {
   "cell_type": "markdown",
   "metadata": {},
   "source": [
    "Напишем функцию диаграммы рассеивания correlation_default, которая принимает на вход 2 отфильтрованные сводные таблицы и 2 столбца для диаграммы"
   ]
  },
  {
   "cell_type": "code",
   "execution_count": 57,
   "metadata": {},
   "outputs": [],
   "source": [
    "def correlation_default(pivot_table_1, pivot_table_2, value_1, value_2):\n",
    "    (pivot_table_1\n",
    "    .pivot_table(index= value_1, values= value_2)\n",
    "    .plot(style='o', grid=True, figsize=(15, 5))\n",
    "    .set(xlabel=value_1, ylabel=value_2));\n",
    "    print('Коррелация:', pivot_table_2[value_2].corr(pivot_table_1[value_1]))"
   ]
  },
  {
   "cell_type": "markdown",
   "metadata": {},
   "source": [
    "Построим диаграмму рассеивания для площади total_area и цены price_in_million квартиры"
   ]
  },
  {
   "cell_type": "code",
   "execution_count": 58,
   "metadata": {},
   "outputs": [
    {
     "name": "stdout",
     "output_type": "stream",
     "text": [
      "Коррелация: 0.7623713863827417\n"
     ]
    },
    {
     "data": {
      "image/png": "[encoded data removed]",
      "text/plain": [
       "<Figure size 1080x360 with 1 Axes>"
      ]
     },
     "metadata": {
      "needs_background": "light"
     },
     "output_type": "display_data"
    }
   ],
   "source": [
    "correlation_default(total_area_good, price_in_million_good, 'total_area', 'price_in_million')"
   ]
  },
  {
   "cell_type": "markdown",
   "metadata": {},
   "source": [
    "Корреляция очень высокая, близка к 1, это говорит о том, что при увеличении кв.метров растет и цена, что логично. Хотя такой рост наблюдается до 200м2 и цены 50 млн.руб., далее зависимость не такая устойчивая.\n",
    "\n",
    "Построим диаграмму рассеивания для удаленности от центра cityCenters_nearest и цены price_in_million квартиры"
   ]
  },
  {
   "cell_type": "code",
   "execution_count": 59,
   "metadata": {},
   "outputs": [
    {
     "name": "stdout",
     "output_type": "stream",
     "text": [
      "Коррелация: -0.2545433732868379\n"
     ]
    },
    {
     "data": {
      "image/png": "[encoded data removed]",
      "text/plain": [
       "<Figure size 1080x360 with 1 Axes>"
      ]
     },
     "metadata": {
      "needs_background": "light"
     },
     "output_type": "display_data"
    }
   ],
   "source": [
    "correlation_default(df, price_in_million_good, 'cityCenters_nearest', 'price_in_million')"
   ]
  },
  {
   "cell_type": "markdown",
   "metadata": {},
   "source": [
    "Корреляция отрицательна, что логично - чем ближе квартира к центру, тем дороже. Отчетливо видно, что меньше 10 км, цена резко растет вверх. Это пригодится для исследований дальше.\n",
    "\n",
    "Напишем функцию диаграммы рассеивания correlation_bar, аналогичную correlation_default, но строит bars."
   ]
  },
  {
   "cell_type": "code",
   "execution_count": 60,
   "metadata": {},
   "outputs": [],
   "source": [
    "def correlation_bar(pivot_table_1, pivot_table_2, value_1, value_2):\n",
    "    (pivot_table_1\n",
    "    .pivot_table(index= value_1, values= value_2)\n",
    "    .plot(kind='bar', grid=True, figsize=(15, 5))\n",
    "    .set(xlabel=value_1, ylabel=value_2));\n",
    "    print('Коррелация:', pivot_table_2[value_2].corr(pivot_table_1[value_1]))"
   ]
  },
  {
   "cell_type": "markdown",
   "metadata": {},
   "source": [
    "Построим диаграмму рассеивания для количества комнат rooms и цены price_in_million квартиры."
   ]
  },
  {
   "cell_type": "code",
   "execution_count": 61,
   "metadata": {},
   "outputs": [
    {
     "name": "stdout",
     "output_type": "stream",
     "text": [
      "Коррелация: 0.4712584735324537\n"
     ]
    },
    {
     "data": {
      "image/png": "[encoded data removed]",
      "text/plain": [
       "<Figure size 1080x360 with 1 Axes>"
      ]
     },
     "metadata": {
      "needs_background": "light"
     },
     "output_type": "display_data"
    }
   ],
   "source": [
    "correlation_bar(rooms_good, price_in_million_good, 'rooms', 'price_in_million')"
   ]
  },
  {
   "cell_type": "markdown",
   "metadata": {},
   "source": [
    "Корреляция около 0,5 - значит каждое увеличение количество комнат в квартире на 1, сопровождается увеличением цены примерно на 50%. Однако, такая тенденция наблюдается до 7 комнат, далее увеличение комнат на влияет на цену.\n",
    "Построим диаграмму рассеивания для типа этажности квартиры и цены price_in_million квартиры."
   ]
  },
  {
   "cell_type": "code",
   "execution_count": 62,
   "metadata": {},
   "outputs": [
    {
     "data": {
      "image/png": "[encoded data removed]",
      "text/plain": [
       "<Figure size 720x360 with 1 Axes>"
      ]
     },
     "metadata": {
      "needs_background": "light"
     },
     "output_type": "display_data"
    }
   ],
   "source": [
    "(df\n",
    "    .pivot_table(index='floor_type', values='price_in_million')\n",
    "    .plot(kind='bar',style='o', grid=True, figsize=(10, 5))\n",
    "    .set(xlabel='floor_type', ylabel='Частота'));"
   ]
  },
  {
   "cell_type": "markdown",
   "metadata": {},
   "source": [
    "По диаграмме видно, что наивысшая цена в категории последнего этажа, чуть ниже, все остальные и самые дещевые квартиры на 1-м этаже.\n",
    "Построим диаграмму рассеивания для дня недели, месяцаб года и цены price_in_million квартиры."
   ]
  },
  {
   "cell_type": "code",
   "execution_count": 63,
   "metadata": {},
   "outputs": [
    {
     "name": "stdout",
     "output_type": "stream",
     "text": [
      "Коррелация: -0.003061342287297986\n",
      "Коррелация: 0.0072774626783543295\n",
      "Коррелация: -0.05322478376207676\n"
     ]
    },
    {
     "data": {
      "image/png": "[encoded data removed]",
      "text/plain": [
       "<Figure size 1080x360 with 1 Axes>"
      ]
     },
     "metadata": {
      "needs_background": "light"
     },
     "output_type": "display_data"
    },
    {
     "data": {
      "image/png": "[encoded data removed]",
      "text/plain": [
       "<Figure size 1080x360 with 1 Axes>"
      ]
     },
     "metadata": {
      "needs_background": "light"
     },
     "output_type": "display_data"
    },
    {
     "data": {
      "image/png": "[encoded data removed]",
      "text/plain": [
       "<Figure size 1080x360 with 1 Axes>"
      ]
     },
     "metadata": {
      "needs_background": "light"
     },
     "output_type": "display_data"
    }
   ],
   "source": [
    "correlation_bar(df, price_in_million_good, 'weekday', 'price_in_million')\n",
    "correlation_bar(df, price_in_million_good, 'month', 'price_in_million')\n",
    "correlation_bar(df, price_in_million_good, 'year', 'price_in_million')"
   ]
  },
  {
   "cell_type": "markdown",
   "metadata": {},
   "source": [
    "Корреляция по всем 3 диаграммам очень низкая, меньше 10%. Однако, в субботу размещают самые дорогие квартиры, в декабре и сентябре также, а вот в 2014 были самые дорогие квартиры, после кризиса цены на квартиры начали падать, вплодь до 2018, в 2019 наметился рост.\n",
    "\n",
    "Проведем дополнительные исследования по количеству объявлений в день недели, месяц, год"
   ]
  },
  {
   "cell_type": "code",
   "execution_count": 64,
   "metadata": {},
   "outputs": [],
   "source": [
    "def correlation_bar_count(pivot_table_1, pivot_table_2, value_1, value_2):\n",
    "    (pivot_table_1\n",
    "    .pivot_table(index= value_1, values= value_2, aggfunc='count')\n",
    "    .plot(kind='bar', grid=True, figsize=(15, 5))\n",
    "    .set(xlabel=value_1, ylabel=value_2));\n",
    "    print('Коррелация:', pivot_table_2[value_2].corr(pivot_table_1[value_1]))"
   ]
  },
  {
   "cell_type": "code",
   "execution_count": 65,
   "metadata": {
    "scrolled": true
   },
   "outputs": [
    {
     "name": "stdout",
     "output_type": "stream",
     "text": [
      "Коррелация: -0.003061342287297986\n",
      "Коррелация: 0.0072774626783543295\n",
      "Коррелация: -0.05322478376207676\n"
     ]
    },
    {
     "data": {
      "image/png": "[encoded data removed]",
      "text/plain": [
       "<Figure size 1080x360 with 1 Axes>"
      ]
     },
     "metadata": {
      "needs_background": "light"
     },
     "output_type": "display_data"
    },
    {
     "data": {
      "image/png": "[encoded data removed]",
      "text/plain": [
       "<Figure size 1080x360 with 1 Axes>"
      ]
     },
     "metadata": {
      "needs_background": "light"
     },
     "output_type": "display_data"
    },
    {
     "data": {
      "image/png": "[encoded data removed]",
      "text/plain": [
       "<Figure size 1080x360 with 1 Axes>"
      ]
     },
     "metadata": {
      "needs_background": "light"
     },
     "output_type": "display_data"
    }
   ],
   "source": [
    "correlation_bar_count(df, price_in_million_good, 'weekday', 'price_in_million')\n",
    "correlation_bar_count(df, price_in_million_good, 'month', 'price_in_million')\n",
    "correlation_bar_count(df, price_in_million_good, 'year', 'price_in_million')"
   ]
  },
  {
   "cell_type": "markdown",
   "metadata": {},
   "source": [
    "Корреляция по всем 3 диаграммам очень низкая, меньше 10%. Однако, в субботу и воскресенье размещают в 2 раза меньше объявлений, чем в будние дни.\n",
    "Январь, май и декабрь самые низкие по популярности размещения, в то время как февраль, март, апрель и ноябрь самые активные в подаче объявлений.\n",
    "По годам: Яндекс.Недвижемость запустила свою работу в СПб в конце 2014 года как самостоятельная площадка(не агрегатор объявлений), соответственно каждый год наблюдается рост по количеству объявлений в год.\n",
    "Определим ТОП-10 населенных пунктов по количеству объявлений и расчитаем цену кв.метра по населенному пункту"
   ]
  },
  {
   "cell_type": "code",
   "execution_count": 66,
   "metadata": {},
   "outputs": [
    {
     "name": "stdout",
     "output_type": "stream",
     "text": [
      "                     cost_per_m2  count\n",
      "locality_name                          \n",
      "Санкт-Петербург    104761.904762  15721\n",
      "Пушкин             100000.000000    369\n",
      "деревня Кудрово     91860.465116    299\n",
      "посёлок Парголово   91642.857143    327\n",
      "посёлок Мурино      85878.462169    522\n",
      "посёлок Шушары      76876.172608    440\n",
      "Колпино             74723.748474    338\n",
      "Гатчина             67796.610169    307\n",
      "Всеволожск          65789.473684    398\n",
      "Выборг              58158.319871    237\n"
     ]
    },
    {
     "data": {
      "image/png": "[encoded data removed]",
      "text/plain": [
       "<Figure size 1080x360 with 1 Axes>"
      ]
     },
     "metadata": {
      "needs_background": "light"
     },
     "output_type": "display_data"
    },
    {
     "data": {
      "image/png": "[encoded data removed]",
      "text/plain": [
       "<Figure size 504x504 with 1 Axes>"
      ]
     },
     "metadata": {},
     "output_type": "display_data"
    }
   ],
   "source": [
    "top_10_locality_names = df['locality_name'].value_counts().head(10)\n",
    "top_10_popular_cities = (df.query('locality_name in @top_10_locality_names.index')\n",
    "            .pivot_table(index='locality_name', values='cost_per_m2', aggfunc=['median', 'count'])\n",
    "            )\n",
    "top_10_popular_cities.columns = ['cost_per_m2','count']\n",
    "print(top_10_popular_cities.sort_values('cost_per_m2', ascending=False))\n",
    "(top_10_popular_cities\n",
    "     .plot(y='cost_per_m2', kind='bar', title='Средняя цена по населенным пунктам', color='g', figsize=(15, 5))\n",
    "     .set(xlabel='Населенный пункт', ylabel='Цена, руб.'));\n",
    "(top_10_popular_cities\n",
    "     .plot(y='count', autopct='%1.1f%%', kind='pie', title='Доля объявлений по населенным пунктам', legend=False, figsize=(7, 7))\n",
    "     .set(ylabel=''));"
   ]
  },
  {
   "cell_type": "markdown",
   "metadata": {},
   "source": [
    "По количеству объявлений у Санкт-Петербурга подавляющее большинство - 82.9%, далее посёлок Мурино - 2.8%, посёлок Шушары - 2.3% и т.д\n",
    "Выделим населённые пункты с самой высокой и низкой стоимостью жилья."
   ]
  },
  {
   "cell_type": "code",
   "execution_count": 67,
   "metadata": {},
   "outputs": [
    {
     "data": {
      "text/plain": [
       "locality_name\n",
       "посёлок Лисий Нос        121616.221359\n",
       "Санкт-Петербург          104761.904762\n",
       "Зеленогорск              101666.666667\n",
       "Кудрово                  100000.000000\n",
       "Пушкин                   100000.000000\n",
       "                             ...      \n",
       "поселок Совхозный         12629.129129\n",
       "деревня Выскатка          12335.480902\n",
       "деревня Вахнова Кара      11688.311688\n",
       "посёлок станции Свирь     11481.481481\n",
       "деревня Старополье        11000.000000\n",
       "Name: cost_per_m2, Length: 364, dtype: float64"
      ]
     },
     "execution_count": 67,
     "metadata": {},
     "output_type": "execute_result"
    }
   ],
   "source": [
    "df.groupby('locality_name')['cost_per_m2'].median().sort_values(ascending=False)"
   ]
  },
  {
   "cell_type": "markdown",
   "metadata": {},
   "source": [
    "ТОП-5 самых дорогих квартир по кв.м и ТОП-5 самых дешевых указан выше. Примечательно, что СПб не самый дорогой, есть поселок Лисий Нос, цена там самая высокая. Наверное, аналогично Рублевке в Москве."
   ]
  },
  {
   "cell_type": "markdown",
   "metadata": {},
   "source": [
    "## Определим центр города СПб по графику зависимости цены price_in_million от удаленности от центра cityCenters_nearest. Посчитаем и округлим расстояние в км."
   ]
  },
  {
   "cell_type": "markdown",
   "metadata": {},
   "source": [
    "Создадим столбец с расстоянием до центра в километрах cityCenters_nearest_km: округлим до целых значений. После этого посчитаем среднюю цену для каждого километра. Построим график, показывающий, как цена зависит от удалённости от центра."
   ]
  },
  {
   "cell_type": "code",
   "execution_count": 68,
   "metadata": {},
   "outputs": [
    {
     "data": {
      "image/png": "[encoded data removed]",
      "text/plain": [
       "<Figure size 720x360 with 1 Axes>"
      ]
     },
     "metadata": {
      "needs_background": "light"
     },
     "output_type": "display_data"
    }
   ],
   "source": [
    "df['cityCenters_nearest_km'] = (df['cityCenters_nearest'] / 1000).round()\n",
    "(df\n",
    "    .query('locality_name == \"Санкт-Петербург\" ')\n",
    "    .pivot_table(index='cityCenters_nearest_km', values='price_in_million', aggfunc='mean')\n",
    "    .plot(kind='bar',style='o', grid=True, figsize=(10, 5))\n",
    "    .set(xlabel='cityCenters_nearest_km', ylabel='Цена, млн.руб.'));"
   ]
  },
  {
   "cell_type": "markdown",
   "metadata": {},
   "source": [
    "По графику видно, что цена резко возрастает на расстоянии меньше 8 км. Это и есть центр СПб\n",
    "\n",
    "\n",
    "Построим гистограмму для total_area для СПб"
   ]
  },
  {
   "cell_type": "code",
   "execution_count": 69,
   "metadata": {},
   "outputs": [
    {
     "data": {
      "image/png": "[encoded data removed]",
      "text/plain": [
       "<Figure size 1080x360 with 1 Axes>"
      ]
     },
     "metadata": {
      "needs_background": "light"
     },
     "output_type": "display_data"
    }
   ],
   "source": [
    "spb_center =  df.query('locality_name == \"Санкт-Петербург\" and cityCenters_nearest_km <= 8')\n",
    "(spb_center\n",
    "     .query('total_area < 400')\n",
    "     .hist(column = 'total_area', bins=100, figsize=(15,5)));"
   ]
  },
  {
   "cell_type": "markdown",
   "metadata": {},
   "source": [
    "Построим гистограмму для price_in_million в СПб"
   ]
  },
  {
   "cell_type": "code",
   "execution_count": 70,
   "metadata": {},
   "outputs": [
    {
     "data": {
      "image/png": "[encoded data removed]",
      "text/plain": [
       "<Figure size 1080x360 with 1 Axes>"
      ]
     },
     "metadata": {
      "needs_background": "light"
     },
     "output_type": "display_data"
    }
   ],
   "source": [
    "(spb_center\n",
    "     .query('0.1 < price_in_million < 100')\n",
    "     .hist(column = 'price_in_million', bins=100, figsize=(15,5)));"
   ]
  },
  {
   "cell_type": "markdown",
   "metadata": {},
   "source": [
    "Построим гистограмму для rooms в СПб"
   ]
  },
  {
   "cell_type": "code",
   "execution_count": 71,
   "metadata": {},
   "outputs": [
    {
     "data": {
      "image/png": "[encoded data removed]",
      "text/plain": [
       "<Figure size 1080x360 with 1 Axes>"
      ]
     },
     "metadata": {
      "needs_background": "light"
     },
     "output_type": "display_data"
    }
   ],
   "source": [
    "(spb_center\n",
    "     .query('rooms <= 10')\n",
    "     .hist(column = 'rooms', bins=19, figsize=(15,5)));"
   ]
  },
  {
   "cell_type": "markdown",
   "metadata": {},
   "source": [
    "Построим гистограмму для ceiling_height в СПб"
   ]
  },
  {
   "cell_type": "code",
   "execution_count": 72,
   "metadata": {},
   "outputs": [
    {
     "data": {
      "image/png": "[encoded data removed]",
      "text/plain": [
       "<Figure size 1080x360 with 1 Axes>"
      ]
     },
     "metadata": {
      "needs_background": "light"
     },
     "output_type": "display_data"
    }
   ],
   "source": [
    "(spb_center\n",
    "     .query(' 2 <= ceiling_height <= 5')\n",
    "     .hist(column = 'ceiling_height', bins=30, figsize=(15,5)));"
   ]
  },
  {
   "cell_type": "code",
   "execution_count": 102,
   "metadata": {},
   "outputs": [
    {
     "name": "stdout",
     "output_type": "stream",
     "text": [
      "count    4122.000000\n",
      "mean       90.326659\n",
      "std        58.882906\n",
      "min        12.000000\n",
      "25%        55.000000\n",
      "50%        76.000000\n",
      "75%       107.000000\n",
      "max       900.000000\n",
      "Name: total_area, dtype: float64\n",
      "count    4122.000000\n",
      "mean       14.180373\n",
      "std        23.580489\n",
      "min         1.600000\n",
      "25%         6.450000\n",
      "50%         8.960000\n",
      "75%        13.900000\n",
      "max       763.000000\n",
      "Name: price_in_million, dtype: float64\n",
      "count    4122.000000\n",
      "mean        2.763464\n",
      "std         1.417160\n",
      "min         1.000000\n",
      "25%         2.000000\n",
      "50%         3.000000\n",
      "75%         3.000000\n",
      "max        19.000000\n",
      "Name: rooms, dtype: float64\n",
      "count    4122.000000\n",
      "mean        2.963311\n",
      "std         1.728423\n",
      "min         2.000000\n",
      "25%         2.650000\n",
      "50%         2.800000\n",
      "75%         3.100000\n",
      "max       100.000000\n",
      "Name: ceiling_height, dtype: float64\n"
     ]
    }
   ],
   "source": [
    "print(spb_center['total_area'].describe())\n",
    "\n",
    "print(spb_center['price_in_million'].describe())\n",
    "\n",
    "print(spb_center['rooms'].describe())\n",
    "\n",
    "print(spb_center['ceiling_height'].describe())"
   ]
  },
  {
   "cell_type": "markdown",
   "metadata": {},
   "source": [
    "## Найдем какие факторы больше всего влияют на стоимость квартиры в СПб\n",
    "\n",
    "Построим диаграмму рассеивания и посчитаем корреляцию для площади total_area и цены price_in_million квартиры"
   ]
  },
  {
   "cell_type": "code",
   "execution_count": 73,
   "metadata": {},
   "outputs": [
    {
     "data": {
      "text/plain": [
       "0.6388372744706863"
      ]
     },
     "execution_count": 73,
     "metadata": {},
     "output_type": "execute_result"
    },
    {
     "data": {
      "image/png": "[encoded data removed]",
      "text/plain": [
       "<Figure size 1080x360 with 1 Axes>"
      ]
     },
     "metadata": {
      "needs_background": "light"
     },
     "output_type": "display_data"
    }
   ],
   "source": [
    "(spb_center\n",
    "    .query('total_area < 400')\n",
    "    .pivot_table(index='total_area', values='price_in_million')\n",
    "    .plot(style='o', grid=True, figsize=(15, 5))\n",
    "    .set(xlabel='total_area', ylabel='Цена, млн.руб.'));\n",
    "spb_center['price_in_million'].corr(spb_center['total_area'])"
   ]
  },
  {
   "cell_type": "markdown",
   "metadata": {},
   "source": [
    "Корреляция около 63%, ниже, чем в целом по региону. Такой рост наблюдается до 200м2 и цены 50 млн.руб., далее зависимость не такая устойчивая. Как и в целом для региона\n",
    "Построим диаграмму рассеивания и посчитаем корреляцию для количества комнат rooms и цены price_in_million квартиры"
   ]
  },
  {
   "cell_type": "code",
   "execution_count": 74,
   "metadata": {},
   "outputs": [
    {
     "data": {
      "text/plain": [
       "0.3415964325266049"
      ]
     },
     "execution_count": 74,
     "metadata": {},
     "output_type": "execute_result"
    },
    {
     "data": {
      "image/png": "[encoded data removed]",
      "text/plain": [
       "<Figure size 1080x360 with 1 Axes>"
      ]
     },
     "metadata": {
      "needs_background": "light"
     },
     "output_type": "display_data"
    }
   ],
   "source": [
    "(spb_center\n",
    "    .query('rooms <= 10')\n",
    "    .pivot_table(index='rooms', values='price_in_million')\n",
    "    .plot(kind='bar', style='o', grid=True, figsize=(15, 5))\n",
    "    .set(xlabel='rooms', ylabel='Цена, млн.руб.'));\n",
    "spb_center['price_in_million'].corr(spb_center['rooms'])"
   ]
  },
  {
   "cell_type": "markdown",
   "metadata": {},
   "source": [
    "Корреляция 0,34 меньше, чем общее 0,5. Также тенденция наблюдается до 7 комнат, далее увеличение комнат на влияет на цену.\n",
    "\n",
    "Построим диаграмму рассеивания и посчитаем корреляцию от расстояния до центра cityCenters_nearest_km и цены price_in_million квартиры"
   ]
  },
  {
   "cell_type": "code",
   "execution_count": 75,
   "metadata": {},
   "outputs": [
    {
     "data": {
      "text/plain": [
       "-0.07602026670211764"
      ]
     },
     "execution_count": 75,
     "metadata": {},
     "output_type": "execute_result"
    },
    {
     "data": {
      "image/png": "[encoded data removed]",
      "text/plain": [
       "<Figure size 1080x360 with 1 Axes>"
      ]
     },
     "metadata": {
      "needs_background": "light"
     },
     "output_type": "display_data"
    }
   ],
   "source": [
    "(spb_center\n",
    "    .pivot_table(index='cityCenters_nearest_km', values='price_in_million')\n",
    "    .plot(kind='bar', style='o', grid=True, figsize=(15, 5))\n",
    "    .set(xlabel='cityCenters_nearest_km', ylabel='Цена, млн.руб.'));\n",
    "spb_center['price_in_million'].corr(spb_center['cityCenters_nearest_km'])"
   ]
  },
  {
   "cell_type": "markdown",
   "metadata": {},
   "source": [
    "Корреляция отрицательна 7%, что ниже общей в 30%. В центре цена уже нет так растет с уменьшением раастрояния.\n",
    "\n",
    "Построим диаграмму рассеивания для типа этажности квартиры и цены price_in_million квартиры."
   ]
  },
  {
   "cell_type": "code",
   "execution_count": 76,
   "metadata": {},
   "outputs": [
    {
     "data": {
      "image/png": "[encoded data removed]",
      "text/plain": [
       "<Figure size 720x360 with 1 Axes>"
      ]
     },
     "metadata": {
      "needs_background": "light"
     },
     "output_type": "display_data"
    }
   ],
   "source": [
    "(spb_center\n",
    "    .pivot_table(index='floor_type', values='price_in_million')\n",
    "    .plot(kind='bar',style='o', grid=True, figsize=(10, 5))\n",
    "    .set(xlabel='floor_type', ylabel='Цена, млн.руб.'));"
   ]
  },
  {
   "cell_type": "markdown",
   "metadata": {},
   "source": [
    "Тенденция для центра сохранилась: наивысшая цена в категории последнего этажа, чуть ниже, все остальные и самые дещевые квартиры на 1-м этаже.\n",
    "\n",
    "Построим диаграмму рассеивания для дня недели, месяца, года и цены price_in_million квартиры в центре СПб."
   ]
  },
  {
   "cell_type": "code",
   "execution_count": 77,
   "metadata": {},
   "outputs": [
    {
     "data": {
      "image/png": "[encoded data removed]",
      "text/plain": [
       "<Figure size 720x360 with 1 Axes>"
      ]
     },
     "metadata": {
      "needs_background": "light"
     },
     "output_type": "display_data"
    }
   ],
   "source": [
    "(spb_center\n",
    "    .pivot_table(index='weekday', values='price_in_million', aggfunc='mean')\n",
    "    .plot(kind='bar',style='o', grid=True, figsize=(10, 5))\n",
    "    .set(xlabel='weekday', ylabel='Цена, млн.руб.'));"
   ]
  },
  {
   "cell_type": "code",
   "execution_count": 78,
   "metadata": {},
   "outputs": [
    {
     "data": {
      "image/png": "[encoded data removed]",
      "text/plain": [
       "<Figure size 720x360 with 1 Axes>"
      ]
     },
     "metadata": {
      "needs_background": "light"
     },
     "output_type": "display_data"
    }
   ],
   "source": [
    "(spb_center\n",
    "    .pivot_table(index='month', values='price_in_million', aggfunc='mean')\n",
    "    .plot(kind='bar',style='o', grid=True, figsize=(10, 5))\n",
    "    .set(xlabel='month', ylabel='Цена, млн.руб.'));"
   ]
  },
  {
   "cell_type": "code",
   "execution_count": 79,
   "metadata": {},
   "outputs": [
    {
     "data": {
      "image/png": "[encoded data removed]",
      "text/plain": [
       "<Figure size 720x360 with 1 Axes>"
      ]
     },
     "metadata": {
      "needs_background": "light"
     },
     "output_type": "display_data"
    }
   ],
   "source": [
    "(spb_center\n",
    "    .pivot_table(index='year', values='price_in_million', aggfunc='mean')\n",
    "    .plot(kind='bar',style='o', grid=True, figsize=(10, 5))\n",
    "    .set(xlabel='year', ylabel='Цена, млн.руб.'));"
   ]
  },
  {
   "cell_type": "markdown",
   "metadata": {},
   "source": [
    "Тенденция сохранилась: в субботу размещают самые дорогие квартиры, в декабре, сентябре и апреле также, в 2014 были самые дорогие квартиры, после кризиса цены на квартиры начали падать, вплодь до 2018, в 2019 наметился рост."
   ]
  },
  {
   "cell_type": "markdown",
   "metadata": {},
   "source": [
    "## Общий вывод"
   ]
  },
  {
   "cell_type": "markdown",
   "metadata": {},
   "source": [
    "### Зависимость площади от цены квартиры\n",
    "- Корреляция в общем высокая, близка к 1, это говорит о том, что при увеличении кв.метров растет и цена, что логично. Хотя такой рост наблюдается до 200м2 и цены 50 млн.руб., далее зависимость не такая устойчивая\n",
    "- В центре СПб корреляция около 63%, ниже, чем в целом по региону.\n",
    "### Зависимость удаленности от центра и цены квартиры\n",
    "- Корреляция в общем отрицательна, что логично - чем ближе квартира к центру, тем дороже. Отчетливо видно, что меньше 10 км, цена резко растет вверх.\n",
    "- Корреляция в центре СПб -7%, что ниже общей в 30%. В центре цена уже нет так растет с уменьшением расстояния.\n",
    "### Зависимость количества комнат и цены квартиры\n",
    "- Корреляция в общем около 0,5 - значит каждое увеличение количество комнат в квартире на 1, сопровождается увеличением цены примерно на 50%. Однако, такая тенденция наблюдается до 7 комнат, далее увеличение комнат на влияет на цену.\n",
    "- Корреляция в центре СПб 0,34 меньше, чем общее 0,5. Также тенденция наблюдается до 7 комнат, далее увеличение комнат на влияет на цену.\n",
    "### Зависимость типа этажности квартиры и цены квартиры\n",
    "- В общем наивысшая цена в категории последнего этажа, чуть ниже, все остальные и самые дещевые квартиры на 1-м этаже.\n",
    "- Тенденция для центра СПб сохранилась: наивысшая цена в категории последнего этажа, чуть ниже, все остальные и самые дещевые квартиры на 1-м этаже.\n",
    "### Зависимость дня недели, месяца, года и цены квартиры\n",
    "- В общем корреляция по всем 3 диаграммам очень низкая, меньше 10%. Однако, в субботу размещают самые дорогие квартиры, в декабре и сентябре также, а вот в 2014 были самые дорогие квартиры, после кризиса цены на квартиры начали падать, вплодь до 2018, в 2019 наметился рост.\n",
    "- В центре СПб тенденция сохранилась: в субботу размещают самые дорогие квартиры, в декабре, сентябре и апреле также, в 2014 были самые дорогие квартиры, после кризиса цены на квартиры начали падать, вплодь до 2018, в 2019 наметился рост."
   ]
  }
 ],
 "metadata": {
  "ExecuteTimeLog": [
   {
    "duration": 1250,
    "start_time": "2021-08-23T11:16:56.766Z"
   },
   {
    "duration": 166,
    "start_time": "2021-08-23T11:16:58.018Z"
   },
   {
    "duration": 13,
    "start_time": "2021-08-23T11:16:58.187Z"
   },
   {
    "duration": 15,
    "start_time": "2021-08-23T11:16:58.202Z"
   },
   {
    "duration": 18,
    "start_time": "2021-08-23T11:16:58.219Z"
   },
   {
    "duration": 52,
    "start_time": "2021-08-23T11:16:58.239Z"
   },
   {
    "duration": 7,
    "start_time": "2021-08-23T11:16:58.293Z"
   },
   {
    "duration": 5,
    "start_time": "2021-08-23T11:16:58.304Z"
   },
   {
    "duration": 14,
    "start_time": "2021-08-23T11:16:58.312Z"
   },
   {
    "duration": 5,
    "start_time": "2021-08-23T11:16:58.329Z"
   },
   {
    "duration": 52,
    "start_time": "2021-08-23T11:16:58.336Z"
   },
   {
    "duration": 12,
    "start_time": "2021-08-23T11:16:58.391Z"
   },
   {
    "duration": 8,
    "start_time": "2021-08-23T11:16:58.405Z"
   },
   {
    "duration": 100,
    "start_time": "2021-08-23T11:16:58.416Z"
   },
   {
    "duration": 76,
    "start_time": "2021-08-23T11:16:58.518Z"
   },
   {
    "duration": 11,
    "start_time": "2021-08-23T11:16:58.597Z"
   },
   {
    "duration": 10,
    "start_time": "2021-08-23T11:16:58.610Z"
   },
   {
    "duration": 11,
    "start_time": "2021-08-23T11:16:58.623Z"
   },
   {
    "duration": 52,
    "start_time": "2021-08-23T11:16:58.637Z"
   },
   {
    "duration": 27,
    "start_time": "2021-08-23T11:16:58.691Z"
   },
   {
    "duration": 61,
    "start_time": "2021-08-23T11:16:58.721Z"
   },
   {
    "duration": 10,
    "start_time": "2021-08-23T11:16:58.785Z"
   },
   {
    "duration": 10,
    "start_time": "2021-08-23T11:16:58.801Z"
   },
   {
    "duration": 34,
    "start_time": "2021-08-23T11:16:58.815Z"
   },
   {
    "duration": 11,
    "start_time": "2021-08-23T11:16:58.883Z"
   },
   {
    "duration": 14,
    "start_time": "2021-08-23T11:16:58.896Z"
   },
   {
    "duration": 5,
    "start_time": "2021-08-23T11:16:58.912Z"
   },
   {
    "duration": 12,
    "start_time": "2021-08-23T11:16:58.920Z"
   },
   {
    "duration": 52,
    "start_time": "2021-08-23T11:16:58.934Z"
   },
   {
    "duration": 780,
    "start_time": "2021-08-23T11:16:58.988Z"
   },
   {
    "duration": 14,
    "start_time": "2021-08-23T11:16:59.770Z"
   },
   {
    "duration": 47,
    "start_time": "2021-08-23T11:16:59.786Z"
   },
   {
    "duration": 54,
    "start_time": "2021-08-23T11:16:59.836Z"
   },
   {
    "duration": 6,
    "start_time": "2021-08-23T11:16:59.893Z"
   },
   {
    "duration": 7,
    "start_time": "2021-08-23T11:16:59.902Z"
   },
   {
    "duration": 17,
    "start_time": "2021-08-23T11:16:59.911Z"
   },
   {
    "duration": 1169,
    "start_time": "2021-08-23T11:16:59.931Z"
   },
   {
    "duration": 12,
    "start_time": "2021-08-23T11:17:01.102Z"
   },
   {
    "duration": 15,
    "start_time": "2021-08-23T11:17:01.116Z"
   },
   {
    "duration": 967,
    "start_time": "2021-08-23T11:17:01.134Z"
   },
   {
    "duration": 1108,
    "start_time": "2021-08-23T11:17:02.104Z"
   },
   {
    "duration": 9,
    "start_time": "2021-08-23T11:17:03.215Z"
   },
   {
    "duration": 41,
    "start_time": "2021-08-23T11:17:03.226Z"
   },
   {
    "duration": 890,
    "start_time": "2021-08-23T11:17:03.270Z"
   },
   {
    "duration": 1082,
    "start_time": "2021-08-23T11:17:04.162Z"
   },
   {
    "duration": 9,
    "start_time": "2021-08-23T11:17:05.247Z"
   },
   {
    "duration": 399,
    "start_time": "2021-08-23T11:17:05.258Z"
   },
   {
    "duration": 1073,
    "start_time": "2021-08-23T11:17:05.659Z"
   },
   {
    "duration": 9,
    "start_time": "2021-08-23T11:17:06.734Z"
   },
   {
    "duration": 12,
    "start_time": "2021-08-23T11:17:06.746Z"
   },
   {
    "duration": 557,
    "start_time": "2021-08-23T11:17:06.761Z"
   },
   {
    "duration": 1149,
    "start_time": "2021-08-23T11:17:07.321Z"
   },
   {
    "duration": 13,
    "start_time": "2021-08-23T11:17:08.472Z"
   },
   {
    "duration": 7,
    "start_time": "2021-08-23T11:17:08.488Z"
   },
   {
    "duration": 9,
    "start_time": "2021-08-23T11:17:08.497Z"
   },
   {
    "duration": 860,
    "start_time": "2021-08-23T11:17:08.509Z"
   },
   {
    "duration": 13,
    "start_time": "2021-08-23T11:17:09.371Z"
   },
   {
    "duration": 399,
    "start_time": "2021-08-23T11:17:09.386Z"
   },
   {
    "duration": 413,
    "start_time": "2021-08-23T11:17:09.787Z"
   },
   {
    "duration": 5,
    "start_time": "2021-08-23T11:17:10.202Z"
   },
   {
    "duration": 381,
    "start_time": "2021-08-23T11:17:10.209Z"
   },
   {
    "duration": 374,
    "start_time": "2021-08-23T11:17:10.593Z"
   },
   {
    "duration": 1087,
    "start_time": "2021-08-23T11:17:10.969Z"
   },
   {
    "duration": 4,
    "start_time": "2021-08-23T11:17:12.059Z"
   },
   {
    "duration": 1085,
    "start_time": "2021-08-23T11:17:12.066Z"
   },
   {
    "duration": 658,
    "start_time": "2021-08-23T11:17:13.153Z"
   },
   {
    "duration": 12,
    "start_time": "2021-08-23T11:17:13.813Z"
   },
   {
    "duration": 527,
    "start_time": "2021-08-23T11:17:13.833Z"
   },
   {
    "duration": 592,
    "start_time": "2021-08-23T11:17:14.363Z"
   },
   {
    "duration": 660,
    "start_time": "2021-08-23T11:17:14.958Z"
   },
   {
    "duration": 381,
    "start_time": "2021-08-23T11:17:15.621Z"
   },
   {
    "duration": 435,
    "start_time": "2021-08-23T11:17:16.005Z"
   },
   {
    "duration": 416,
    "start_time": "2021-08-23T11:17:16.443Z"
   },
   {
    "duration": 382,
    "start_time": "2021-08-23T11:17:16.861Z"
   },
   {
    "duration": 378,
    "start_time": "2021-08-23T11:17:17.245Z"
   },
   {
    "duration": 305,
    "start_time": "2021-08-23T11:17:17.625Z"
   },
   {
    "duration": 309,
    "start_time": "2021-08-23T11:17:17.933Z"
   },
   {
    "duration": 357,
    "start_time": "2021-08-23T11:17:18.245Z"
   },
   {
    "duration": 312,
    "start_time": "2021-08-23T11:17:18.605Z"
   }
  ],
  "kernelspec": {
   "display_name": "Python 3 (ipykernel)",
   "language": "python",
   "name": "python3"
  },
  "language_info": {
   "codemirror_mode": {
    "name": "ipython",
    "version": 3
   },
   "file_extension": ".py",
   "mimetype": "text/x-python",
   "name": "python",
   "nbconvert_exporter": "python",
   "pygments_lexer": "ipython3",
   "version": "3.9.10"
  },
  "toc": {
   "base_numbering": 1,
   "nav_menu": {},
   "number_sections": true,
   "sideBar": true,
   "skip_h1_title": true,
   "title_cell": "Содержание",
   "title_sidebar": "Contents",
   "toc_cell": true,
   "toc_position": {},
   "toc_section_display": true,
   "toc_window_display": false
  }
 },
 "nbformat": 4,
 "nbformat_minor": 2
}
