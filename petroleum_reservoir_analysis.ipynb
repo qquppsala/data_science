{
 "cells": [
  {
   "cell_type": "markdown",
   "metadata": {},
   "source": [
    "# Проект. Поиск прибыльных нефтяных месторождений. "
   ]
  },
  {
   "cell_type": "markdown",
   "metadata": {},
   "source": [
    "## Глава 0. Входные данные\n",
    "### Описание проекта\n",
    "\n",
    "Для добывающей компании «ГлавРосГосНефть» нужно решить, где бурить новую скважину.\n",
    "\n",
    "Предоставлены пробы нефти в трёх регионах: в каждом 10 000 месторождений, где измерили качество нефти и объём её запасов. Необходимо построить модель машинного обучения, которая поможет определить регион, где добыча принесёт наибольшую прибыль. Проанализировать возможную прибыль и риски техникой *Bootstrap.*\n",
    "\n",
    "Шаги для выбора локации:\n",
    "\n",
    "- В избранном регионе ищут месторождения, для каждого определяют значения признаков;\n",
    "- Строят модель и оценивают объём запасов;\n",
    "- Выбирают месторождения с самым высокими оценками значений. Количество месторождений зависит от бюджета компании и стоимости разработки одной скважины;\n",
    "- Прибыль равна суммарной прибыли отобранных месторождений."
   ]
  },
  {
   "cell_type": "markdown",
   "metadata": {},
   "source": [
    "#### Путь к файлам:\n",
    "- /datasets/geo_data_0.csv\n",
    "- /datasets/geo_data_1.csv\n",
    "- /datasets/geo_data_2.csv\n",
    "\n",
    "#### Признаки:\n",
    "`id` — уникальный идентификатор месторождения;  \n",
    "`f0`, `f1`, `f2` — три признака точек (неважно, что они означают, но сами признаки значимы); \n",
    "\n",
    "#### Целевой признак:\n",
    "`product` — объём запасов в месторождении (тыс. баррелей).\n",
    "\n",
    "#### Условия задачи:\n",
    " - Для обучения модели подходит только линейная регрессия (остальные — недостаточно предсказуемые).\n",
    " - При разведке региона проводится исследование 500 точек.\n",
    " - Бюджет на разработку месторождений — 10 млрд рублей, стоимость бурения одной скважины — 50 млн рублей.\n",
    " - Один баррель сырья приносит 450 рублей прибыли.\n",
    " - Не рассматривать регионы, в которых риск убытков выше 2.5%. Из оставшихся выбирается регион с наибольшей средней прибылью."
   ]
  },
  {
   "cell_type": "markdown",
   "metadata": {},
   "source": [
    "## Глава 1. Загрузка и подготовка данных"
   ]
  },
  {
   "cell_type": "markdown",
   "metadata": {},
   "source": [
    "Вызовем все необходимые библиотеки для реализации проекта:"
   ]
  },
  {
   "cell_type": "code",
   "execution_count": 1,
   "metadata": {},
   "outputs": [
    {
     "data": {
      "text/html": [
       "<style>.container { width:90% !important; }</style>"
      ],
      "text/plain": [
       "<IPython.core.display.HTML object>"
      ]
     },
     "metadata": {},
     "output_type": "display_data"
    }
   ],
   "source": [
    "import pandas as pd\n",
    "import numpy as np\n",
    "from sklearn.model_selection import train_test_split\n",
    "from sklearn.preprocessing import StandardScaler\n",
    "from sklearn.linear_model import LinearRegression\n",
    "from sklearn.metrics import mean_squared_error\n",
    "from sklearn.metrics import r2_score\n",
    "from sklearn.metrics import mean_absolute_error\n",
    "from scipy import stats as st\n",
    "from IPython.core.display import display, HTML\n",
    "display(HTML(\"<style>.container { width:90% !important; }</style>\"))"
   ]
  },
  {
   "cell_type": "markdown",
   "metadata": {},
   "source": [
    "Напишем функции first_view для ознакомления с каждой из таблиц и вызовем ее для каждой"
   ]
  },
  {
   "cell_type": "code",
   "execution_count": 2,
   "metadata": {},
   "outputs": [],
   "source": [
    "def first_view(df):\n",
    "    print(df.info()) \n",
    "    return df.head(10)"
   ]
  },
  {
   "cell_type": "markdown",
   "metadata": {},
   "source": [
    "Прочитаем файлы, создадим ДатаФреймы, через функцию выведем информацию и первые 10 строк таблиц"
   ]
  },
  {
   "cell_type": "code",
   "execution_count": 3,
   "metadata": {},
   "outputs": [
    {
     "name": "stdout",
     "output_type": "stream",
     "text": [
      "<class 'pandas.core.frame.DataFrame'>\n",
      "RangeIndex: 100000 entries, 0 to 99999\n",
      "Data columns (total 5 columns):\n",
      "id         100000 non-null object\n",
      "f0         100000 non-null float64\n",
      "f1         100000 non-null float64\n",
      "f2         100000 non-null float64\n",
      "product    100000 non-null float64\n",
      "dtypes: float64(4), object(1)\n",
      "memory usage: 3.8+ MB\n",
      "None\n"
     ]
    },
    {
     "data": {
      "text/html": [
       "<div>\n",
       "<style scoped>\n",
       "    .dataframe tbody tr th:only-of-type {\n",
       "        vertical-align: middle;\n",
       "    }\n",
       "\n",
       "    .dataframe tbody tr th {\n",
       "        vertical-align: top;\n",
       "    }\n",
       "\n",
       "    .dataframe thead th {\n",
       "        text-align: right;\n",
       "    }\n",
       "</style>\n",
       "<table border=\"1\" class=\"dataframe\">\n",
       "  <thead>\n",
       "    <tr style=\"text-align: right;\">\n",
       "      <th></th>\n",
       "      <th>id</th>\n",
       "      <th>f0</th>\n",
       "      <th>f1</th>\n",
       "      <th>f2</th>\n",
       "      <th>product</th>\n",
       "    </tr>\n",
       "  </thead>\n",
       "  <tbody>\n",
       "    <tr>\n",
       "      <td>0</td>\n",
       "      <td>txEyH</td>\n",
       "      <td>0.705745</td>\n",
       "      <td>-0.497823</td>\n",
       "      <td>1.221170</td>\n",
       "      <td>105.280062</td>\n",
       "    </tr>\n",
       "    <tr>\n",
       "      <td>1</td>\n",
       "      <td>2acmU</td>\n",
       "      <td>1.334711</td>\n",
       "      <td>-0.340164</td>\n",
       "      <td>4.365080</td>\n",
       "      <td>73.037750</td>\n",
       "    </tr>\n",
       "    <tr>\n",
       "      <td>2</td>\n",
       "      <td>409Wp</td>\n",
       "      <td>1.022732</td>\n",
       "      <td>0.151990</td>\n",
       "      <td>1.419926</td>\n",
       "      <td>85.265647</td>\n",
       "    </tr>\n",
       "    <tr>\n",
       "      <td>3</td>\n",
       "      <td>iJLyR</td>\n",
       "      <td>-0.032172</td>\n",
       "      <td>0.139033</td>\n",
       "      <td>2.978566</td>\n",
       "      <td>168.620776</td>\n",
       "    </tr>\n",
       "    <tr>\n",
       "      <td>4</td>\n",
       "      <td>Xdl7t</td>\n",
       "      <td>1.988431</td>\n",
       "      <td>0.155413</td>\n",
       "      <td>4.751769</td>\n",
       "      <td>154.036647</td>\n",
       "    </tr>\n",
       "    <tr>\n",
       "      <td>5</td>\n",
       "      <td>wX4Hy</td>\n",
       "      <td>0.969570</td>\n",
       "      <td>0.489775</td>\n",
       "      <td>-0.735383</td>\n",
       "      <td>64.741541</td>\n",
       "    </tr>\n",
       "    <tr>\n",
       "      <td>6</td>\n",
       "      <td>tL6pL</td>\n",
       "      <td>0.645075</td>\n",
       "      <td>0.530656</td>\n",
       "      <td>1.780266</td>\n",
       "      <td>49.055285</td>\n",
       "    </tr>\n",
       "    <tr>\n",
       "      <td>7</td>\n",
       "      <td>BYPU6</td>\n",
       "      <td>-0.400648</td>\n",
       "      <td>0.808337</td>\n",
       "      <td>-5.624670</td>\n",
       "      <td>72.943292</td>\n",
       "    </tr>\n",
       "    <tr>\n",
       "      <td>8</td>\n",
       "      <td>j9Oui</td>\n",
       "      <td>0.643105</td>\n",
       "      <td>-0.551583</td>\n",
       "      <td>2.372141</td>\n",
       "      <td>113.356160</td>\n",
       "    </tr>\n",
       "    <tr>\n",
       "      <td>9</td>\n",
       "      <td>OLuZU</td>\n",
       "      <td>2.173381</td>\n",
       "      <td>0.563698</td>\n",
       "      <td>9.441852</td>\n",
       "      <td>127.910945</td>\n",
       "    </tr>\n",
       "  </tbody>\n",
       "</table>\n",
       "</div>"
      ],
      "text/plain": [
       "      id        f0        f1        f2     product\n",
       "0  txEyH  0.705745 -0.497823  1.221170  105.280062\n",
       "1  2acmU  1.334711 -0.340164  4.365080   73.037750\n",
       "2  409Wp  1.022732  0.151990  1.419926   85.265647\n",
       "3  iJLyR -0.032172  0.139033  2.978566  168.620776\n",
       "4  Xdl7t  1.988431  0.155413  4.751769  154.036647\n",
       "5  wX4Hy  0.969570  0.489775 -0.735383   64.741541\n",
       "6  tL6pL  0.645075  0.530656  1.780266   49.055285\n",
       "7  BYPU6 -0.400648  0.808337 -5.624670   72.943292\n",
       "8  j9Oui  0.643105 -0.551583  2.372141  113.356160\n",
       "9  OLuZU  2.173381  0.563698  9.441852  127.910945"
      ]
     },
     "execution_count": 3,
     "metadata": {},
     "output_type": "execute_result"
    }
   ],
   "source": [
    "df_0 = pd.read_csv('https://code.s3.yandex.net/datasets/geo_data_0.csv')\n",
    "first_view(df_0)"
   ]
  },
  {
   "cell_type": "code",
   "execution_count": 4,
   "metadata": {},
   "outputs": [
    {
     "name": "stdout",
     "output_type": "stream",
     "text": [
      "<class 'pandas.core.frame.DataFrame'>\n",
      "RangeIndex: 100000 entries, 0 to 99999\n",
      "Data columns (total 5 columns):\n",
      "id         100000 non-null object\n",
      "f0         100000 non-null float64\n",
      "f1         100000 non-null float64\n",
      "f2         100000 non-null float64\n",
      "product    100000 non-null float64\n",
      "dtypes: float64(4), object(1)\n",
      "memory usage: 3.8+ MB\n",
      "None\n"
     ]
    },
    {
     "data": {
      "text/html": [
       "<div>\n",
       "<style scoped>\n",
       "    .dataframe tbody tr th:only-of-type {\n",
       "        vertical-align: middle;\n",
       "    }\n",
       "\n",
       "    .dataframe tbody tr th {\n",
       "        vertical-align: top;\n",
       "    }\n",
       "\n",
       "    .dataframe thead th {\n",
       "        text-align: right;\n",
       "    }\n",
       "</style>\n",
       "<table border=\"1\" class=\"dataframe\">\n",
       "  <thead>\n",
       "    <tr style=\"text-align: right;\">\n",
       "      <th></th>\n",
       "      <th>id</th>\n",
       "      <th>f0</th>\n",
       "      <th>f1</th>\n",
       "      <th>f2</th>\n",
       "      <th>product</th>\n",
       "    </tr>\n",
       "  </thead>\n",
       "  <tbody>\n",
       "    <tr>\n",
       "      <td>0</td>\n",
       "      <td>kBEdx</td>\n",
       "      <td>-15.001348</td>\n",
       "      <td>-8.276000</td>\n",
       "      <td>-0.005876</td>\n",
       "      <td>3.179103</td>\n",
       "    </tr>\n",
       "    <tr>\n",
       "      <td>1</td>\n",
       "      <td>62mP7</td>\n",
       "      <td>14.272088</td>\n",
       "      <td>-3.475083</td>\n",
       "      <td>0.999183</td>\n",
       "      <td>26.953261</td>\n",
       "    </tr>\n",
       "    <tr>\n",
       "      <td>2</td>\n",
       "      <td>vyE1P</td>\n",
       "      <td>6.263187</td>\n",
       "      <td>-5.948386</td>\n",
       "      <td>5.001160</td>\n",
       "      <td>134.766305</td>\n",
       "    </tr>\n",
       "    <tr>\n",
       "      <td>3</td>\n",
       "      <td>KcrkZ</td>\n",
       "      <td>-13.081196</td>\n",
       "      <td>-11.506057</td>\n",
       "      <td>4.999415</td>\n",
       "      <td>137.945408</td>\n",
       "    </tr>\n",
       "    <tr>\n",
       "      <td>4</td>\n",
       "      <td>AHL4O</td>\n",
       "      <td>12.702195</td>\n",
       "      <td>-8.147433</td>\n",
       "      <td>5.004363</td>\n",
       "      <td>134.766305</td>\n",
       "    </tr>\n",
       "    <tr>\n",
       "      <td>5</td>\n",
       "      <td>HHckp</td>\n",
       "      <td>-3.327590</td>\n",
       "      <td>-2.205276</td>\n",
       "      <td>3.003647</td>\n",
       "      <td>84.038886</td>\n",
       "    </tr>\n",
       "    <tr>\n",
       "      <td>6</td>\n",
       "      <td>h5Ujo</td>\n",
       "      <td>-11.142655</td>\n",
       "      <td>-10.133399</td>\n",
       "      <td>4.002382</td>\n",
       "      <td>110.992147</td>\n",
       "    </tr>\n",
       "    <tr>\n",
       "      <td>7</td>\n",
       "      <td>muH9x</td>\n",
       "      <td>4.234715</td>\n",
       "      <td>-0.001354</td>\n",
       "      <td>2.004588</td>\n",
       "      <td>53.906522</td>\n",
       "    </tr>\n",
       "    <tr>\n",
       "      <td>8</td>\n",
       "      <td>YiRkx</td>\n",
       "      <td>13.355129</td>\n",
       "      <td>-0.332068</td>\n",
       "      <td>4.998647</td>\n",
       "      <td>134.766305</td>\n",
       "    </tr>\n",
       "    <tr>\n",
       "      <td>9</td>\n",
       "      <td>jG6Gi</td>\n",
       "      <td>1.069227</td>\n",
       "      <td>-11.025667</td>\n",
       "      <td>4.997844</td>\n",
       "      <td>137.945408</td>\n",
       "    </tr>\n",
       "  </tbody>\n",
       "</table>\n",
       "</div>"
      ],
      "text/plain": [
       "      id         f0         f1        f2     product\n",
       "0  kBEdx -15.001348  -8.276000 -0.005876    3.179103\n",
       "1  62mP7  14.272088  -3.475083  0.999183   26.953261\n",
       "2  vyE1P   6.263187  -5.948386  5.001160  134.766305\n",
       "3  KcrkZ -13.081196 -11.506057  4.999415  137.945408\n",
       "4  AHL4O  12.702195  -8.147433  5.004363  134.766305\n",
       "5  HHckp  -3.327590  -2.205276  3.003647   84.038886\n",
       "6  h5Ujo -11.142655 -10.133399  4.002382  110.992147\n",
       "7  muH9x   4.234715  -0.001354  2.004588   53.906522\n",
       "8  YiRkx  13.355129  -0.332068  4.998647  134.766305\n",
       "9  jG6Gi   1.069227 -11.025667  4.997844  137.945408"
      ]
     },
     "execution_count": 4,
     "metadata": {},
     "output_type": "execute_result"
    }
   ],
   "source": [
    "df_1 = pd.read_csv('https://code.s3.yandex.net/datasets/geo_data_1.csv')\n",
    "first_view(df_1)"
   ]
  },
  {
   "cell_type": "code",
   "execution_count": 5,
   "metadata": {
    "scrolled": false
   },
   "outputs": [
    {
     "name": "stdout",
     "output_type": "stream",
     "text": [
      "<class 'pandas.core.frame.DataFrame'>\n",
      "RangeIndex: 100000 entries, 0 to 99999\n",
      "Data columns (total 5 columns):\n",
      "id         100000 non-null object\n",
      "f0         100000 non-null float64\n",
      "f1         100000 non-null float64\n",
      "f2         100000 non-null float64\n",
      "product    100000 non-null float64\n",
      "dtypes: float64(4), object(1)\n",
      "memory usage: 3.8+ MB\n",
      "None\n"
     ]
    },
    {
     "data": {
      "text/html": [
       "<div>\n",
       "<style scoped>\n",
       "    .dataframe tbody tr th:only-of-type {\n",
       "        vertical-align: middle;\n",
       "    }\n",
       "\n",
       "    .dataframe tbody tr th {\n",
       "        vertical-align: top;\n",
       "    }\n",
       "\n",
       "    .dataframe thead th {\n",
       "        text-align: right;\n",
       "    }\n",
       "</style>\n",
       "<table border=\"1\" class=\"dataframe\">\n",
       "  <thead>\n",
       "    <tr style=\"text-align: right;\">\n",
       "      <th></th>\n",
       "      <th>id</th>\n",
       "      <th>f0</th>\n",
       "      <th>f1</th>\n",
       "      <th>f2</th>\n",
       "      <th>product</th>\n",
       "    </tr>\n",
       "  </thead>\n",
       "  <tbody>\n",
       "    <tr>\n",
       "      <td>0</td>\n",
       "      <td>fwXo0</td>\n",
       "      <td>-1.146987</td>\n",
       "      <td>0.963328</td>\n",
       "      <td>-0.828965</td>\n",
       "      <td>27.758673</td>\n",
       "    </tr>\n",
       "    <tr>\n",
       "      <td>1</td>\n",
       "      <td>WJtFt</td>\n",
       "      <td>0.262778</td>\n",
       "      <td>0.269839</td>\n",
       "      <td>-2.530187</td>\n",
       "      <td>56.069697</td>\n",
       "    </tr>\n",
       "    <tr>\n",
       "      <td>2</td>\n",
       "      <td>ovLUW</td>\n",
       "      <td>0.194587</td>\n",
       "      <td>0.289035</td>\n",
       "      <td>-5.586433</td>\n",
       "      <td>62.871910</td>\n",
       "    </tr>\n",
       "    <tr>\n",
       "      <td>3</td>\n",
       "      <td>q6cA6</td>\n",
       "      <td>2.236060</td>\n",
       "      <td>-0.553760</td>\n",
       "      <td>0.930038</td>\n",
       "      <td>114.572842</td>\n",
       "    </tr>\n",
       "    <tr>\n",
       "      <td>4</td>\n",
       "      <td>WPMUX</td>\n",
       "      <td>-0.515993</td>\n",
       "      <td>1.716266</td>\n",
       "      <td>5.899011</td>\n",
       "      <td>149.600746</td>\n",
       "    </tr>\n",
       "    <tr>\n",
       "      <td>5</td>\n",
       "      <td>LzZXx</td>\n",
       "      <td>-0.758092</td>\n",
       "      <td>0.710691</td>\n",
       "      <td>2.585887</td>\n",
       "      <td>90.222465</td>\n",
       "    </tr>\n",
       "    <tr>\n",
       "      <td>6</td>\n",
       "      <td>WBHRv</td>\n",
       "      <td>-0.574891</td>\n",
       "      <td>0.317727</td>\n",
       "      <td>1.773745</td>\n",
       "      <td>45.641478</td>\n",
       "    </tr>\n",
       "    <tr>\n",
       "      <td>7</td>\n",
       "      <td>XO8fn</td>\n",
       "      <td>-1.906649</td>\n",
       "      <td>-2.458350</td>\n",
       "      <td>-0.177097</td>\n",
       "      <td>72.480640</td>\n",
       "    </tr>\n",
       "    <tr>\n",
       "      <td>8</td>\n",
       "      <td>ybmQ5</td>\n",
       "      <td>1.776292</td>\n",
       "      <td>-0.279356</td>\n",
       "      <td>3.004156</td>\n",
       "      <td>106.616832</td>\n",
       "    </tr>\n",
       "    <tr>\n",
       "      <td>9</td>\n",
       "      <td>OilcN</td>\n",
       "      <td>-1.214452</td>\n",
       "      <td>-0.439314</td>\n",
       "      <td>5.922514</td>\n",
       "      <td>52.954532</td>\n",
       "    </tr>\n",
       "  </tbody>\n",
       "</table>\n",
       "</div>"
      ],
      "text/plain": [
       "      id        f0        f1        f2     product\n",
       "0  fwXo0 -1.146987  0.963328 -0.828965   27.758673\n",
       "1  WJtFt  0.262778  0.269839 -2.530187   56.069697\n",
       "2  ovLUW  0.194587  0.289035 -5.586433   62.871910\n",
       "3  q6cA6  2.236060 -0.553760  0.930038  114.572842\n",
       "4  WPMUX -0.515993  1.716266  5.899011  149.600746\n",
       "5  LzZXx -0.758092  0.710691  2.585887   90.222465\n",
       "6  WBHRv -0.574891  0.317727  1.773745   45.641478\n",
       "7  XO8fn -1.906649 -2.458350 -0.177097   72.480640\n",
       "8  ybmQ5  1.776292 -0.279356  3.004156  106.616832\n",
       "9  OilcN -1.214452 -0.439314  5.922514   52.954532"
      ]
     },
     "execution_count": 5,
     "metadata": {},
     "output_type": "execute_result"
    }
   ],
   "source": [
    "df_2 = pd.read_csv('https://code.s3.yandex.net/datasets/geo_data_2.csv')\n",
    "first_view(df_2)"
   ]
  },
  {
   "cell_type": "markdown",
   "metadata": {},
   "source": [
    "### Выводы по главе 1:"
   ]
  },
  {
   "cell_type": "markdown",
   "metadata": {},
   "source": [
    ">В таблицах отсутствуют пропуски. Все данные, кроме `id` имеют численное значение. Столбец `id` не несет информации для обучения модели. "
   ]
  },
  {
   "cell_type": "markdown",
   "metadata": {},
   "source": [
    "## Глава 2. Обучение и проверка модели"
   ]
  },
  {
   "cell_type": "markdown",
   "metadata": {},
   "source": [
    " Удалим столбец `id` из обучающей выборки."
   ]
  },
  {
   "cell_type": "code",
   "execution_count": 6,
   "metadata": {},
   "outputs": [],
   "source": [
    "df_0 = df_0.drop(['id'], axis=1)\n",
    "df_1 = df_1.drop(['id'], axis=1)\n",
    "df_2 = df_2.drop(['id'], axis=1)"
   ]
  },
  {
   "cell_type": "markdown",
   "metadata": {},
   "source": [
    "Разделим датафреймы на 2 части: обучающую `df_train` и валидационную `df_valid` выбороки в пропорциях 3:1, используя функцию `train_test_split` из библиетеки `sklearn.model_selection`"
   ]
  },
  {
   "cell_type": "code",
   "execution_count": 7,
   "metadata": {},
   "outputs": [],
   "source": [
    "train_0, valid_0 = train_test_split(df_0, test_size=0.25, random_state=12345)\n",
    "train_1, valid_1 = train_test_split(df_1, test_size=0.25, random_state=12345)\n",
    "train_2, valid_2 = train_test_split(df_2, test_size=0.25, random_state=12345)"
   ]
  },
  {
   "cell_type": "markdown",
   "metadata": {},
   "source": [
    "Выведем размеры обучающей и валидационной выборок на экран и оценим правильность деления на части"
   ]
  },
  {
   "cell_type": "code",
   "execution_count": 8,
   "metadata": {},
   "outputs": [
    {
     "name": "stdout",
     "output_type": "stream",
     "text": [
      "(75000, 4) (25000, 4)\n",
      "(75000, 4) (25000, 4)\n",
      "(75000, 4) (25000, 4)\n"
     ]
    }
   ],
   "source": [
    "print(train_0.shape, valid_0.shape)\n",
    "print(train_1.shape, valid_1.shape)\n",
    "print(train_2.shape, valid_2.shape)"
   ]
  },
  {
   "cell_type": "markdown",
   "metadata": {},
   "source": [
    "Разделим каждую выборку на `features` -  признаки и `target` — целевой признак. Напишем для этого функцию `features_target_split()`:"
   ]
  },
  {
   "cell_type": "code",
   "execution_count": 9,
   "metadata": {},
   "outputs": [],
   "source": [
    "def features_target_split(data):\n",
    "    features = data.drop(['product'], axis=1)\n",
    "    target = data['product']\n",
    "    return features, target\n",
    "\n",
    "train_features_0, train_target_0 = features_target_split(train_0)\n",
    "train_features_1, train_target_1 = features_target_split(train_1)\n",
    "train_features_2, train_target_2 = features_target_split(train_2)\n",
    "\n",
    "valid_features_0, valid_target_0 = features_target_split(valid_0)\n",
    "valid_features_1, valid_target_1 = features_target_split(valid_1)\n",
    "valid_features_2, valid_target_2 = features_target_split(valid_2)"
   ]
  },
  {
   "cell_type": "markdown",
   "metadata": {},
   "source": [
    "Для того, чтобы отмаштабировать признаки, воспользуемся одним из методов масштабирования — стандартизации данных.  \n",
    "В sklearn есть отдельная структура для стандартизации данных — **StandardScaler**  \n",
    "Преобразуем данные функцией `transform()`. Напишем для этого функцию `data_to_StandardScaler(data)`"
   ]
  },
  {
   "cell_type": "code",
   "execution_count": 10,
   "metadata": {},
   "outputs": [],
   "source": [
    "def data_to_StandardScaler1(data, train_features):\n",
    "    scaler1 = StandardScaler()\n",
    "    scaler1.fit(train_features)\n",
    "    data = scaler1.transform(data)\n",
    "    return data\n",
    "\n",
    "valid_features_0 = data_to_StandardScaler1(valid_features_0, train_features_0)\n",
    "valid_features_1 = data_to_StandardScaler1(valid_features_1, train_features_1)\n",
    "valid_features_2 = data_to_StandardScaler1(valid_features_2, train_features_2)\n",
    "\n",
    "def data_to_StandardScaler(data):\n",
    "    scaler = StandardScaler()\n",
    "    scaler.fit(data)\n",
    "    data = scaler.transform(data)\n",
    "    return data\n",
    "\n",
    "train_features_0 = data_to_StandardScaler(train_features_0)\n",
    "train_features_1 = data_to_StandardScaler(train_features_1)\n",
    "train_features_2 = data_to_StandardScaler(train_features_2)"
   ]
  },
  {
   "cell_type": "markdown",
   "metadata": {},
   "source": [
    "Данная задача относиться к задачам регрессии. Обучим модель Линейная регрессия для каждого региона:  \n",
    " - **Линейная регрессия** LinearRegression из библиотеки *sklearn.linear_model*   \n",
    "\n",
    "Напишем функцию `model_rmse`, принимающая данные обучающей и валидационной выборок, выводит RMSE модели и возвращает массив предсказаний модели по региону\n",
    " \n"
   ]
  },
  {
   "cell_type": "code",
   "execution_count": 11,
   "metadata": {},
   "outputs": [],
   "source": [
    "def model_rmse(train_features, train_target, valid_features, valid_target):\n",
    "    model = LinearRegression().fit(train_features, train_target)\n",
    "    predicted = model.predict(valid_features)\n",
    "    mse_0 = mean_squared_error(valid_target, predicted)\n",
    "    rmse_0 = mse_0 ** 0.5\n",
    "    print('RMSE модели {:.2f}'.format(rmse_0))\n",
    "    return predicted"
   ]
  },
  {
   "cell_type": "markdown",
   "metadata": {},
   "source": [
    "### Регион 0"
   ]
  },
  {
   "cell_type": "code",
   "execution_count": 12,
   "metadata": {},
   "outputs": [
    {
     "name": "stdout",
     "output_type": "stream",
     "text": [
      "Регион 0\n",
      "Cредний запас сырья в регионе 92.50 тыс. баррелей\n",
      "RMSE модели 37.58\n"
     ]
    }
   ],
   "source": [
    "print('Регион 0')\n",
    "print('Cредний запас сырья в регионе {:.2f} тыс. баррелей'.format(df_0['product'].mean()))\n",
    "predicted_valid_0  = model_rmse(train_features_0, train_target_0, valid_features_0, valid_target_0)"
   ]
  },
  {
   "cell_type": "markdown",
   "metadata": {},
   "source": [
    "### Регион 1"
   ]
  },
  {
   "cell_type": "code",
   "execution_count": 13,
   "metadata": {},
   "outputs": [
    {
     "name": "stdout",
     "output_type": "stream",
     "text": [
      "Регион 1\n",
      "Cредний запас сырья в регионе 68.83 тыс. баррелей\n",
      "RMSE модели 0.89\n"
     ]
    }
   ],
   "source": [
    "print('Регион 1')\n",
    "print('Cредний запас сырья в регионе {:.2f} тыс. баррелей'.format(df_1['product'].mean()))\n",
    "predicted_valid_1  = model_rmse(train_features_1, train_target_1, valid_features_1, valid_target_1)"
   ]
  },
  {
   "cell_type": "markdown",
   "metadata": {},
   "source": [
    "### Регион 2"
   ]
  },
  {
   "cell_type": "code",
   "execution_count": 14,
   "metadata": {
    "scrolled": true
   },
   "outputs": [
    {
     "name": "stdout",
     "output_type": "stream",
     "text": [
      "Регион 2\n",
      "Cредний запас сырья в регионе 95.00 тыс. баррелей\n",
      "RMSE модели 40.03\n"
     ]
    }
   ],
   "source": [
    "print('Регион 2')\n",
    "print('Cредний запас сырья в регионе {:.2f} тыс. баррелей'.format(df_2['product'].mean()))\n",
    "predicted_valid_2  = model_rmse(train_features_2, train_target_2, valid_features_2, valid_target_2)"
   ]
  },
  {
   "cell_type": "markdown",
   "metadata": {},
   "source": [
    "### Выводы по главе 2:"
   ]
  },
  {
   "cell_type": "markdown",
   "metadata": {},
   "source": [
    "> Обучение модели Линейная регрессия в 3 регионах показала, что в регионе 1 лучшая RMSE, модель предсказывает наличие запасов нефти с точность до ~~0.9~~ <b>0.89</b> тыс.баррелей, в то время как в регионе 0 и 2 достигает около 40 тыс.баррелей.  \n",
    "Однако, в регионе 1 средний запас сырья - почти 69 тыс.баррелей, а в 0 и 2 - 92 и 95 тыс.баррелей соответственно, что в 1.5 раза примерно выше региона 1.  \n",
    "Модель хорошо обучилась и лучше предсказывает в регионе 1."
   ]
  },
  {
   "cell_type": "markdown",
   "metadata": {},
   "source": [
    "## Глава 3. Подготовка к расчёту прибыли"
   ]
  },
  {
   "cell_type": "markdown",
   "metadata": {},
   "source": [
    "Для дальнейших расчетов нужно привести ключевые значения к пригодным для работы с ними."
   ]
  },
  {
   "cell_type": "code",
   "execution_count": 15,
   "metadata": {},
   "outputs": [],
   "source": [
    "# Сбросим индексы целевого признака в валидационной выборке для каждого региона:\n",
    "valid_target_0.reset_index(drop=True, inplace=True)\n",
    "valid_target_1.reset_index(drop=True, inplace=True)\n",
    "valid_target_2.reset_index(drop=True, inplace=True)\n",
    "\n",
    "# Переведем предсказания в валидационной выборке в pd.Series:\n",
    "predicted_valid_0 = pd.Series(predicted_valid_0)\n",
    "predicted_valid_1 = pd.Series(predicted_valid_1)\n",
    "predicted_valid_2 = pd.Series(predicted_valid_2)"
   ]
  },
  {
   "cell_type": "markdown",
   "metadata": {},
   "source": [
    "Чтобы рассчитать минимальный средний объём сырья в месторождениях региона, достаточный для его разработки, необходимо провести рассчеты:  \n",
    "- Операционная прибыль = Валовая прибыль -  Операционные расходы(себестоимость добычи, зарплаты, аренда и пр. связанное с деятельность по добыче)  \n",
    "- Один баррель сырья приносит ~~4500~~ <b>450</b> рублей прибыли. <b>Доход с каждой единицы продукта составляет 450 тыс. рублей(450000), поскольку объём указан в тысячах баррелей</b>\n",
    "- Бюджет на разработку месторождений — 10 млрд рублей, стоимость бурения одной скважины — 50 млн рублей.\n",
    "- Минимальный средний объём сырья в месторождениях региона, достаточный для его разработки - объем баррелей в скважине, при котором операционная прибыль = 0"
   ]
  },
  {
   "cell_type": "code",
   "execution_count": 23,
   "metadata": {},
   "outputs": [],
   "source": [
    "#далее все цифры приведены к млрд. что бы не путаться\n",
    "price_per_unit = 0.00045e9\n",
    "budget_for_deposit = 10e9\n",
    "price_per_borehole = 0.05e9"
   ]
  },
  {
   "cell_type": "code",
   "execution_count": 17,
   "metadata": {
    "scrolled": true
   },
   "outputs": [
    {
     "name": "stdout",
     "output_type": "stream",
     "text": [
      "Минимальный средний объём сырья 111.111 тыс.баррелей\n"
     ]
    }
   ],
   "source": [
    "#x = 50000000 / 4500 / 1000\n",
    "x = price_per_borehole / price_per_unit\n",
    "print('Минимальный средний объём сырья {:.3f} тыс.баррелей'.format(x))"
   ]
  },
  {
   "cell_type": "markdown",
   "metadata": {},
   "source": [
    "Для того чтобы покрыть операционные расходы по добычи в каждой скважине региона должно быть в среднем ~~11.11~~ <b>111.111</b> тыс.баррелей нефти."
   ]
  },
  {
   "cell_type": "markdown",
   "metadata": {},
   "source": [
    "Напишем функцию для расчёта прибыли по набору отобранных месторождений и предсказаний модели `distribution_revenue`, принимающая на вход предсказания, истинные значения целевого признака и количество скважин и считающая общую прибыль в млрд.руб в регионе:"
   ]
  },
  {
   "cell_type": "code",
   "execution_count": 18,
   "metadata": {},
   "outputs": [],
   "source": [
    "def revenue(target, probabilities, count):\n",
    "    probs_sorted = probabilities.sort_values(ascending=False)\n",
    "    selected = target[probs_sorted.index][:count]\n",
    "    #return 4500 * 1000 * selected.sum() / 1e9\n",
    "    return ((price_per_unit * selected.sum() - budget_for_deposit) / 1e9)"
   ]
  },
  {
   "cell_type": "markdown",
   "metadata": {},
   "source": [
    "### Выводы по главе 3:"
   ]
  },
  {
   "cell_type": "markdown",
   "metadata": {},
   "source": [
    "> Данные подготовлены для Bootstrap и статистического анализа. "
   ]
  },
  {
   "cell_type": "markdown",
   "metadata": {},
   "source": [
    "## Глава 4. Расчёт прибыли и рисков "
   ]
  },
  {
   "cell_type": "markdown",
   "metadata": {},
   "source": [
    "Применим технику Bootstrap с 1000 выборок, чтобы найти распределение прибыли.  \n",
    "Найдем среднюю прибыль, 95%-й доверительный интервал и риск убытков."
   ]
  },
  {
   "cell_type": "markdown",
   "metadata": {},
   "source": [
    "Напишем функцию `distribution_revenue` с техникой Bootstrap с 1000 повторениями для 500 возможных скважин, 200 из которых будут отобраны для бурения.  \n",
    "Функция считает среднюю прибыль, 95%-й доверительный интервал и риск убытков по целевому признаку и предсказаниям."
   ]
  },
  {
   "cell_type": "code",
   "execution_count": 19,
   "metadata": {},
   "outputs": [],
   "source": [
    "state = np.random.RandomState(12345)\n",
    "def distribution_revenue(target, probabilities):\n",
    "    values = []\n",
    "    for i in range(1000):\n",
    "        target_subsample = target.sample(n=500, replace=True, random_state=state)\n",
    "        probs_subsample = probabilities[target_subsample.index]\n",
    "        values.append(revenue(target_subsample, probs_subsample, 200))\n",
    "\n",
    "    values = pd.Series(values)\n",
    "    mean = values.mean()\n",
    "    print('Средняя прибыль {} млрд.руб.'.format(mean))\n",
    "    \n",
    "    lower = np.quantile(values, 0.025)\n",
    "    upper = np.quantile(values, 0.975)\n",
    "    print('95%-й доверительный интервал {} - {} млрд.руб.'.format(lower, upper))\n",
    "    \n",
    "    loss_risk = st.percentileofscore(values, 0)\n",
    "    print('Риск убытков {} %'.format(loss_risk))\n",
    "    return "
   ]
  },
  {
   "cell_type": "markdown",
   "metadata": {},
   "source": [
    "### Регион 0"
   ]
  },
  {
   "cell_type": "code",
   "execution_count": 20,
   "metadata": {},
   "outputs": [
    {
     "name": "stdout",
     "output_type": "stream",
     "text": [
      "Средняя прибыль 0.42593852691059236 млрд.руб.\n",
      "95%-й доверительный интервал -0.10209009483793655 - 0.9479763533583688 млрд.руб.\n",
      "Риск убытков 6.0 %\n"
     ]
    }
   ],
   "source": [
    "distribution_revenue(valid_target_0, predicted_valid_0)"
   ]
  },
  {
   "cell_type": "markdown",
   "metadata": {},
   "source": [
    "### Регион 1"
   ]
  },
  {
   "cell_type": "code",
   "execution_count": 21,
   "metadata": {},
   "outputs": [
    {
     "name": "stdout",
     "output_type": "stream",
     "text": [
      "Средняя прибыль 0.5182594936973248 млрд.руб.\n",
      "95%-й доверительный интервал 0.1281232314330863 - 0.9536129820669086 млрд.руб.\n",
      "Риск убытков 0.3 %\n"
     ]
    }
   ],
   "source": [
    "distribution_revenue(valid_target_1, predicted_valid_1)"
   ]
  },
  {
   "cell_type": "markdown",
   "metadata": {},
   "source": [
    "### Регион 2"
   ]
  },
  {
   "cell_type": "code",
   "execution_count": 22,
   "metadata": {},
   "outputs": [
    {
     "name": "stdout",
     "output_type": "stream",
     "text": [
      "Средняя прибыль 0.4201940053440501 млрд.руб.\n",
      "95%-й доверительный интервал -0.11585260916001143 - 0.989629939844574 млрд.руб.\n",
      "Риск убытков 6.2 %\n"
     ]
    }
   ],
   "source": [
    "distribution_revenue(valid_target_2, predicted_valid_2)"
   ]
  },
  {
   "cell_type": "markdown",
   "metadata": {},
   "source": [
    "### Выводы по главе 4:"
   ]
  },
  {
   "cell_type": "markdown",
   "metadata": {},
   "source": [
    "> Полученные данные показывают:\n",
    "- при Bootstrap с 1000 выборок, распределение средних прибылей стремиться к нормальному со средним в районе ~~104~~ <b>0.423</b> млрд. для регионов 0 и 2, и в районе ~~105~~ <b>0.518</b> млрд. для региона 1. Что предполагает такое же среднее в генеральной совокупности для данной модели и региона.\n",
    "- Нижний предел 95% доверительный интервал только для региона 1 выше ~~100~~ <b>0</b> млрд.рублей~~, операционная прибыль меньше 10 млрд. ни в одном из  регионов.~~\n",
    "- Риски получения убытков ~~отстутствуют во всех 3 регионах~~ <b>ниже 2.5% только у региона 1</b>.\n",
    "- Наиболее предпочтительным регионом для бурения скважин  по доверительному интервалу,среднему и риску убытков - Регион 1."
   ]
  },
  {
   "cell_type": "markdown",
   "metadata": {},
   "source": [
    "### Общий вывод:"
   ]
  },
  {
   "cell_type": "markdown",
   "metadata": {},
   "source": [
    "- Обучение модели Линейная регрессия в 3 регионах показала, что в регионе 1 лучшая RMSE, модель предсказывает наличие запасов нефти с точность до 0.89 тыс.баррелей, в то время как в регионе 0 и 2 достигается разброс около 40 тыс.баррелей.  \n",
    "- <b>В общем все регионы не подходят по среднему количеству баррелей в скважинах, т.к. все средние ниже 111.111 тыс. барелей</b>\n",
    "- <b>Однако, на случайной выборке из 1000 повторений модель предсказывает среднюю прибыль и 95%-й доверительный интервал операционного дохода в Регионе 1.</b>\n",
    "- <b>Очевидно что в топ 200 скважин Региона 1 по среднему количеству баррелей в скважинах выше чем общее среднее всех скважин Региона 1.</b>\n",
    "- <b>Очевидны преимущества машиного обучения и конкретно нашей модели, позволившие определить перспективный регион, который на первый взгляд обладает \"плохими показателями\" (низким общим средним кол-вом баррелей всего региона), а так же определить существенно более высокие риски (в 20 раз выше) разработки регионов с более \"выйграшными показателями\" (общее среднее кол-во баррелей в полтора раза выше).</b>\n",
    "- Следовательно, чтобы получить максимальную прибыль при минимальных рисках необходимо использовать Регион 1 для добычи сырья, т.к. статистически это лучший регион по заданным входным данным."
   ]
  }
 ],
 "metadata": {
  "ExecuteTimeLog": [
   {
    "duration": 1273,
    "start_time": "2021-11-01T14:49:13.635Z"
   },
   {
    "duration": 3,
    "start_time": "2021-11-01T14:49:14.910Z"
   },
   {
    "duration": 413,
    "start_time": "2021-11-01T14:49:14.915Z"
   },
   {
    "duration": 353,
    "start_time": "2021-11-01T14:49:15.330Z"
   },
   {
    "duration": 374,
    "start_time": "2021-11-01T14:49:15.685Z"
   },
   {
    "duration": 10,
    "start_time": "2021-11-01T14:49:16.061Z"
   },
   {
    "duration": 43,
    "start_time": "2021-11-01T14:49:16.073Z"
   },
   {
    "duration": 3,
    "start_time": "2021-11-01T14:49:16.119Z"
   },
   {
    "duration": 12,
    "start_time": "2021-11-01T14:49:16.124Z"
   },
   {
    "duration": 38,
    "start_time": "2021-11-01T14:49:16.144Z"
   },
   {
    "duration": 5,
    "start_time": "2021-11-01T14:49:16.184Z"
   },
   {
    "duration": 157,
    "start_time": "2021-11-01T14:49:16.191Z"
   },
   {
    "duration": 199,
    "start_time": "2021-11-01T14:49:16.350Z"
   },
   {
    "duration": 12,
    "start_time": "2021-11-01T14:49:17.337Z"
   },
   {
    "duration": 6,
    "start_time": "2021-11-01T14:49:17.353Z"
   },
   {
    "duration": 92,
    "start_time": "2021-11-01T14:49:17.362Z"
   },
   {
    "duration": 3,
    "start_time": "2021-11-01T14:49:17.819Z"
   },
   {
    "duration": 5,
    "start_time": "2021-11-01T14:49:19.415Z"
   },
   {
    "duration": 3333,
    "start_time": "2021-11-01T14:49:20.366Z"
   },
   {
    "duration": 3,
    "start_time": "2021-11-01T14:49:30.193Z"
   },
   {
    "duration": 5,
    "start_time": "2021-11-01T14:49:33.570Z"
   },
   {
    "duration": 3293,
    "start_time": "2021-11-01T14:49:35.639Z"
   },
   {
    "duration": 4,
    "start_time": "2021-11-01T14:49:44.705Z"
   },
   {
    "duration": 5,
    "start_time": "2021-11-01T14:49:46.212Z"
   },
   {
    "duration": 3238,
    "start_time": "2021-11-01T14:49:46.523Z"
   },
   {
    "duration": 5,
    "start_time": "2021-11-01T14:49:59.335Z"
   },
   {
    "duration": 6,
    "start_time": "2021-11-01T14:50:01.201Z"
   },
   {
    "duration": 3525,
    "start_time": "2021-11-01T14:50:01.855Z"
   },
   {
    "duration": 3452,
    "start_time": "2021-11-01T14:50:07.648Z"
   },
   {
    "duration": 3212,
    "start_time": "2021-11-01T14:50:11.102Z"
   },
   {
    "duration": 4,
    "start_time": "2021-11-01T14:50:22.723Z"
   },
   {
    "duration": 5,
    "start_time": "2021-11-01T14:50:23.791Z"
   },
   {
    "duration": 3175,
    "start_time": "2021-11-01T14:50:24.175Z"
   },
   {
    "duration": 3,
    "start_time": "2021-11-01T14:50:32.496Z"
   },
   {
    "duration": 6,
    "start_time": "2021-11-01T14:50:33.718Z"
   },
   {
    "duration": 3171,
    "start_time": "2021-11-01T14:50:34.091Z"
   },
   {
    "duration": 3132,
    "start_time": "2021-11-01T14:50:38.603Z"
   },
   {
    "duration": 3,
    "start_time": "2021-11-01T14:51:16.871Z"
   },
   {
    "duration": 5,
    "start_time": "2021-11-01T14:51:18.734Z"
   },
   {
    "duration": 3265,
    "start_time": "2021-11-01T14:51:19.593Z"
   },
   {
    "duration": 3,
    "start_time": "2021-11-01T14:52:08.696Z"
   },
   {
    "duration": 6,
    "start_time": "2021-11-01T14:52:10.078Z"
   },
   {
    "duration": 3199,
    "start_time": "2021-11-01T14:52:10.877Z"
   },
   {
    "duration": 4,
    "start_time": "2021-11-01T14:52:29.477Z"
   },
   {
    "duration": 5,
    "start_time": "2021-11-01T14:52:30.711Z"
   },
   {
    "duration": 3249,
    "start_time": "2021-11-01T14:52:31.128Z"
   },
   {
    "duration": 4,
    "start_time": "2021-11-01T14:53:10.932Z"
   },
   {
    "duration": 6,
    "start_time": "2021-11-01T14:53:13.119Z"
   },
   {
    "duration": 4983,
    "start_time": "2021-11-01T14:53:13.505Z"
   },
   {
    "duration": 4,
    "start_time": "2021-11-01T14:53:37.841Z"
   },
   {
    "duration": 7,
    "start_time": "2021-11-01T14:53:39.232Z"
   },
   {
    "duration": 4907,
    "start_time": "2021-11-01T14:53:39.574Z"
   },
   {
    "duration": 4892,
    "start_time": "2021-11-01T14:53:47.511Z"
   },
   {
    "duration": 3,
    "start_time": "2021-11-01T14:53:57.070Z"
   },
   {
    "duration": 5,
    "start_time": "2021-11-01T14:53:58.133Z"
   },
   {
    "duration": 3530,
    "start_time": "2021-11-01T14:53:58.616Z"
   },
   {
    "duration": 4,
    "start_time": "2021-11-01T14:54:09.523Z"
   },
   {
    "duration": 5,
    "start_time": "2021-11-01T14:54:10.642Z"
   },
   {
    "duration": 3238,
    "start_time": "2021-11-01T14:54:11.231Z"
   },
   {
    "duration": 3,
    "start_time": "2021-11-01T14:55:00.948Z"
   },
   {
    "duration": 6,
    "start_time": "2021-11-01T14:55:02.183Z"
   },
   {
    "duration": 3147,
    "start_time": "2021-11-01T14:55:02.527Z"
   },
   {
    "duration": 4,
    "start_time": "2021-11-01T14:55:13.662Z"
   },
   {
    "duration": 5,
    "start_time": "2021-11-01T14:55:15.193Z"
   },
   {
    "duration": 3145,
    "start_time": "2021-11-01T14:55:15.793Z"
   },
   {
    "duration": 3105,
    "start_time": "2021-11-01T14:55:22.912Z"
   },
   {
    "duration": 3,
    "start_time": "2021-11-01T15:07:15.599Z"
   },
   {
    "duration": 3,
    "start_time": "2021-11-01T15:07:52.558Z"
   },
   {
    "duration": 5,
    "start_time": "2021-11-01T15:07:54.172Z"
   },
   {
    "duration": 3227,
    "start_time": "2021-11-01T15:07:54.722Z"
   },
   {
    "duration": 3,
    "start_time": "2021-11-01T15:08:04.125Z"
   },
   {
    "duration": 6,
    "start_time": "2021-11-01T15:08:05.794Z"
   },
   {
    "duration": 3313,
    "start_time": "2021-11-01T15:08:06.199Z"
   },
   {
    "duration": 3,
    "start_time": "2021-11-01T15:08:16.220Z"
   },
   {
    "duration": 5,
    "start_time": "2021-11-01T15:08:17.424Z"
   },
   {
    "duration": 3089,
    "start_time": "2021-11-01T15:08:17.827Z"
   },
   {
    "duration": 3137,
    "start_time": "2021-11-01T15:08:22.060Z"
   },
   {
    "duration": 3570,
    "start_time": "2021-11-01T15:08:25.198Z"
   },
   {
    "duration": 5,
    "start_time": "2021-11-01T15:09:01.232Z"
   },
   {
    "duration": 3,
    "start_time": "2021-11-01T15:09:17.983Z"
   },
   {
    "duration": 3,
    "start_time": "2021-11-01T15:09:23.635Z"
   },
   {
    "duration": 6,
    "start_time": "2021-11-01T15:09:25.098Z"
   },
   {
    "duration": 3140,
    "start_time": "2021-11-01T15:09:25.491Z"
   },
   {
    "duration": 3240,
    "start_time": "2021-11-01T15:10:11.240Z"
   },
   {
    "duration": 3,
    "start_time": "2021-11-01T15:10:18.519Z"
   },
   {
    "duration": 5,
    "start_time": "2021-11-01T15:10:20.328Z"
   },
   {
    "duration": 3262,
    "start_time": "2021-11-01T15:10:20.695Z"
   },
   {
    "duration": 3351,
    "start_time": "2021-11-01T15:10:23.960Z"
   },
   {
    "duration": 3477,
    "start_time": "2021-11-01T15:10:27.313Z"
   }
  ],
  "kernelspec": {
   "display_name": "Python 3 (ipykernel)",
   "language": "python",
   "name": "python3"
  },
  "language_info": {
   "codemirror_mode": {
    "name": "ipython",
    "version": 3
   },
   "file_extension": ".py",
   "mimetype": "text/x-python",
   "name": "python",
   "nbconvert_exporter": "python",
   "pygments_lexer": "ipython3",
   "version": "3.9.10"
  },
  "toc": {
   "base_numbering": 1,
   "nav_menu": {},
   "number_sections": true,
   "sideBar": true,
   "skip_h1_title": true,
   "title_cell": "Table of Contents",
   "title_sidebar": "Contents",
   "toc_cell": false,
   "toc_position": {},
   "toc_section_display": true,
   "toc_window_display": false
  }
 },
 "nbformat": 4,
 "nbformat_minor": 2
}
