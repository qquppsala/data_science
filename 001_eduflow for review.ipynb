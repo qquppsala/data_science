{
 "cells": [
  {
   "cell_type": "markdown",
   "id": "292a6e84",
   "metadata": {
    "toc": true
   },
   "source": [
    "<h1>Содержание<span class=\"tocSkip\"></span></h1>\n",
    "<div class=\"toc\"><ul class=\"toc-item\"><li><span><a href=\"#Подготовка-данных\" data-toc-modified-id=\"Подготовка-данных-1\"><span class=\"toc-item-num\">1&nbsp;&nbsp;</span>Подготовка данных</a></span></li><li><span><a href=\"#Подготовка-данных\" data-toc-modified-id=\"Подготовка-данных-2\"><span class=\"toc-item-num\">2&nbsp;&nbsp;</span>Подготовка данных</a></span></li><li><span><a href=\"#Распределения-ежемесячных-платежей\" data-toc-modified-id=\"Распределения-ежемесячных-платежей-3\"><span class=\"toc-item-num\">3&nbsp;&nbsp;</span>Распределения ежемесячных платежей</a></span></li><li><span><a href=\"#Гистограммы-распределения\" data-toc-modified-id=\"Гистограммы-распределения-4\"><span class=\"toc-item-num\">4&nbsp;&nbsp;</span>Гистограммы распределения</a></span><ul class=\"toc-item\"><li><span><a href=\"#Графики-для-активных-пользователей\" data-toc-modified-id=\"Графики-для-активных-пользователей-4.1\"><span class=\"toc-item-num\">4.1&nbsp;&nbsp;</span>Графики для активных пользователей</a></span></li></ul></li><li><span><a href=\"#Выводы\" data-toc-modified-id=\"Выводы-5\"><span class=\"toc-item-num\">5&nbsp;&nbsp;</span>Выводы</a></span></li></ul></div>"
   ]
  },
  {
   "cell_type": "markdown",
   "id": "a741cfaf",
   "metadata": {},
   "source": [
    "# Телеком: исследование оттока клиентов"
   ]
  },
  {
   "cell_type": "markdown",
   "id": "2365d6ba",
   "metadata": {},
   "source": [
    "# Описание задачи"
   ]
  },
  {
   "cell_type": "markdown",
   "id": "d0e92e98",
   "metadata": {},
   "source": [
    "Сравните распределения величин ежемесячных платежей (MonthlyCharges) всех клиентов и тех, кто ушёл. Для каждой группы посчитайте статистики: средние, минимальные и максимальные значения, медиану и величины 25%- и 75%-квартилей. Постройте гистограммы распределения.\n",
    "\n",
    "Сравните поведение клиентов этих двух групп. Для каждой постройте два любых графика, изображающих:\n",
    "\n",
    "- долю пользователей телефонной связи;\n",
    "- долю интернет-пользователей."
   ]
  },
  {
   "cell_type": "markdown",
   "id": "beaa8a4e",
   "metadata": {},
   "source": [
    "## Подготовка данных"
   ]
  },
  {
   "cell_type": "code",
   "execution_count": 1,
   "id": "5fcef971",
   "metadata": {},
   "outputs": [],
   "source": [
    "#используемые библиотеки\n",
    "import pandas as pd\n",
    "import numpy as np\n",
    "import matplotlib.pyplot as plt"
   ]
  },
  {
   "cell_type": "code",
   "execution_count": 2,
   "id": "75a885d5",
   "metadata": {},
   "outputs": [
    {
     "data": {
      "text/html": [
       "<div>\n",
       "<style scoped>\n",
       "    .dataframe tbody tr th:only-of-type {\n",
       "        vertical-align: middle;\n",
       "    }\n",
       "\n",
       "    .dataframe tbody tr th {\n",
       "        vertical-align: top;\n",
       "    }\n",
       "\n",
       "    .dataframe thead th {\n",
       "        text-align: right;\n",
       "    }\n",
       "</style>\n",
       "<table border=\"1\" class=\"dataframe\">\n",
       "  <thead>\n",
       "    <tr style=\"text-align: right;\">\n",
       "      <th></th>\n",
       "      <th>customerID</th>\n",
       "      <th>BeginDate</th>\n",
       "      <th>EndDate</th>\n",
       "      <th>Type</th>\n",
       "      <th>PaperlessBilling</th>\n",
       "      <th>PaymentMethod</th>\n",
       "      <th>MonthlyCharges</th>\n",
       "      <th>TotalCharges</th>\n",
       "    </tr>\n",
       "  </thead>\n",
       "  <tbody>\n",
       "    <tr>\n",
       "      <th>0</th>\n",
       "      <td>7590-VHVEG</td>\n",
       "      <td>2020-01-01</td>\n",
       "      <td>No</td>\n",
       "      <td>Month-to-month</td>\n",
       "      <td>Yes</td>\n",
       "      <td>Electronic check</td>\n",
       "      <td>29.85</td>\n",
       "      <td>29.85</td>\n",
       "    </tr>\n",
       "    <tr>\n",
       "      <th>1</th>\n",
       "      <td>5575-GNVDE</td>\n",
       "      <td>2017-04-01</td>\n",
       "      <td>No</td>\n",
       "      <td>One year</td>\n",
       "      <td>No</td>\n",
       "      <td>Mailed check</td>\n",
       "      <td>56.95</td>\n",
       "      <td>1889.50</td>\n",
       "    </tr>\n",
       "    <tr>\n",
       "      <th>2</th>\n",
       "      <td>3668-QPYBK</td>\n",
       "      <td>2019-10-01</td>\n",
       "      <td>2019-12-01 00:00:00</td>\n",
       "      <td>Month-to-month</td>\n",
       "      <td>Yes</td>\n",
       "      <td>Mailed check</td>\n",
       "      <td>53.85</td>\n",
       "      <td>108.15</td>\n",
       "    </tr>\n",
       "    <tr>\n",
       "      <th>3</th>\n",
       "      <td>7795-CFOCW</td>\n",
       "      <td>2016-05-01</td>\n",
       "      <td>No</td>\n",
       "      <td>One year</td>\n",
       "      <td>No</td>\n",
       "      <td>Bank transfer (automatic)</td>\n",
       "      <td>42.30</td>\n",
       "      <td>1840.75</td>\n",
       "    </tr>\n",
       "    <tr>\n",
       "      <th>4</th>\n",
       "      <td>9237-HQITU</td>\n",
       "      <td>2019-09-01</td>\n",
       "      <td>2019-11-01 00:00:00</td>\n",
       "      <td>Month-to-month</td>\n",
       "      <td>Yes</td>\n",
       "      <td>Electronic check</td>\n",
       "      <td>70.70</td>\n",
       "      <td>151.65</td>\n",
       "    </tr>\n",
       "    <tr>\n",
       "      <th>...</th>\n",
       "      <td>...</td>\n",
       "      <td>...</td>\n",
       "      <td>...</td>\n",
       "      <td>...</td>\n",
       "      <td>...</td>\n",
       "      <td>...</td>\n",
       "      <td>...</td>\n",
       "      <td>...</td>\n",
       "    </tr>\n",
       "    <tr>\n",
       "      <th>7038</th>\n",
       "      <td>6840-RESVB</td>\n",
       "      <td>2018-02-01</td>\n",
       "      <td>No</td>\n",
       "      <td>One year</td>\n",
       "      <td>Yes</td>\n",
       "      <td>Mailed check</td>\n",
       "      <td>84.80</td>\n",
       "      <td>1990.50</td>\n",
       "    </tr>\n",
       "    <tr>\n",
       "      <th>7039</th>\n",
       "      <td>2234-XADUH</td>\n",
       "      <td>2014-02-01</td>\n",
       "      <td>No</td>\n",
       "      <td>One year</td>\n",
       "      <td>Yes</td>\n",
       "      <td>Credit card (automatic)</td>\n",
       "      <td>103.20</td>\n",
       "      <td>7362.90</td>\n",
       "    </tr>\n",
       "    <tr>\n",
       "      <th>7040</th>\n",
       "      <td>4801-JZAZL</td>\n",
       "      <td>2019-03-01</td>\n",
       "      <td>No</td>\n",
       "      <td>Month-to-month</td>\n",
       "      <td>Yes</td>\n",
       "      <td>Electronic check</td>\n",
       "      <td>29.60</td>\n",
       "      <td>346.45</td>\n",
       "    </tr>\n",
       "    <tr>\n",
       "      <th>7041</th>\n",
       "      <td>8361-LTMKD</td>\n",
       "      <td>2019-07-01</td>\n",
       "      <td>2019-11-01 00:00:00</td>\n",
       "      <td>Month-to-month</td>\n",
       "      <td>Yes</td>\n",
       "      <td>Mailed check</td>\n",
       "      <td>74.40</td>\n",
       "      <td>306.60</td>\n",
       "    </tr>\n",
       "    <tr>\n",
       "      <th>7042</th>\n",
       "      <td>3186-AJIEK</td>\n",
       "      <td>2014-08-01</td>\n",
       "      <td>No</td>\n",
       "      <td>Two year</td>\n",
       "      <td>Yes</td>\n",
       "      <td>Bank transfer (automatic)</td>\n",
       "      <td>105.65</td>\n",
       "      <td>6844.50</td>\n",
       "    </tr>\n",
       "  </tbody>\n",
       "</table>\n",
       "<p>7043 rows × 8 columns</p>\n",
       "</div>"
      ],
      "text/plain": [
       "      customerID   BeginDate              EndDate            Type  \\\n",
       "0     7590-VHVEG  2020-01-01                   No  Month-to-month   \n",
       "1     5575-GNVDE  2017-04-01                   No        One year   \n",
       "2     3668-QPYBK  2019-10-01  2019-12-01 00:00:00  Month-to-month   \n",
       "3     7795-CFOCW  2016-05-01                   No        One year   \n",
       "4     9237-HQITU  2019-09-01  2019-11-01 00:00:00  Month-to-month   \n",
       "...          ...         ...                  ...             ...   \n",
       "7038  6840-RESVB  2018-02-01                   No        One year   \n",
       "7039  2234-XADUH  2014-02-01                   No        One year   \n",
       "7040  4801-JZAZL  2019-03-01                   No  Month-to-month   \n",
       "7041  8361-LTMKD  2019-07-01  2019-11-01 00:00:00  Month-to-month   \n",
       "7042  3186-AJIEK  2014-08-01                   No        Two year   \n",
       "\n",
       "     PaperlessBilling              PaymentMethod  MonthlyCharges  TotalCharges  \n",
       "0                 Yes           Electronic check           29.85         29.85  \n",
       "1                  No               Mailed check           56.95       1889.50  \n",
       "2                 Yes               Mailed check           53.85        108.15  \n",
       "3                  No  Bank transfer (automatic)           42.30       1840.75  \n",
       "4                 Yes           Electronic check           70.70        151.65  \n",
       "...               ...                        ...             ...           ...  \n",
       "7038              Yes               Mailed check           84.80       1990.50  \n",
       "7039              Yes    Credit card (automatic)          103.20       7362.90  \n",
       "7040              Yes           Electronic check           29.60        346.45  \n",
       "7041              Yes               Mailed check           74.40        306.60  \n",
       "7042              Yes  Bank transfer (automatic)          105.65       6844.50  \n",
       "\n",
       "[7043 rows x 8 columns]"
      ]
     },
     "execution_count": 2,
     "metadata": {},
     "output_type": "execute_result"
    }
   ],
   "source": [
    "from io import BytesIO\n",
    "import requests\n",
    "spreadsheet_id = '1DMy0mQFCjoF8Nm9KeORJvgVegzRFCGFLd0vCwrJYqBI'\n",
    "file_name = 'https://docs.google.com/spreadsheets/d/{}/export?format=csv'.format(spreadsheet_id)\n",
    "r = requests.get(file_name)\n",
    "contact = pd.read_csv(BytesIO(r.content))\n",
    "contact"
   ]
  },
  {
   "cell_type": "code",
   "execution_count": 3,
   "id": "df16ab2b",
   "metadata": {},
   "outputs": [
    {
     "data": {
      "text/html": [
       "<div>\n",
       "<style scoped>\n",
       "    .dataframe tbody tr th:only-of-type {\n",
       "        vertical-align: middle;\n",
       "    }\n",
       "\n",
       "    .dataframe tbody tr th {\n",
       "        vertical-align: top;\n",
       "    }\n",
       "\n",
       "    .dataframe thead th {\n",
       "        text-align: right;\n",
       "    }\n",
       "</style>\n",
       "<table border=\"1\" class=\"dataframe\">\n",
       "  <thead>\n",
       "    <tr style=\"text-align: right;\">\n",
       "      <th></th>\n",
       "      <th>customerID</th>\n",
       "      <th>InternetService</th>\n",
       "      <th>OnlineSecurity</th>\n",
       "      <th>OnlineBackup</th>\n",
       "      <th>DeviceProtection</th>\n",
       "      <th>TechSupport</th>\n",
       "      <th>StreamingTV</th>\n",
       "      <th>StreamingMovies</th>\n",
       "    </tr>\n",
       "  </thead>\n",
       "  <tbody>\n",
       "    <tr>\n",
       "      <th>0</th>\n",
       "      <td>7590-VHVEG</td>\n",
       "      <td>DSL</td>\n",
       "      <td>No</td>\n",
       "      <td>Yes</td>\n",
       "      <td>No</td>\n",
       "      <td>No</td>\n",
       "      <td>No</td>\n",
       "      <td>No</td>\n",
       "    </tr>\n",
       "    <tr>\n",
       "      <th>1</th>\n",
       "      <td>5575-GNVDE</td>\n",
       "      <td>DSL</td>\n",
       "      <td>Yes</td>\n",
       "      <td>No</td>\n",
       "      <td>Yes</td>\n",
       "      <td>No</td>\n",
       "      <td>No</td>\n",
       "      <td>No</td>\n",
       "    </tr>\n",
       "    <tr>\n",
       "      <th>2</th>\n",
       "      <td>3668-QPYBK</td>\n",
       "      <td>DSL</td>\n",
       "      <td>Yes</td>\n",
       "      <td>Yes</td>\n",
       "      <td>No</td>\n",
       "      <td>No</td>\n",
       "      <td>No</td>\n",
       "      <td>No</td>\n",
       "    </tr>\n",
       "    <tr>\n",
       "      <th>3</th>\n",
       "      <td>7795-CFOCW</td>\n",
       "      <td>DSL</td>\n",
       "      <td>Yes</td>\n",
       "      <td>No</td>\n",
       "      <td>Yes</td>\n",
       "      <td>Yes</td>\n",
       "      <td>No</td>\n",
       "      <td>No</td>\n",
       "    </tr>\n",
       "    <tr>\n",
       "      <th>4</th>\n",
       "      <td>9237-HQITU</td>\n",
       "      <td>Fiber optic</td>\n",
       "      <td>No</td>\n",
       "      <td>No</td>\n",
       "      <td>No</td>\n",
       "      <td>No</td>\n",
       "      <td>No</td>\n",
       "      <td>No</td>\n",
       "    </tr>\n",
       "    <tr>\n",
       "      <th>...</th>\n",
       "      <td>...</td>\n",
       "      <td>...</td>\n",
       "      <td>...</td>\n",
       "      <td>...</td>\n",
       "      <td>...</td>\n",
       "      <td>...</td>\n",
       "      <td>...</td>\n",
       "      <td>...</td>\n",
       "    </tr>\n",
       "    <tr>\n",
       "      <th>5512</th>\n",
       "      <td>6840-RESVB</td>\n",
       "      <td>DSL</td>\n",
       "      <td>Yes</td>\n",
       "      <td>No</td>\n",
       "      <td>Yes</td>\n",
       "      <td>Yes</td>\n",
       "      <td>Yes</td>\n",
       "      <td>Yes</td>\n",
       "    </tr>\n",
       "    <tr>\n",
       "      <th>5513</th>\n",
       "      <td>2234-XADUH</td>\n",
       "      <td>Fiber optic</td>\n",
       "      <td>No</td>\n",
       "      <td>Yes</td>\n",
       "      <td>Yes</td>\n",
       "      <td>No</td>\n",
       "      <td>Yes</td>\n",
       "      <td>Yes</td>\n",
       "    </tr>\n",
       "    <tr>\n",
       "      <th>5514</th>\n",
       "      <td>4801-JZAZL</td>\n",
       "      <td>DSL</td>\n",
       "      <td>Yes</td>\n",
       "      <td>No</td>\n",
       "      <td>No</td>\n",
       "      <td>No</td>\n",
       "      <td>No</td>\n",
       "      <td>No</td>\n",
       "    </tr>\n",
       "    <tr>\n",
       "      <th>5515</th>\n",
       "      <td>8361-LTMKD</td>\n",
       "      <td>Fiber optic</td>\n",
       "      <td>No</td>\n",
       "      <td>No</td>\n",
       "      <td>No</td>\n",
       "      <td>No</td>\n",
       "      <td>No</td>\n",
       "      <td>No</td>\n",
       "    </tr>\n",
       "    <tr>\n",
       "      <th>5516</th>\n",
       "      <td>3186-AJIEK</td>\n",
       "      <td>Fiber optic</td>\n",
       "      <td>Yes</td>\n",
       "      <td>No</td>\n",
       "      <td>Yes</td>\n",
       "      <td>Yes</td>\n",
       "      <td>Yes</td>\n",
       "      <td>Yes</td>\n",
       "    </tr>\n",
       "  </tbody>\n",
       "</table>\n",
       "<p>5517 rows × 8 columns</p>\n",
       "</div>"
      ],
      "text/plain": [
       "      customerID InternetService OnlineSecurity OnlineBackup DeviceProtection  \\\n",
       "0     7590-VHVEG             DSL             No          Yes               No   \n",
       "1     5575-GNVDE             DSL            Yes           No              Yes   \n",
       "2     3668-QPYBK             DSL            Yes          Yes               No   \n",
       "3     7795-CFOCW             DSL            Yes           No              Yes   \n",
       "4     9237-HQITU     Fiber optic             No           No               No   \n",
       "...          ...             ...            ...          ...              ...   \n",
       "5512  6840-RESVB             DSL            Yes           No              Yes   \n",
       "5513  2234-XADUH     Fiber optic             No          Yes              Yes   \n",
       "5514  4801-JZAZL             DSL            Yes           No               No   \n",
       "5515  8361-LTMKD     Fiber optic             No           No               No   \n",
       "5516  3186-AJIEK     Fiber optic            Yes           No              Yes   \n",
       "\n",
       "     TechSupport StreamingTV StreamingMovies  \n",
       "0             No          No              No  \n",
       "1             No          No              No  \n",
       "2             No          No              No  \n",
       "3            Yes          No              No  \n",
       "4             No          No              No  \n",
       "...          ...         ...             ...  \n",
       "5512         Yes         Yes             Yes  \n",
       "5513          No         Yes             Yes  \n",
       "5514          No          No              No  \n",
       "5515          No          No              No  \n",
       "5516         Yes         Yes             Yes  \n",
       "\n",
       "[5517 rows x 8 columns]"
      ]
     },
     "execution_count": 3,
     "metadata": {},
     "output_type": "execute_result"
    }
   ],
   "source": [
    "from io import BytesIO\n",
    "import requests\n",
    "spreadsheet_id = '1_HkTCfFJmoBOD2qxLQek8NCPntqQs-SmcgXB_CBCCEI'\n",
    "file_name = 'https://docs.google.com/spreadsheets/d/{}/export?format=csv'.format(spreadsheet_id)\n",
    "r = requests.get(file_name)\n",
    "internet = pd.read_csv(BytesIO(r.content))\n",
    "internet"
   ]
  },
  {
   "cell_type": "code",
   "execution_count": 4,
   "id": "49b70573",
   "metadata": {
    "scrolled": true
   },
   "outputs": [
    {
     "data": {
      "text/html": [
       "<div>\n",
       "<style scoped>\n",
       "    .dataframe tbody tr th:only-of-type {\n",
       "        vertical-align: middle;\n",
       "    }\n",
       "\n",
       "    .dataframe tbody tr th {\n",
       "        vertical-align: top;\n",
       "    }\n",
       "\n",
       "    .dataframe thead th {\n",
       "        text-align: right;\n",
       "    }\n",
       "</style>\n",
       "<table border=\"1\" class=\"dataframe\">\n",
       "  <thead>\n",
       "    <tr style=\"text-align: right;\">\n",
       "      <th></th>\n",
       "      <th>customerID</th>\n",
       "      <th>gender</th>\n",
       "      <th>SeniorCitizen</th>\n",
       "      <th>Partner</th>\n",
       "      <th>Dependents</th>\n",
       "    </tr>\n",
       "  </thead>\n",
       "  <tbody>\n",
       "    <tr>\n",
       "      <th>0</th>\n",
       "      <td>7590-VHVEG</td>\n",
       "      <td>Female</td>\n",
       "      <td>0</td>\n",
       "      <td>Yes</td>\n",
       "      <td>No</td>\n",
       "    </tr>\n",
       "    <tr>\n",
       "      <th>1</th>\n",
       "      <td>5575-GNVDE</td>\n",
       "      <td>Male</td>\n",
       "      <td>0</td>\n",
       "      <td>No</td>\n",
       "      <td>No</td>\n",
       "    </tr>\n",
       "    <tr>\n",
       "      <th>2</th>\n",
       "      <td>3668-QPYBK</td>\n",
       "      <td>Male</td>\n",
       "      <td>0</td>\n",
       "      <td>No</td>\n",
       "      <td>No</td>\n",
       "    </tr>\n",
       "    <tr>\n",
       "      <th>3</th>\n",
       "      <td>7795-CFOCW</td>\n",
       "      <td>Male</td>\n",
       "      <td>0</td>\n",
       "      <td>No</td>\n",
       "      <td>No</td>\n",
       "    </tr>\n",
       "    <tr>\n",
       "      <th>4</th>\n",
       "      <td>9237-HQITU</td>\n",
       "      <td>Female</td>\n",
       "      <td>0</td>\n",
       "      <td>No</td>\n",
       "      <td>No</td>\n",
       "    </tr>\n",
       "    <tr>\n",
       "      <th>...</th>\n",
       "      <td>...</td>\n",
       "      <td>...</td>\n",
       "      <td>...</td>\n",
       "      <td>...</td>\n",
       "      <td>...</td>\n",
       "    </tr>\n",
       "    <tr>\n",
       "      <th>7038</th>\n",
       "      <td>6840-RESVB</td>\n",
       "      <td>Male</td>\n",
       "      <td>0</td>\n",
       "      <td>Yes</td>\n",
       "      <td>Yes</td>\n",
       "    </tr>\n",
       "    <tr>\n",
       "      <th>7039</th>\n",
       "      <td>2234-XADUH</td>\n",
       "      <td>Female</td>\n",
       "      <td>0</td>\n",
       "      <td>Yes</td>\n",
       "      <td>Yes</td>\n",
       "    </tr>\n",
       "    <tr>\n",
       "      <th>7040</th>\n",
       "      <td>4801-JZAZL</td>\n",
       "      <td>Female</td>\n",
       "      <td>0</td>\n",
       "      <td>Yes</td>\n",
       "      <td>Yes</td>\n",
       "    </tr>\n",
       "    <tr>\n",
       "      <th>7041</th>\n",
       "      <td>8361-LTMKD</td>\n",
       "      <td>Male</td>\n",
       "      <td>1</td>\n",
       "      <td>Yes</td>\n",
       "      <td>No</td>\n",
       "    </tr>\n",
       "    <tr>\n",
       "      <th>7042</th>\n",
       "      <td>3186-AJIEK</td>\n",
       "      <td>Male</td>\n",
       "      <td>0</td>\n",
       "      <td>No</td>\n",
       "      <td>No</td>\n",
       "    </tr>\n",
       "  </tbody>\n",
       "</table>\n",
       "<p>7043 rows × 5 columns</p>\n",
       "</div>"
      ],
      "text/plain": [
       "      customerID  gender  SeniorCitizen Partner Dependents\n",
       "0     7590-VHVEG  Female              0     Yes         No\n",
       "1     5575-GNVDE    Male              0      No         No\n",
       "2     3668-QPYBK    Male              0      No         No\n",
       "3     7795-CFOCW    Male              0      No         No\n",
       "4     9237-HQITU  Female              0      No         No\n",
       "...          ...     ...            ...     ...        ...\n",
       "7038  6840-RESVB    Male              0     Yes        Yes\n",
       "7039  2234-XADUH  Female              0     Yes        Yes\n",
       "7040  4801-JZAZL  Female              0     Yes        Yes\n",
       "7041  8361-LTMKD    Male              1     Yes         No\n",
       "7042  3186-AJIEK    Male              0      No         No\n",
       "\n",
       "[7043 rows x 5 columns]"
      ]
     },
     "execution_count": 4,
     "metadata": {},
     "output_type": "execute_result"
    }
   ],
   "source": [
    "from io import BytesIO\n",
    "import requests\n",
    "spreadsheet_id = '10czETvkCrFRMWbypFpMq0nhFWxyfofkxUs0TknbglJM'\n",
    "file_name = 'https://docs.google.com/spreadsheets/d/{}/export?format=csv'.format(spreadsheet_id)\n",
    "r = requests.get(file_name)\n",
    "personal = pd.read_csv(BytesIO(r.content))\n",
    "personal"
   ]
  },
  {
   "cell_type": "code",
   "execution_count": 5,
   "id": "33d41f4c",
   "metadata": {
    "scrolled": true
   },
   "outputs": [
    {
     "data": {
      "text/html": [
       "<div>\n",
       "<style scoped>\n",
       "    .dataframe tbody tr th:only-of-type {\n",
       "        vertical-align: middle;\n",
       "    }\n",
       "\n",
       "    .dataframe tbody tr th {\n",
       "        vertical-align: top;\n",
       "    }\n",
       "\n",
       "    .dataframe thead th {\n",
       "        text-align: right;\n",
       "    }\n",
       "</style>\n",
       "<table border=\"1\" class=\"dataframe\">\n",
       "  <thead>\n",
       "    <tr style=\"text-align: right;\">\n",
       "      <th></th>\n",
       "      <th>customerID</th>\n",
       "      <th>MultipleLines</th>\n",
       "    </tr>\n",
       "  </thead>\n",
       "  <tbody>\n",
       "    <tr>\n",
       "      <th>0</th>\n",
       "      <td>5575-GNVDE</td>\n",
       "      <td>No</td>\n",
       "    </tr>\n",
       "    <tr>\n",
       "      <th>1</th>\n",
       "      <td>3668-QPYBK</td>\n",
       "      <td>No</td>\n",
       "    </tr>\n",
       "    <tr>\n",
       "      <th>2</th>\n",
       "      <td>9237-HQITU</td>\n",
       "      <td>No</td>\n",
       "    </tr>\n",
       "    <tr>\n",
       "      <th>3</th>\n",
       "      <td>9305-CDSKC</td>\n",
       "      <td>Yes</td>\n",
       "    </tr>\n",
       "    <tr>\n",
       "      <th>4</th>\n",
       "      <td>1452-KIOVK</td>\n",
       "      <td>Yes</td>\n",
       "    </tr>\n",
       "    <tr>\n",
       "      <th>...</th>\n",
       "      <td>...</td>\n",
       "      <td>...</td>\n",
       "    </tr>\n",
       "    <tr>\n",
       "      <th>6356</th>\n",
       "      <td>2569-WGERO</td>\n",
       "      <td>No</td>\n",
       "    </tr>\n",
       "    <tr>\n",
       "      <th>6357</th>\n",
       "      <td>6840-RESVB</td>\n",
       "      <td>Yes</td>\n",
       "    </tr>\n",
       "    <tr>\n",
       "      <th>6358</th>\n",
       "      <td>2234-XADUH</td>\n",
       "      <td>Yes</td>\n",
       "    </tr>\n",
       "    <tr>\n",
       "      <th>6359</th>\n",
       "      <td>8361-LTMKD</td>\n",
       "      <td>Yes</td>\n",
       "    </tr>\n",
       "    <tr>\n",
       "      <th>6360</th>\n",
       "      <td>3186-AJIEK</td>\n",
       "      <td>No</td>\n",
       "    </tr>\n",
       "  </tbody>\n",
       "</table>\n",
       "<p>6361 rows × 2 columns</p>\n",
       "</div>"
      ],
      "text/plain": [
       "      customerID MultipleLines\n",
       "0     5575-GNVDE            No\n",
       "1     3668-QPYBK            No\n",
       "2     9237-HQITU            No\n",
       "3     9305-CDSKC           Yes\n",
       "4     1452-KIOVK           Yes\n",
       "...          ...           ...\n",
       "6356  2569-WGERO            No\n",
       "6357  6840-RESVB           Yes\n",
       "6358  2234-XADUH           Yes\n",
       "6359  8361-LTMKD           Yes\n",
       "6360  3186-AJIEK            No\n",
       "\n",
       "[6361 rows x 2 columns]"
      ]
     },
     "execution_count": 5,
     "metadata": {},
     "output_type": "execute_result"
    }
   ],
   "source": [
    "from io import BytesIO\n",
    "import requests\n",
    "spreadsheet_id = '1kBDdDqr_H6JKC0Fwt9wbg64nNh-tVegqWgufD_RRI7A'\n",
    "file_name = 'https://docs.google.com/spreadsheets/d/{}/export?format=csv'.format(spreadsheet_id)\n",
    "r = requests.get(file_name)\n",
    "phone = pd.read_csv(BytesIO(r.content))\n",
    "phone"
   ]
  },
  {
   "cell_type": "markdown",
   "id": "20c177df",
   "metadata": {},
   "source": [
    "## Подготовка данных"
   ]
  },
  {
   "cell_type": "code",
   "execution_count": 6,
   "id": "d401ab06",
   "metadata": {},
   "outputs": [
    {
     "name": "stdout",
     "output_type": "stream",
     "text": [
      "<class 'pandas.core.frame.DataFrame'>\n",
      "Int64Index: 5174 entries, 0 to 7042\n",
      "Data columns (total 8 columns):\n",
      " #   Column            Non-Null Count  Dtype  \n",
      "---  ------            --------------  -----  \n",
      " 0   customerID        5174 non-null   object \n",
      " 1   BeginDate         5174 non-null   object \n",
      " 2   EndDate           5174 non-null   object \n",
      " 3   Type              5174 non-null   object \n",
      " 4   PaperlessBilling  5174 non-null   object \n",
      " 5   PaymentMethod     5174 non-null   object \n",
      " 6   MonthlyCharges    5174 non-null   float64\n",
      " 7   TotalCharges      5163 non-null   float64\n",
      "dtypes: float64(2), object(6)\n",
      "memory usage: 363.8+ KB\n",
      "None\n",
      "\n",
      "<class 'pandas.core.frame.DataFrame'>\n",
      "Int64Index: 1869 entries, 2 to 7041\n",
      "Data columns (total 8 columns):\n",
      " #   Column            Non-Null Count  Dtype  \n",
      "---  ------            --------------  -----  \n",
      " 0   customerID        1869 non-null   object \n",
      " 1   BeginDate         1869 non-null   object \n",
      " 2   EndDate           1869 non-null   object \n",
      " 3   Type              1869 non-null   object \n",
      " 4   PaperlessBilling  1869 non-null   object \n",
      " 5   PaymentMethod     1869 non-null   object \n",
      " 6   MonthlyCharges    1869 non-null   float64\n",
      " 7   TotalCharges      1869 non-null   float64\n",
      "dtypes: float64(2), object(6)\n",
      "memory usage: 131.4+ KB\n",
      "None\n"
     ]
    }
   ],
   "source": [
    "#формирование двух групп\n",
    "data_on = contact.query('EndDate==\"No\"')\n",
    "data_off = contact.query('EndDate!=\"No\"')\n",
    "\n",
    "print(data_on.info())\n",
    "print()\n",
    "print(data_off.info())"
   ]
  },
  {
   "cell_type": "markdown",
   "id": "a81bfbef",
   "metadata": {},
   "source": [
    "## Распределения ежемесячных платежей"
   ]
  },
  {
   "cell_type": "code",
   "execution_count": 7,
   "id": "8a27982b",
   "metadata": {},
   "outputs": [
    {
     "name": "stdout",
     "output_type": "stream",
     "text": [
      "Числовое описание данных ежемесячных платежей для активных пользователей\n",
      "\n",
      "count    5174.000000\n",
      "mean       61.265124\n",
      "std        31.092648\n",
      "min        18.250000\n",
      "25%        25.100000\n",
      "50%        64.425000\n",
      "75%        88.400000\n",
      "max       118.750000\n",
      "Name: MonthlyCharges, dtype: float64\n"
     ]
    }
   ],
   "source": [
    "print('Числовое описание данных ежемесячных платежей для активных пользователей')\n",
    "print()\n",
    "print(data_on['MonthlyCharges'].describe())"
   ]
  },
  {
   "cell_type": "code",
   "execution_count": 8,
   "id": "f5d5256e",
   "metadata": {},
   "outputs": [
    {
     "name": "stdout",
     "output_type": "stream",
     "text": [
      "Числовое описание данных ежемесячных платежей для НЕ активных пользователей\n",
      "\n",
      "count    1869.000000\n",
      "mean       74.441332\n",
      "std        24.666053\n",
      "min        18.850000\n",
      "25%        56.150000\n",
      "50%        79.650000\n",
      "75%        94.200000\n",
      "max       118.350000\n",
      "Name: MonthlyCharges, dtype: float64\n"
     ]
    }
   ],
   "source": [
    "print('Числовое описание данных ежемесячных платежей для НЕ активных пользователей')\n",
    "print()\n",
    "print(data_off['MonthlyCharges'].describe())"
   ]
  },
  {
   "cell_type": "markdown",
   "id": "529f0528",
   "metadata": {},
   "source": [
    "Из приведенных выше данных видно, что:\n",
    "1. Среднее значение ежемесячного платежа для активных пользователей составляет 61.27, для НЕ активных - 74.44.\n",
    "2. Минимальное значение ежемесячного платежа для активных пользователей - 18.25, НЕ активных - 18.85.\n",
    "3. Максимальное значение ежемесячного платежа для активных пользователей - 118.75, НЕ активных - 118.35.\n",
    "4. Медианное значение для активных пользователей - 64.43, НЕ активных - 79.65.\n",
    "5. Величина 25%-квартиля для активных пользователей - 25.1, НЕ активных - 56.15.\n",
    "6. Величина 75%-квартиля для активных пользователей - 88.4, НЕ активных - 94.2."
   ]
  },
  {
   "cell_type": "markdown",
   "id": "79f4b06f",
   "metadata": {},
   "source": [
    "## Гистограммы распределения "
   ]
  },
  {
   "cell_type": "code",
   "execution_count": 9,
   "id": "9ed7f8ec",
   "metadata": {
    "scrolled": true
   },
   "outputs": [
    {
     "name": "stdout",
     "output_type": "stream",
     "text": [
      "AxesSubplot(0.125,0.125;0.775x0.755)\n"
     ]
    },
    {
     "data": {
      "image/png": "[encoded data removed]",
      "text/plain": [
       "<Figure size 432x288 with 1 Axes>"
      ]
     },
     "metadata": {
      "needs_background": "light"
     },
     "output_type": "display_data"
    }
   ],
   "source": [
    "print(data_on['MonthlyCharges'].plot(kind='hist',title='Гистограмма для ежемесячного платежа активных клиентов', grid = True, bins=100))"
   ]
  },
  {
   "cell_type": "code",
   "execution_count": 10,
   "id": "a19c6845",
   "metadata": {
    "scrolled": true
   },
   "outputs": [
    {
     "name": "stdout",
     "output_type": "stream",
     "text": [
      "AxesSubplot(0.125,0.125;0.775x0.755)\n"
     ]
    },
    {
     "data": {
      "image/png": "[encoded data removed]",
      "text/plain": [
       "<Figure size 432x288 with 1 Axes>"
      ]
     },
     "metadata": {
      "needs_background": "light"
     },
     "output_type": "display_data"
    }
   ],
   "source": [
    "print(data_off['MonthlyCharges'].plot(kind='hist',title='Гистограмма для ежемесячного платежа НЕ активных клиентов', grid = True, bins=100))"
   ]
  },
  {
   "cell_type": "markdown",
   "id": "c3cd145b",
   "metadata": {},
   "source": [
    "**Вывод**\n",
    "\n",
    "1. Из активных пользователей самый большой пик около 20 денежных единиц (скорей всего основной пакет услуг).\n",
    "2. Из НЕ активных клиентов большая часть, отказавшихся от услуг компании, платили больше 70 денежных единиц."
   ]
  },
  {
   "cell_type": "markdown",
   "id": "3e09a037",
   "metadata": {},
   "source": [
    "### Графики для активных пользователей"
   ]
  },
  {
   "cell_type": "code",
   "execution_count": 11,
   "id": "c330e1b3",
   "metadata": {
    "scrolled": false
   },
   "outputs": [
    {
     "name": "stdout",
     "output_type": "stream",
     "text": [
      "<class 'pandas.core.frame.DataFrame'>\n",
      "Int64Index: 5174 entries, 0 to 5173\n",
      "Data columns (total 9 columns):\n",
      " #   Column            Non-Null Count  Dtype  \n",
      "---  ------            --------------  -----  \n",
      " 0   customerID        5174 non-null   object \n",
      " 1   BeginDate         5174 non-null   object \n",
      " 2   EndDate           5174 non-null   object \n",
      " 3   Type              5174 non-null   object \n",
      " 4   PaperlessBilling  5174 non-null   object \n",
      " 5   PaymentMethod     5174 non-null   object \n",
      " 6   MonthlyCharges    5174 non-null   float64\n",
      " 7   TotalCharges      5163 non-null   float64\n",
      " 8   MultipleLines     4662 non-null   object \n",
      "dtypes: float64(2), object(7)\n",
      "memory usage: 404.2+ KB\n",
      "None\n"
     ]
    }
   ],
   "source": [
    "#определение доли пользователей телефонной связи\n",
    "data_on_tel = data_on.merge(phone, how='left', on='customerID')\n",
    "print(data_on_tel.info())"
   ]
  },
  {
   "cell_type": "code",
   "execution_count": 12,
   "id": "889caf03",
   "metadata": {},
   "outputs": [
    {
     "name": "stdout",
     "output_type": "stream",
     "text": [
      "512\n"
     ]
    }
   ],
   "source": [
    "#кол-во отсутствующих значений\n",
    "print(data_on_tel['MultipleLines'].isna().sum())"
   ]
  },
  {
   "cell_type": "markdown",
   "id": "044458f4",
   "metadata": {},
   "source": [
    "**Вывод**\n",
    "\n",
    "Следовательно, из активных пользователей 512 не пользуются услугами телефоной связи."
   ]
  },
  {
   "cell_type": "code",
   "execution_count": 13,
   "id": "6aafb925",
   "metadata": {},
   "outputs": [],
   "source": [
    "#постороение графика\n",
    "data_on_tel['MultipleLines'] = data_on_tel['MultipleLines'].replace('No', 1)\n",
    "data_on_tel['MultipleLines'] = data_on_tel['MultipleLines'].replace('Yes', 1)\n",
    "data_on_tel['MultipleLines'] = data_on_tel['MultipleLines'].fillna(0)"
   ]
  },
  {
   "cell_type": "code",
   "execution_count": 14,
   "id": "2c322dfd",
   "metadata": {},
   "outputs": [
    {
     "name": "stdout",
     "output_type": "stream",
     "text": [
      "1.0    4662\n",
      "0.0     512\n",
      "Name: MultipleLines, dtype: int64\n"
     ]
    }
   ],
   "source": [
    "print(data_on_tel['MultipleLines'].value_counts())"
   ]
  },
  {
   "cell_type": "code",
   "execution_count": 15,
   "id": "93d4a4e3",
   "metadata": {},
   "outputs": [
    {
     "name": "stdout",
     "output_type": "stream",
     "text": [
      "Доля пользователей телефонной связи среди активных клиентов\n"
     ]
    },
    {
     "data": {
      "image/png": "[encoded data removed]",
      "text/plain": [
       "<Figure size 432x288 with 1 Axes>"
      ]
     },
     "metadata": {},
     "output_type": "display_data"
    },
    {
     "name": "stdout",
     "output_type": "stream",
     "text": [
      "Доля пользователей телефонной связи среди активных клиентов: 90.1 %\n"
     ]
    }
   ],
   "source": [
    "y = np.array(data_on_tel['MultipleLines'].value_counts())\n",
    "mylabels = [\"Пользуются\", \"Не пользуются\"]\n",
    "myexplode = [0, 0.2]\n",
    "\n",
    "print('Доля пользователей телефонной связи среди активных клиентов')\n",
    "plt.pie(y, labels = mylabels, explode = myexplode)\n",
    "plt.show()\n",
    "print('Доля пользователей телефонной связи среди активных клиентов:', round(((4662/5174)*100), 2),'%')"
   ]
  },
  {
   "cell_type": "code",
   "execution_count": 16,
   "id": "8ccf7d33",
   "metadata": {},
   "outputs": [
    {
     "name": "stdout",
     "output_type": "stream",
     "text": [
      "<class 'pandas.core.frame.DataFrame'>\n",
      "Int64Index: 5174 entries, 0 to 5173\n",
      "Data columns (total 15 columns):\n",
      " #   Column            Non-Null Count  Dtype  \n",
      "---  ------            --------------  -----  \n",
      " 0   customerID        5174 non-null   object \n",
      " 1   BeginDate         5174 non-null   object \n",
      " 2   EndDate           5174 non-null   object \n",
      " 3   Type              5174 non-null   object \n",
      " 4   PaperlessBilling  5174 non-null   object \n",
      " 5   PaymentMethod     5174 non-null   object \n",
      " 6   MonthlyCharges    5174 non-null   float64\n",
      " 7   TotalCharges      5163 non-null   float64\n",
      " 8   InternetService   3761 non-null   object \n",
      " 9   OnlineSecurity    3761 non-null   object \n",
      " 10  OnlineBackup      3761 non-null   object \n",
      " 11  DeviceProtection  3761 non-null   object \n",
      " 12  TechSupport       3761 non-null   object \n",
      " 13  StreamingTV       3761 non-null   object \n",
      " 14  StreamingMovies   3761 non-null   object \n",
      "dtypes: float64(2), object(13)\n",
      "memory usage: 646.8+ KB\n",
      "None\n"
     ]
    }
   ],
   "source": [
    "#определение доли интернет-пользователей\n",
    "data_on_int = data_on.merge(internet, how='left', on='customerID')\n",
    "print(data_on_int.info())"
   ]
  },
  {
   "cell_type": "code",
   "execution_count": 17,
   "id": "d85b064a",
   "metadata": {},
   "outputs": [
    {
     "name": "stdout",
     "output_type": "stream",
     "text": [
      "Количество пользователей без интернет услуг\n",
      "1413\n"
     ]
    }
   ],
   "source": [
    "print('Количество пользователей без интернет услуг')\n",
    "print(data_on_int['OnlineSecurity'].isna().sum())"
   ]
  },
  {
   "cell_type": "code",
   "execution_count": 18,
   "id": "2f73e040",
   "metadata": {},
   "outputs": [],
   "source": [
    "data_on_int['OnlineSecurity'] = data_on_int['OnlineSecurity'].replace('No', 1)\n",
    "data_on_int['OnlineSecurity'] = data_on_int['OnlineSecurity'].replace('Yes', 1)\n",
    "data_on_int['OnlineSecurity'] = data_on_int['OnlineSecurity'].fillna(0)"
   ]
  },
  {
   "cell_type": "code",
   "execution_count": 19,
   "id": "96088769",
   "metadata": {},
   "outputs": [
    {
     "name": "stdout",
     "output_type": "stream",
     "text": [
      "1.0    3761\n",
      "0.0    1413\n",
      "Name: OnlineSecurity, dtype: int64\n"
     ]
    }
   ],
   "source": [
    "print(data_on_int['OnlineSecurity'].value_counts())"
   ]
  },
  {
   "cell_type": "code",
   "execution_count": 20,
   "id": "3ae5f8c4",
   "metadata": {
    "scrolled": true
   },
   "outputs": [
    {
     "name": "stdout",
     "output_type": "stream",
     "text": [
      "Доля пользователей интеренет услуг среди активных клиентов\n"
     ]
    },
    {
     "data": {
      "image/png": "[encoded data removed]",
      "text/plain": [
       "<Figure size 432x288 with 1 Axes>"
      ]
     },
     "metadata": {},
     "output_type": "display_data"
    },
    {
     "name": "stdout",
     "output_type": "stream",
     "text": [
      "\n",
      "Доля пользователей интеренет услуг среди активных клиентов: 72.66 %\n"
     ]
    }
   ],
   "source": [
    "x = np.array(data_on_int['OnlineSecurity'].value_counts())\n",
    "mylabels = [\"Пользуются\", \"Не пользуются\"]\n",
    "myexplode = [0, 0.2]\n",
    "\n",
    "print('Доля пользователей интеренет услуг среди активных клиентов')\n",
    "plt.pie(x, labels = mylabels, explode = myexplode)\n",
    "plt.show()\n",
    "print()\n",
    "print('Доля пользователей интеренет услуг среди активных клиентов:', round(((3761/5176)*100), 2),'%')"
   ]
  },
  {
   "cell_type": "markdown",
   "id": "1bb4a89b",
   "metadata": {},
   "source": [
    "## Выводы "
   ]
  },
  {
   "cell_type": "markdown",
   "id": "de1114d2",
   "metadata": {},
   "source": [
    "На основании проведенной работы можно следать следующие выводы:\n",
    "\n",
    "1. НЕ активные пользователи тратили на услуги больше. Об этом говорит и среднее, и медианной значение ежемесячных платежей. Следовательно, способы удержания клиентов следует направить на более платежеспособных клиентов.\n",
    "2. Чаще всего покидают компанию клиенты, которые тратят более 70 денежных единиц.\n",
    "3. Из анализа активных пользователей видно, что почти все пользователи (90%) пользуются телефонной связью и 73% пользуются интернетом."
   ]
  },
  {
   "cell_type": "code",
   "execution_count": null,
   "id": "2aa73284",
   "metadata": {},
   "outputs": [],
   "source": []
  }
 ],
 "metadata": {
  "kernelspec": {
   "display_name": "Python 3 (ipykernel)",
   "language": "python",
   "name": "python3"
  },
  "language_info": {
   "codemirror_mode": {
    "name": "ipython",
    "version": 3
   },
   "file_extension": ".py",
   "mimetype": "text/x-python",
   "name": "python",
   "nbconvert_exporter": "python",
   "pygments_lexer": "ipython3",
   "version": "3.9.10"
  },
  "toc": {
   "base_numbering": 1,
   "nav_menu": {},
   "number_sections": true,
   "sideBar": true,
   "skip_h1_title": true,
   "title_cell": "Содержание",
   "title_sidebar": "Contents",
   "toc_cell": true,
   "toc_position": {},
   "toc_section_display": true,
   "toc_window_display": false
  }
 },
 "nbformat": 4,
 "nbformat_minor": 5
}
